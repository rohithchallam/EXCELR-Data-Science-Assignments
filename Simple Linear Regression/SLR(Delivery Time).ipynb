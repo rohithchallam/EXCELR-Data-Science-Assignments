{
 "cells": [
  {
   "cell_type": "code",
   "execution_count": 5,
   "id": "9a9f4d0a",
   "metadata": {
    "ExecuteTime": {
     "end_time": "2022-10-27T06:33:02.879941Z",
     "start_time": "2022-10-27T06:33:02.863914Z"
    }
   },
   "outputs": [],
   "source": [
    "# import necessary libraries"
   ]
  },
  {
   "cell_type": "code",
   "execution_count": 6,
   "id": "c9194402",
   "metadata": {
    "ExecuteTime": {
     "end_time": "2022-10-27T06:33:02.895971Z",
     "start_time": "2022-10-27T06:33:02.880947Z"
    }
   },
   "outputs": [],
   "source": [
    "import pandas as pd \n",
    "import numpy as np\n",
    "import matplotlib.pyplot as plt\n",
    "import seaborn as sns\n",
    "from sklearn.model_selection import train_test_split\n",
    "import math "
   ]
  },
  {
   "cell_type": "code",
   "execution_count": 7,
   "id": "5810d5ce",
   "metadata": {
    "ExecuteTime": {
     "end_time": "2022-10-27T06:33:02.912747Z",
     "start_time": "2022-10-27T06:33:02.895971Z"
    }
   },
   "outputs": [],
   "source": [
    "# getting data"
   ]
  },
  {
   "cell_type": "code",
   "execution_count": 8,
   "id": "837f853e",
   "metadata": {
    "ExecuteTime": {
     "end_time": "2022-10-27T06:33:02.937683Z",
     "start_time": "2022-10-27T06:33:02.912747Z"
    }
   },
   "outputs": [
    {
     "data": {
      "text/html": [
       "<div>\n",
       "<style scoped>\n",
       "    .dataframe tbody tr th:only-of-type {\n",
       "        vertical-align: middle;\n",
       "    }\n",
       "\n",
       "    .dataframe tbody tr th {\n",
       "        vertical-align: top;\n",
       "    }\n",
       "\n",
       "    .dataframe thead th {\n",
       "        text-align: right;\n",
       "    }\n",
       "</style>\n",
       "<table border=\"1\" class=\"dataframe\">\n",
       "  <thead>\n",
       "    <tr style=\"text-align: right;\">\n",
       "      <th></th>\n",
       "      <th>Delivery Time</th>\n",
       "      <th>Sorting Time</th>\n",
       "    </tr>\n",
       "  </thead>\n",
       "  <tbody>\n",
       "    <tr>\n",
       "      <th>0</th>\n",
       "      <td>21.00</td>\n",
       "      <td>10</td>\n",
       "    </tr>\n",
       "    <tr>\n",
       "      <th>1</th>\n",
       "      <td>13.50</td>\n",
       "      <td>4</td>\n",
       "    </tr>\n",
       "    <tr>\n",
       "      <th>2</th>\n",
       "      <td>19.75</td>\n",
       "      <td>6</td>\n",
       "    </tr>\n",
       "    <tr>\n",
       "      <th>3</th>\n",
       "      <td>24.00</td>\n",
       "      <td>9</td>\n",
       "    </tr>\n",
       "    <tr>\n",
       "      <th>4</th>\n",
       "      <td>29.00</td>\n",
       "      <td>10</td>\n",
       "    </tr>\n",
       "    <tr>\n",
       "      <th>5</th>\n",
       "      <td>15.35</td>\n",
       "      <td>6</td>\n",
       "    </tr>\n",
       "    <tr>\n",
       "      <th>6</th>\n",
       "      <td>19.00</td>\n",
       "      <td>7</td>\n",
       "    </tr>\n",
       "    <tr>\n",
       "      <th>7</th>\n",
       "      <td>9.50</td>\n",
       "      <td>3</td>\n",
       "    </tr>\n",
       "    <tr>\n",
       "      <th>8</th>\n",
       "      <td>17.90</td>\n",
       "      <td>10</td>\n",
       "    </tr>\n",
       "    <tr>\n",
       "      <th>9</th>\n",
       "      <td>18.75</td>\n",
       "      <td>9</td>\n",
       "    </tr>\n",
       "    <tr>\n",
       "      <th>10</th>\n",
       "      <td>19.83</td>\n",
       "      <td>8</td>\n",
       "    </tr>\n",
       "    <tr>\n",
       "      <th>11</th>\n",
       "      <td>10.75</td>\n",
       "      <td>4</td>\n",
       "    </tr>\n",
       "    <tr>\n",
       "      <th>12</th>\n",
       "      <td>16.68</td>\n",
       "      <td>7</td>\n",
       "    </tr>\n",
       "    <tr>\n",
       "      <th>13</th>\n",
       "      <td>11.50</td>\n",
       "      <td>3</td>\n",
       "    </tr>\n",
       "    <tr>\n",
       "      <th>14</th>\n",
       "      <td>12.03</td>\n",
       "      <td>3</td>\n",
       "    </tr>\n",
       "    <tr>\n",
       "      <th>15</th>\n",
       "      <td>14.88</td>\n",
       "      <td>4</td>\n",
       "    </tr>\n",
       "    <tr>\n",
       "      <th>16</th>\n",
       "      <td>13.75</td>\n",
       "      <td>6</td>\n",
       "    </tr>\n",
       "    <tr>\n",
       "      <th>17</th>\n",
       "      <td>18.11</td>\n",
       "      <td>7</td>\n",
       "    </tr>\n",
       "    <tr>\n",
       "      <th>18</th>\n",
       "      <td>8.00</td>\n",
       "      <td>2</td>\n",
       "    </tr>\n",
       "    <tr>\n",
       "      <th>19</th>\n",
       "      <td>17.83</td>\n",
       "      <td>7</td>\n",
       "    </tr>\n",
       "    <tr>\n",
       "      <th>20</th>\n",
       "      <td>21.50</td>\n",
       "      <td>5</td>\n",
       "    </tr>\n",
       "  </tbody>\n",
       "</table>\n",
       "</div>"
      ],
      "text/plain": [
       "    Delivery Time  Sorting Time\n",
       "0           21.00            10\n",
       "1           13.50             4\n",
       "2           19.75             6\n",
       "3           24.00             9\n",
       "4           29.00            10\n",
       "5           15.35             6\n",
       "6           19.00             7\n",
       "7            9.50             3\n",
       "8           17.90            10\n",
       "9           18.75             9\n",
       "10          19.83             8\n",
       "11          10.75             4\n",
       "12          16.68             7\n",
       "13          11.50             3\n",
       "14          12.03             3\n",
       "15          14.88             4\n",
       "16          13.75             6\n",
       "17          18.11             7\n",
       "18           8.00             2\n",
       "19          17.83             7\n",
       "20          21.50             5"
      ]
     },
     "execution_count": 8,
     "metadata": {},
     "output_type": "execute_result"
    }
   ],
   "source": [
    "df = pd.read_csv('delivery_time.csv')\n",
    "df"
   ]
  },
  {
   "cell_type": "code",
   "execution_count": 9,
   "id": "843e5989",
   "metadata": {
    "ExecuteTime": {
     "end_time": "2022-10-27T06:33:02.954158Z",
     "start_time": "2022-10-27T06:33:02.937683Z"
    }
   },
   "outputs": [
    {
     "data": {
      "text/plain": [
       "Delivery Time    0\n",
       "Sorting Time     0\n",
       "dtype: int64"
      ]
     },
     "execution_count": 9,
     "metadata": {},
     "output_type": "execute_result"
    }
   ],
   "source": [
    "df.isna().sum()"
   ]
  },
  {
   "cell_type": "code",
   "execution_count": 10,
   "id": "5faaa499",
   "metadata": {
    "ExecuteTime": {
     "end_time": "2022-10-27T06:33:02.970639Z",
     "start_time": "2022-10-27T06:33:02.954158Z"
    }
   },
   "outputs": [
    {
     "data": {
      "text/plain": [
       "(21, 2)"
      ]
     },
     "execution_count": 10,
     "metadata": {},
     "output_type": "execute_result"
    }
   ],
   "source": [
    "df.shape"
   ]
  },
  {
   "cell_type": "code",
   "execution_count": 11,
   "id": "e119043b",
   "metadata": {
    "ExecuteTime": {
     "end_time": "2022-10-27T06:33:02.994943Z",
     "start_time": "2022-10-27T06:33:02.970639Z"
    }
   },
   "outputs": [
    {
     "data": {
      "text/html": [
       "<div>\n",
       "<style scoped>\n",
       "    .dataframe tbody tr th:only-of-type {\n",
       "        vertical-align: middle;\n",
       "    }\n",
       "\n",
       "    .dataframe tbody tr th {\n",
       "        vertical-align: top;\n",
       "    }\n",
       "\n",
       "    .dataframe thead th {\n",
       "        text-align: right;\n",
       "    }\n",
       "</style>\n",
       "<table border=\"1\" class=\"dataframe\">\n",
       "  <thead>\n",
       "    <tr style=\"text-align: right;\">\n",
       "      <th></th>\n",
       "      <th>Delivery Time</th>\n",
       "      <th>Sorting Time</th>\n",
       "    </tr>\n",
       "  </thead>\n",
       "  <tbody>\n",
       "    <tr>\n",
       "      <th>count</th>\n",
       "      <td>21.000000</td>\n",
       "      <td>21.000000</td>\n",
       "    </tr>\n",
       "    <tr>\n",
       "      <th>mean</th>\n",
       "      <td>16.790952</td>\n",
       "      <td>6.190476</td>\n",
       "    </tr>\n",
       "    <tr>\n",
       "      <th>std</th>\n",
       "      <td>5.074901</td>\n",
       "      <td>2.542028</td>\n",
       "    </tr>\n",
       "    <tr>\n",
       "      <th>min</th>\n",
       "      <td>8.000000</td>\n",
       "      <td>2.000000</td>\n",
       "    </tr>\n",
       "    <tr>\n",
       "      <th>25%</th>\n",
       "      <td>13.500000</td>\n",
       "      <td>4.000000</td>\n",
       "    </tr>\n",
       "    <tr>\n",
       "      <th>50%</th>\n",
       "      <td>17.830000</td>\n",
       "      <td>6.000000</td>\n",
       "    </tr>\n",
       "    <tr>\n",
       "      <th>75%</th>\n",
       "      <td>19.750000</td>\n",
       "      <td>8.000000</td>\n",
       "    </tr>\n",
       "    <tr>\n",
       "      <th>max</th>\n",
       "      <td>29.000000</td>\n",
       "      <td>10.000000</td>\n",
       "    </tr>\n",
       "  </tbody>\n",
       "</table>\n",
       "</div>"
      ],
      "text/plain": [
       "       Delivery Time  Sorting Time\n",
       "count      21.000000     21.000000\n",
       "mean       16.790952      6.190476\n",
       "std         5.074901      2.542028\n",
       "min         8.000000      2.000000\n",
       "25%        13.500000      4.000000\n",
       "50%        17.830000      6.000000\n",
       "75%        19.750000      8.000000\n",
       "max        29.000000     10.000000"
      ]
     },
     "execution_count": 11,
     "metadata": {},
     "output_type": "execute_result"
    }
   ],
   "source": [
    "df.describe()"
   ]
  },
  {
   "cell_type": "code",
   "execution_count": 12,
   "id": "9cabbe44",
   "metadata": {
    "ExecuteTime": {
     "end_time": "2022-10-27T06:33:03.003311Z",
     "start_time": "2022-10-27T06:33:02.994943Z"
    }
   },
   "outputs": [],
   "source": [
    "# visualisation"
   ]
  },
  {
   "cell_type": "code",
   "execution_count": 13,
   "id": "d910e1a9",
   "metadata": {
    "ExecuteTime": {
     "end_time": "2022-10-27T06:33:03.019770Z",
     "start_time": "2022-10-27T06:33:03.003311Z"
    }
   },
   "outputs": [],
   "source": [
    "# histogram"
   ]
  },
  {
   "cell_type": "code",
   "execution_count": 14,
   "id": "41177171",
   "metadata": {
    "ExecuteTime": {
     "end_time": "2022-10-27T06:33:03.271078Z",
     "start_time": "2022-10-27T06:33:03.019770Z"
    }
   },
   "outputs": [
    {
     "data": {
      "image/png": "[encoded data removed]",
      "text/plain": [
       "<Figure size 432x288 with 1 Axes>"
      ]
     },
     "metadata": {
      "needs_background": "light"
     },
     "output_type": "display_data"
    }
   ],
   "source": [
    "plt.hist(df['Delivery Time'])\n",
    "plt.show()"
   ]
  },
  {
   "cell_type": "code",
   "execution_count": 15,
   "id": "a11ff9ec",
   "metadata": {
    "ExecuteTime": {
     "end_time": "2022-10-27T06:33:03.479867Z",
     "start_time": "2022-10-27T06:33:03.271078Z"
    }
   },
   "outputs": [
    {
     "data": {
      "image/png": "[encoded data removed]",
      "text/plain": [
       "<Figure size 432x288 with 1 Axes>"
      ]
     },
     "metadata": {
      "needs_background": "light"
     },
     "output_type": "display_data"
    }
   ],
   "source": [
    "plt.hist(df['Sorting Time'])\n",
    "plt.show()"
   ]
  },
  {
   "cell_type": "code",
   "execution_count": 16,
   "id": "5acdd750",
   "metadata": {
    "ExecuteTime": {
     "end_time": "2022-10-27T06:33:03.737417Z",
     "start_time": "2022-10-27T06:33:03.479867Z"
    }
   },
   "outputs": [
    {
     "data": {
      "text/plain": [
       "<seaborn.axisgrid.FacetGrid at 0x23a2b4765b0>"
      ]
     },
     "execution_count": 16,
     "metadata": {},
     "output_type": "execute_result"
    },
    {
     "data": {
      "image/png": "[encoded data removed]",
      "text/plain": [
       "<Figure size 360x360 with 1 Axes>"
      ]
     },
     "metadata": {
      "needs_background": "light"
     },
     "output_type": "display_data"
    }
   ],
   "source": [
    "sns.displot(df['Sorting Time'])\n"
   ]
  },
  {
   "cell_type": "code",
   "execution_count": 17,
   "id": "bb4563ed",
   "metadata": {
    "ExecuteTime": {
     "end_time": "2022-10-27T06:33:04.009679Z",
     "start_time": "2022-10-27T06:33:03.737417Z"
    }
   },
   "outputs": [
    {
     "data": {
      "text/plain": [
       "<seaborn.axisgrid.FacetGrid at 0x23a2b3ffa00>"
      ]
     },
     "execution_count": 17,
     "metadata": {},
     "output_type": "execute_result"
    },
    {
     "data": {
      "image/png": "[encoded data removed]",
      "text/plain": [
       "<Figure size 360x360 with 1 Axes>"
      ]
     },
     "metadata": {
      "needs_background": "light"
     },
     "output_type": "display_data"
    }
   ],
   "source": [
    "sns.displot(df['Delivery Time'])"
   ]
  },
  {
   "cell_type": "code",
   "execution_count": 18,
   "id": "ebf44c71",
   "metadata": {
    "ExecuteTime": {
     "end_time": "2022-10-27T06:33:04.026552Z",
     "start_time": "2022-10-27T06:33:04.009679Z"
    }
   },
   "outputs": [],
   "source": [
    "# boxplot"
   ]
  },
  {
   "cell_type": "code",
   "execution_count": 19,
   "id": "b39a8fbd",
   "metadata": {
    "ExecuteTime": {
     "end_time": "2022-10-27T06:33:04.176904Z",
     "start_time": "2022-10-27T06:33:04.026552Z"
    }
   },
   "outputs": [
    {
     "data": {
      "image/png": "[encoded data removed]",
      "text/plain": [
       "<Figure size 432x288 with 1 Axes>"
      ]
     },
     "metadata": {
      "needs_background": "light"
     },
     "output_type": "display_data"
    }
   ],
   "source": [
    "plt.boxplot(df['Sorting Time'])\n",
    "plt.xlabel('Sorting Time')\n",
    "plt.ylabel('frequency')\n",
    "plt.show()"
   ]
  },
  {
   "cell_type": "code",
   "execution_count": 20,
   "id": "a09a3755",
   "metadata": {
    "ExecuteTime": {
     "end_time": "2022-10-27T06:33:04.301343Z",
     "start_time": "2022-10-27T06:33:04.176904Z"
    }
   },
   "outputs": [
    {
     "data": {
      "image/png": "[encoded data removed]",
      "text/plain": [
       "<Figure size 432x288 with 1 Axes>"
      ]
     },
     "metadata": {
      "needs_background": "light"
     },
     "output_type": "display_data"
    }
   ],
   "source": [
    "plt.boxplot(df['Delivery Time'])\n",
    "plt.xlabel('Delivery Time')\n",
    "plt.ylabel('frequency')\n",
    "plt.show()"
   ]
  },
  {
   "cell_type": "code",
   "execution_count": 21,
   "id": "50f0dd29",
   "metadata": {
    "ExecuteTime": {
     "end_time": "2022-10-27T06:33:04.309413Z",
     "start_time": "2022-10-27T06:33:04.301343Z"
    }
   },
   "outputs": [],
   "source": [
    "# distribution plot"
   ]
  },
  {
   "cell_type": "code",
   "execution_count": 22,
   "id": "52c733d9",
   "metadata": {
    "ExecuteTime": {
     "end_time": "2022-10-27T06:33:05.447824Z",
     "start_time": "2022-10-27T06:33:04.309413Z"
    }
   },
   "outputs": [
    {
     "name": "stderr",
     "output_type": "stream",
     "text": [
      "C:\\Users\\Rohith Challam\\anaconda3\\lib\\site-packages\\seaborn\\distributions.py:2619: FutureWarning: `distplot` is a deprecated function and will be removed in a future version. Please adapt your code to use either `displot` (a figure-level function with similar flexibility) or `histplot` (an axes-level function for histograms).\n",
      "  warnings.warn(msg, FutureWarning)\n"
     ]
    },
    {
     "data": {
      "text/plain": [
       "<AxesSubplot:xlabel='Sorting Time', ylabel='Density'>"
      ]
     },
     "execution_count": 22,
     "metadata": {},
     "output_type": "execute_result"
    },
    {
     "data": {
      "image/png": "[encoded data removed]",
      "text/plain": [
       "<Figure size 432x288 with 1 Axes>"
      ]
     },
     "metadata": {
      "needs_background": "light"
     },
     "output_type": "display_data"
    }
   ],
   "source": [
    "sns.distplot(df['Sorting Time'])"
   ]
  },
  {
   "cell_type": "code",
   "execution_count": 23,
   "id": "4ea83ac4",
   "metadata": {
    "ExecuteTime": {
     "end_time": "2022-10-27T06:33:05.676642Z",
     "start_time": "2022-10-27T06:33:05.447824Z"
    }
   },
   "outputs": [
    {
     "name": "stderr",
     "output_type": "stream",
     "text": [
      "C:\\Users\\Rohith Challam\\anaconda3\\lib\\site-packages\\seaborn\\distributions.py:2619: FutureWarning: `distplot` is a deprecated function and will be removed in a future version. Please adapt your code to use either `displot` (a figure-level function with similar flexibility) or `histplot` (an axes-level function for histograms).\n",
      "  warnings.warn(msg, FutureWarning)\n"
     ]
    },
    {
     "data": {
      "text/plain": [
       "<AxesSubplot:xlabel='Delivery Time', ylabel='Density'>"
      ]
     },
     "execution_count": 23,
     "metadata": {},
     "output_type": "execute_result"
    },
    {
     "data": {
      "image/png": "[encoded data removed]",
      "text/plain": [
       "<Figure size 432x288 with 1 Axes>"
      ]
     },
     "metadata": {
      "needs_background": "light"
     },
     "output_type": "display_data"
    }
   ],
   "source": [
    "sns.distplot(df['Delivery Time'])"
   ]
  },
  {
   "cell_type": "code",
   "execution_count": 24,
   "id": "95516bbd",
   "metadata": {
    "ExecuteTime": {
     "end_time": "2022-10-27T06:33:05.689383Z",
     "start_time": "2022-10-27T06:33:05.678652Z"
    }
   },
   "outputs": [],
   "source": [
    "# scatter plot"
   ]
  },
  {
   "cell_type": "code",
   "execution_count": 25,
   "id": "05348c92",
   "metadata": {
    "ExecuteTime": {
     "end_time": "2022-10-27T06:33:05.892319Z",
     "start_time": "2022-10-27T06:33:05.689383Z"
    }
   },
   "outputs": [
    {
     "data": {
      "image/png": "[encoded data removed]",
      "text/plain": [
       "<Figure size 432x288 with 1 Axes>"
      ]
     },
     "metadata": {
      "needs_background": "light"
     },
     "output_type": "display_data"
    }
   ],
   "source": [
    "plt.plot(df['Sorting Time'],df['Delivery Time'] , 'bo')\n",
    "plt.xlabel('Sorting Time')\n",
    "plt.ylabel('Delivery Time')\n",
    "plt.show()"
   ]
  },
  {
   "cell_type": "code",
   "execution_count": 26,
   "id": "034c6dc3",
   "metadata": {
    "ExecuteTime": {
     "end_time": "2022-10-27T06:33:05.900657Z",
     "start_time": "2022-10-27T06:33:05.892319Z"
    }
   },
   "outputs": [],
   "source": [
    "# Linear regression"
   ]
  },
  {
   "cell_type": "code",
   "execution_count": 27,
   "id": "25d8ae29",
   "metadata": {
    "ExecuteTime": {
     "end_time": "2022-10-27T06:33:05.917184Z",
     "start_time": "2022-10-27T06:33:05.902698Z"
    }
   },
   "outputs": [],
   "source": [
    "x = df[['Sorting Time']]\n",
    "y = df[['Delivery Time']]"
   ]
  },
  {
   "cell_type": "code",
   "execution_count": 28,
   "id": "3957be94",
   "metadata": {
    "ExecuteTime": {
     "end_time": "2022-10-27T06:33:06.113460Z",
     "start_time": "2022-10-27T06:33:05.917184Z"
    }
   },
   "outputs": [],
   "source": [
    "import statsmodels.formula.api as smf\n",
    "reg = smf.ols('y~x',data = df).fit()"
   ]
  },
  {
   "cell_type": "code",
   "execution_count": 29,
   "id": "4aabf9b0",
   "metadata": {
    "ExecuteTime": {
     "end_time": "2022-10-27T06:33:06.129251Z",
     "start_time": "2022-10-27T06:33:06.117452Z"
    }
   },
   "outputs": [],
   "source": [
    "# coefficients"
   ]
  },
  {
   "cell_type": "code",
   "execution_count": 30,
   "id": "25a4d7c2",
   "metadata": {
    "ExecuteTime": {
     "end_time": "2022-10-27T06:33:06.153594Z",
     "start_time": "2022-10-27T06:33:06.129251Z"
    }
   },
   "outputs": [
    {
     "data": {
      "text/plain": [
       "Intercept    6.582734\n",
       "x            1.649020\n",
       "dtype: float64"
      ]
     },
     "execution_count": 30,
     "metadata": {},
     "output_type": "execute_result"
    }
   ],
   "source": [
    "coefficients=reg.params\n",
    "coefficients"
   ]
  },
  {
   "cell_type": "code",
   "execution_count": 31,
   "id": "0f9ec502",
   "metadata": {
    "ExecuteTime": {
     "end_time": "2022-10-27T06:33:06.185795Z",
     "start_time": "2022-10-27T06:33:06.155779Z"
    }
   },
   "outputs": [
    {
     "data": {
      "text/html": [
       "<table class=\"simpletable\">\n",
       "<caption>OLS Regression Results</caption>\n",
       "<tr>\n",
       "  <th>Dep. Variable:</th>            <td>y</td>        <th>  R-squared:         </th> <td>   0.682</td>\n",
       "</tr>\n",
       "<tr>\n",
       "  <th>Model:</th>                   <td>OLS</td>       <th>  Adj. R-squared:    </th> <td>   0.666</td>\n",
       "</tr>\n",
       "<tr>\n",
       "  <th>Method:</th>             <td>Least Squares</td>  <th>  F-statistic:       </th> <td>   40.80</td>\n",
       "</tr>\n",
       "<tr>\n",
       "  <th>Date:</th>             <td>Thu, 27 Oct 2022</td> <th>  Prob (F-statistic):</th> <td>3.98e-06</td>\n",
       "</tr>\n",
       "<tr>\n",
       "  <th>Time:</th>                 <td>12:03:06</td>     <th>  Log-Likelihood:    </th> <td> -51.357</td>\n",
       "</tr>\n",
       "<tr>\n",
       "  <th>No. Observations:</th>      <td>    21</td>      <th>  AIC:               </th> <td>   106.7</td>\n",
       "</tr>\n",
       "<tr>\n",
       "  <th>Df Residuals:</th>          <td>    19</td>      <th>  BIC:               </th> <td>   108.8</td>\n",
       "</tr>\n",
       "<tr>\n",
       "  <th>Df Model:</th>              <td>     1</td>      <th>                     </th>     <td> </td>   \n",
       "</tr>\n",
       "<tr>\n",
       "  <th>Covariance Type:</th>      <td>nonrobust</td>    <th>                     </th>     <td> </td>   \n",
       "</tr>\n",
       "</table>\n",
       "<table class=\"simpletable\">\n",
       "<tr>\n",
       "      <td></td>         <th>coef</th>     <th>std err</th>      <th>t</th>      <th>P>|t|</th>  <th>[0.025</th>    <th>0.975]</th>  \n",
       "</tr>\n",
       "<tr>\n",
       "  <th>Intercept</th> <td>    6.5827</td> <td>    1.722</td> <td>    3.823</td> <td> 0.001</td> <td>    2.979</td> <td>   10.186</td>\n",
       "</tr>\n",
       "<tr>\n",
       "  <th>x</th>         <td>    1.6490</td> <td>    0.258</td> <td>    6.387</td> <td> 0.000</td> <td>    1.109</td> <td>    2.189</td>\n",
       "</tr>\n",
       "</table>\n",
       "<table class=\"simpletable\">\n",
       "<tr>\n",
       "  <th>Omnibus:</th>       <td> 3.649</td> <th>  Durbin-Watson:     </th> <td>   1.248</td>\n",
       "</tr>\n",
       "<tr>\n",
       "  <th>Prob(Omnibus):</th> <td> 0.161</td> <th>  Jarque-Bera (JB):  </th> <td>   2.086</td>\n",
       "</tr>\n",
       "<tr>\n",
       "  <th>Skew:</th>          <td> 0.750</td> <th>  Prob(JB):          </th> <td>   0.352</td>\n",
       "</tr>\n",
       "<tr>\n",
       "  <th>Kurtosis:</th>      <td> 3.367</td> <th>  Cond. No.          </th> <td>    18.3</td>\n",
       "</tr>\n",
       "</table><br/><br/>Notes:<br/>[1] Standard Errors assume that the covariance matrix of the errors is correctly specified."
      ],
      "text/plain": [
       "<class 'statsmodels.iolib.summary.Summary'>\n",
       "\"\"\"\n",
       "                            OLS Regression Results                            \n",
       "==============================================================================\n",
       "Dep. Variable:                      y   R-squared:                       0.682\n",
       "Model:                            OLS   Adj. R-squared:                  0.666\n",
       "Method:                 Least Squares   F-statistic:                     40.80\n",
       "Date:                Thu, 27 Oct 2022   Prob (F-statistic):           3.98e-06\n",
       "Time:                        12:03:06   Log-Likelihood:                -51.357\n",
       "No. Observations:                  21   AIC:                             106.7\n",
       "Df Residuals:                      19   BIC:                             108.8\n",
       "Df Model:                           1                                         \n",
       "Covariance Type:            nonrobust                                         \n",
       "==============================================================================\n",
       "                 coef    std err          t      P>|t|      [0.025      0.975]\n",
       "------------------------------------------------------------------------------\n",
       "Intercept      6.5827      1.722      3.823      0.001       2.979      10.186\n",
       "x              1.6490      0.258      6.387      0.000       1.109       2.189\n",
       "==============================================================================\n",
       "Omnibus:                        3.649   Durbin-Watson:                   1.248\n",
       "Prob(Omnibus):                  0.161   Jarque-Bera (JB):                2.086\n",
       "Skew:                           0.750   Prob(JB):                        0.352\n",
       "Kurtosis:                       3.367   Cond. No.                         18.3\n",
       "==============================================================================\n",
       "\n",
       "Notes:\n",
       "[1] Standard Errors assume that the covariance matrix of the errors is correctly specified.\n",
       "\"\"\""
      ]
     },
     "execution_count": 31,
     "metadata": {},
     "output_type": "execute_result"
    }
   ],
   "source": [
    "reg.summary()"
   ]
  },
  {
   "cell_type": "code",
   "execution_count": 32,
   "id": "e19d2c08",
   "metadata": {
    "ExecuteTime": {
     "end_time": "2022-10-27T06:33:06.201535Z",
     "start_time": "2022-10-27T06:33:06.188501Z"
    }
   },
   "outputs": [],
   "source": [
    "# R-squared:0.682 [can be improved]\n",
    "# df['Sorting Time'] =P>|t|:0.000 [Sorting Time is significant value to determine Delivery Time]\n",
    "# degrees of freedom = (n-2) => 21=2=19"
   ]
  },
  {
   "cell_type": "code",
   "execution_count": 33,
   "id": "4e85c4d8",
   "metadata": {
    "ExecuteTime": {
     "end_time": "2022-10-27T06:33:06.217634Z",
     "start_time": "2022-10-27T06:33:06.205098Z"
    }
   },
   "outputs": [],
   "source": [
    "# residuals"
   ]
  },
  {
   "cell_type": "code",
   "execution_count": 34,
   "id": "36f04eeb",
   "metadata": {
    "ExecuteTime": {
     "end_time": "2022-10-27T06:33:06.233533Z",
     "start_time": "2022-10-27T06:33:06.220823Z"
    }
   },
   "outputs": [
    {
     "data": {
      "text/plain": [
       "0    -2.072933\n",
       "1     0.321186\n",
       "2     3.273147\n",
       "3     2.576087\n",
       "4     5.927067\n",
       "5    -1.126853\n",
       "6     0.874127\n",
       "7    -2.029794\n",
       "8    -5.172933\n",
       "9    -2.673913\n",
       "10    0.055107\n",
       "11   -2.428814\n",
       "12   -1.445873\n",
       "13   -0.029794\n",
       "14    0.500206\n",
       "15    1.701186\n",
       "16   -2.726853\n",
       "17   -0.015873\n",
       "18   -1.880774\n",
       "19   -0.295873\n",
       "20    6.672167\n",
       "dtype: float64"
      ]
     },
     "execution_count": 34,
     "metadata": {},
     "output_type": "execute_result"
    }
   ],
   "source": [
    "residuals = reg.resid\n",
    "residuals"
   ]
  },
  {
   "cell_type": "code",
   "execution_count": 35,
   "id": "fd52f302",
   "metadata": {
    "ExecuteTime": {
     "end_time": "2022-10-27T06:33:06.249569Z",
     "start_time": "2022-10-27T06:33:06.233533Z"
    }
   },
   "outputs": [],
   "source": [
    "# standardized residuals"
   ]
  },
  {
   "cell_type": "code",
   "execution_count": 36,
   "id": "13e32a6c",
   "metadata": {
    "ExecuteTime": {
     "end_time": "2022-10-27T06:33:06.265918Z",
     "start_time": "2022-10-27T06:33:06.254190Z"
    }
   },
   "outputs": [
    {
     "data": {
      "text/plain": [
       "array([-0.70630355,  0.10943679,  1.11524837,  0.87774154,  2.01950985,\n",
       "       -0.383949  ,  0.2978383 , -0.69160484, -1.76255624, -0.9110735 ,\n",
       "        0.01877637, -0.82756157, -0.49264758, -0.0101515 ,  0.17043364,\n",
       "        0.5796396 , -0.92911167, -0.00540844, -0.64082979, -0.10081191,\n",
       "        2.27338512])"
      ]
     },
     "execution_count": 36,
     "metadata": {},
     "output_type": "execute_result"
    }
   ],
   "source": [
    "std_resid = reg.resid_pearson\n",
    "std_resid"
   ]
  },
  {
   "cell_type": "code",
   "execution_count": 37,
   "id": "34f96959",
   "metadata": {
    "ExecuteTime": {
     "end_time": "2022-10-27T06:33:06.281841Z",
     "start_time": "2022-10-27T06:33:06.271809Z"
    }
   },
   "outputs": [],
   "source": [
    "# prediction of delivery time taking sorting time use the regression model developed"
   ]
  },
  {
   "cell_type": "code",
   "execution_count": 38,
   "id": "6b7aa813",
   "metadata": {
    "ExecuteTime": {
     "end_time": "2022-10-27T06:33:06.297909Z",
     "start_time": "2022-10-27T06:33:06.281841Z"
    }
   },
   "outputs": [],
   "source": [
    "predict = reg.predict(x)"
   ]
  },
  {
   "cell_type": "code",
   "execution_count": 39,
   "id": "29c32824",
   "metadata": {
    "ExecuteTime": {
     "end_time": "2022-10-27T06:33:06.313577Z",
     "start_time": "2022-10-27T06:33:06.297909Z"
    }
   },
   "outputs": [
    {
     "data": {
      "text/plain": [
       "0     23.072933\n",
       "1     13.178814\n",
       "2     16.476853\n",
       "3     21.423913\n",
       "4     23.072933\n",
       "5     16.476853\n",
       "6     18.125873\n",
       "7     11.529794\n",
       "8     23.072933\n",
       "9     21.423913\n",
       "10    19.774893\n",
       "11    13.178814\n",
       "12    18.125873\n",
       "13    11.529794\n",
       "14    11.529794\n",
       "15    13.178814\n",
       "16    16.476853\n",
       "17    18.125873\n",
       "18     9.880774\n",
       "19    18.125873\n",
       "20    14.827833\n",
       "dtype: float64"
      ]
     },
     "execution_count": 39,
     "metadata": {},
     "output_type": "execute_result"
    }
   ],
   "source": [
    "predict"
   ]
  },
  {
   "cell_type": "code",
   "execution_count": 40,
   "id": "9bebb859",
   "metadata": {
    "ExecuteTime": {
     "end_time": "2022-10-27T06:33:06.329414Z",
     "start_time": "2022-10-27T06:33:06.313577Z"
    }
   },
   "outputs": [],
   "source": [
    "# calculating mse and rmse values"
   ]
  },
  {
   "cell_type": "code",
   "execution_count": 84,
   "id": "740b7bbb",
   "metadata": {
    "ExecuteTime": {
     "end_time": "2022-10-27T06:35:42.014282Z",
     "start_time": "2022-10-27T06:35:41.982544Z"
    }
   },
   "outputs": [
    {
     "data": {
      "text/plain": [
       "41.26310568497604"
      ]
     },
     "execution_count": 84,
     "metadata": {},
     "output_type": "execute_result"
    }
   ],
   "source": [
    "mse = np.mean((np.array(y)-np.array(predict))**2)\n",
    "mse"
   ]
  },
  {
   "cell_type": "code",
   "execution_count": 85,
   "id": "e7a660b5",
   "metadata": {
    "ExecuteTime": {
     "end_time": "2022-10-27T06:35:44.901786Z",
     "start_time": "2022-10-27T06:35:44.874882Z"
    }
   },
   "outputs": [
    {
     "data": {
      "text/plain": [
       "6.423636484498172"
      ]
     },
     "execution_count": 85,
     "metadata": {},
     "output_type": "execute_result"
    }
   ],
   "source": [
    "rmse = math.sqrt(mse)\n",
    "rmse"
   ]
  },
  {
   "cell_type": "code",
   "execution_count": 43,
   "id": "e6561d90",
   "metadata": {
    "ExecuteTime": {
     "end_time": "2022-10-27T06:33:06.369571Z",
     "start_time": "2022-10-27T06:33:06.355314Z"
    }
   },
   "outputs": [],
   "source": [
    "# plotting best fit line "
   ]
  },
  {
   "cell_type": "code",
   "execution_count": 44,
   "id": "b476bad1",
   "metadata": {
    "ExecuteTime": {
     "end_time": "2022-10-27T06:33:06.632655Z",
     "start_time": "2022-10-27T06:33:06.372147Z"
    }
   },
   "outputs": [
    {
     "data": {
      "image/png": "[encoded data removed]",
      "text/plain": [
       "<Figure size 432x288 with 1 Axes>"
      ]
     },
     "metadata": {
      "needs_background": "light"
     },
     "output_type": "display_data"
    }
   ],
   "source": [
    "plt.scatter(x=df['Sorting Time'],y=df['Delivery Time'])\n",
    "plt.plot(df['Sorting Time'] ,predict)\n",
    "plt.xlabel('Sorting Time')\n",
    "plt.ylabel('Delivery Time')\n",
    "plt.show()"
   ]
  },
  {
   "cell_type": "code",
   "execution_count": null,
   "id": "b6c88d4e",
   "metadata": {},
   "outputs": [],
   "source": [
    "rscore ="
   ]
  },
  {
   "cell_type": "code",
   "execution_count": 45,
   "id": "f73fc915",
   "metadata": {
    "ExecuteTime": {
     "end_time": "2022-10-27T06:33:06.648763Z",
     "start_time": "2022-10-27T06:33:06.632655Z"
    }
   },
   "outputs": [],
   "source": [
    "# applying log transformation to improve the model"
   ]
  },
  {
   "cell_type": "code",
   "execution_count": 46,
   "id": "6827a082",
   "metadata": {
    "ExecuteTime": {
     "end_time": "2022-10-27T06:33:06.664653Z",
     "start_time": "2022-10-27T06:33:06.648763Z"
    }
   },
   "outputs": [],
   "source": [
    "reg_log =smf.ols('y~np.log(x)',data=df).fit()"
   ]
  },
  {
   "cell_type": "code",
   "execution_count": 47,
   "id": "9b915d4a",
   "metadata": {
    "ExecuteTime": {
     "end_time": "2022-10-27T06:33:06.679936Z",
     "start_time": "2022-10-27T06:33:06.664653Z"
    }
   },
   "outputs": [
    {
     "data": {
      "text/plain": [
       "Intercept    1.159684\n",
       "np.log(x)    9.043413\n",
       "dtype: float64"
      ]
     },
     "execution_count": 47,
     "metadata": {},
     "output_type": "execute_result"
    }
   ],
   "source": [
    "coefficents_log = reg_log.params\n",
    "coefficents_log"
   ]
  },
  {
   "cell_type": "code",
   "execution_count": 48,
   "id": "98c7b23e",
   "metadata": {
    "ExecuteTime": {
     "end_time": "2022-10-27T06:33:06.703538Z",
     "start_time": "2022-10-27T06:33:06.679936Z"
    }
   },
   "outputs": [
    {
     "data": {
      "text/html": [
       "<table class=\"simpletable\">\n",
       "<caption>OLS Regression Results</caption>\n",
       "<tr>\n",
       "  <th>Dep. Variable:</th>            <td>y</td>        <th>  R-squared:         </th> <td>   0.695</td>\n",
       "</tr>\n",
       "<tr>\n",
       "  <th>Model:</th>                   <td>OLS</td>       <th>  Adj. R-squared:    </th> <td>   0.679</td>\n",
       "</tr>\n",
       "<tr>\n",
       "  <th>Method:</th>             <td>Least Squares</td>  <th>  F-statistic:       </th> <td>   43.39</td>\n",
       "</tr>\n",
       "<tr>\n",
       "  <th>Date:</th>             <td>Thu, 27 Oct 2022</td> <th>  Prob (F-statistic):</th> <td>2.64e-06</td>\n",
       "</tr>\n",
       "<tr>\n",
       "  <th>Time:</th>                 <td>12:03:06</td>     <th>  Log-Likelihood:    </th> <td> -50.912</td>\n",
       "</tr>\n",
       "<tr>\n",
       "  <th>No. Observations:</th>      <td>    21</td>      <th>  AIC:               </th> <td>   105.8</td>\n",
       "</tr>\n",
       "<tr>\n",
       "  <th>Df Residuals:</th>          <td>    19</td>      <th>  BIC:               </th> <td>   107.9</td>\n",
       "</tr>\n",
       "<tr>\n",
       "  <th>Df Model:</th>              <td>     1</td>      <th>                     </th>     <td> </td>   \n",
       "</tr>\n",
       "<tr>\n",
       "  <th>Covariance Type:</th>      <td>nonrobust</td>    <th>                     </th>     <td> </td>   \n",
       "</tr>\n",
       "</table>\n",
       "<table class=\"simpletable\">\n",
       "<tr>\n",
       "      <td></td>         <th>coef</th>     <th>std err</th>      <th>t</th>      <th>P>|t|</th>  <th>[0.025</th>    <th>0.975]</th>  \n",
       "</tr>\n",
       "<tr>\n",
       "  <th>Intercept</th> <td>    1.1597</td> <td>    2.455</td> <td>    0.472</td> <td> 0.642</td> <td>   -3.978</td> <td>    6.297</td>\n",
       "</tr>\n",
       "<tr>\n",
       "  <th>np.log(x)</th> <td>    9.0434</td> <td>    1.373</td> <td>    6.587</td> <td> 0.000</td> <td>    6.170</td> <td>   11.917</td>\n",
       "</tr>\n",
       "</table>\n",
       "<table class=\"simpletable\">\n",
       "<tr>\n",
       "  <th>Omnibus:</th>       <td> 5.552</td> <th>  Durbin-Watson:     </th> <td>   1.427</td>\n",
       "</tr>\n",
       "<tr>\n",
       "  <th>Prob(Omnibus):</th> <td> 0.062</td> <th>  Jarque-Bera (JB):  </th> <td>   3.481</td>\n",
       "</tr>\n",
       "<tr>\n",
       "  <th>Skew:</th>          <td> 0.946</td> <th>  Prob(JB):          </th> <td>   0.175</td>\n",
       "</tr>\n",
       "<tr>\n",
       "  <th>Kurtosis:</th>      <td> 3.628</td> <th>  Cond. No.          </th> <td>    9.08</td>\n",
       "</tr>\n",
       "</table><br/><br/>Notes:<br/>[1] Standard Errors assume that the covariance matrix of the errors is correctly specified."
      ],
      "text/plain": [
       "<class 'statsmodels.iolib.summary.Summary'>\n",
       "\"\"\"\n",
       "                            OLS Regression Results                            \n",
       "==============================================================================\n",
       "Dep. Variable:                      y   R-squared:                       0.695\n",
       "Model:                            OLS   Adj. R-squared:                  0.679\n",
       "Method:                 Least Squares   F-statistic:                     43.39\n",
       "Date:                Thu, 27 Oct 2022   Prob (F-statistic):           2.64e-06\n",
       "Time:                        12:03:06   Log-Likelihood:                -50.912\n",
       "No. Observations:                  21   AIC:                             105.8\n",
       "Df Residuals:                      19   BIC:                             107.9\n",
       "Df Model:                           1                                         \n",
       "Covariance Type:            nonrobust                                         \n",
       "==============================================================================\n",
       "                 coef    std err          t      P>|t|      [0.025      0.975]\n",
       "------------------------------------------------------------------------------\n",
       "Intercept      1.1597      2.455      0.472      0.642      -3.978       6.297\n",
       "np.log(x)      9.0434      1.373      6.587      0.000       6.170      11.917\n",
       "==============================================================================\n",
       "Omnibus:                        5.552   Durbin-Watson:                   1.427\n",
       "Prob(Omnibus):                  0.062   Jarque-Bera (JB):                3.481\n",
       "Skew:                           0.946   Prob(JB):                        0.175\n",
       "Kurtosis:                       3.628   Cond. No.                         9.08\n",
       "==============================================================================\n",
       "\n",
       "Notes:\n",
       "[1] Standard Errors assume that the covariance matrix of the errors is correctly specified.\n",
       "\"\"\""
      ]
     },
     "execution_count": 48,
     "metadata": {},
     "output_type": "execute_result"
    }
   ],
   "source": [
    "reg_log.summary()"
   ]
  },
  {
   "cell_type": "code",
   "execution_count": 49,
   "id": "d8488d15",
   "metadata": {
    "ExecuteTime": {
     "end_time": "2022-10-27T06:33:06.719214Z",
     "start_time": "2022-10-27T06:33:06.705185Z"
    }
   },
   "outputs": [],
   "source": [
    "# R-squared:0.695 [ slightly increased compared to previous model]"
   ]
  },
  {
   "cell_type": "code",
   "execution_count": 50,
   "id": "f2e57c41",
   "metadata": {
    "ExecuteTime": {
     "end_time": "2022-10-27T06:33:06.734981Z",
     "start_time": "2022-10-27T06:33:06.721944Z"
    }
   },
   "outputs": [],
   "source": [
    "# residuals"
   ]
  },
  {
   "cell_type": "code",
   "execution_count": 51,
   "id": "b73bedd3",
   "metadata": {
    "ExecuteTime": {
     "end_time": "2022-10-27T06:33:06.750751Z",
     "start_time": "2022-10-27T06:33:06.738740Z"
    }
   },
   "outputs": [
    {
     "data": {
      "text/plain": [
       "0    -0.982913\n",
       "1    -0.196517\n",
       "2     2.386695\n",
       "3     2.969906\n",
       "4     7.017087\n",
       "5    -2.013305\n",
       "6     0.242646\n",
       "7    -1.594889\n",
       "8    -4.082913\n",
       "9    -2.280094\n",
       "10   -0.134933\n",
       "11   -2.946517\n",
       "12   -2.077354\n",
       "13    0.405111\n",
       "14    0.935111\n",
       "15    1.183483\n",
       "16   -3.613305\n",
       "17   -0.647354\n",
       "18    0.571900\n",
       "19   -0.927354\n",
       "20    5.785504\n",
       "dtype: float64"
      ]
     },
     "execution_count": 51,
     "metadata": {},
     "output_type": "execute_result"
    }
   ],
   "source": [
    "residuals_log = reg_log.resid\n",
    "residuals_log"
   ]
  },
  {
   "cell_type": "code",
   "execution_count": 52,
   "id": "c4bde878",
   "metadata": {
    "ExecuteTime": {
     "end_time": "2022-10-27T06:33:06.766439Z",
     "start_time": "2022-10-27T06:33:06.750751Z"
    }
   },
   "outputs": [],
   "source": [
    "# standardisation of residuals"
   ]
  },
  {
   "cell_type": "code",
   "execution_count": 53,
   "id": "90f79d20",
   "metadata": {
    "ExecuteTime": {
     "end_time": "2022-10-27T06:33:06.782504Z",
     "start_time": "2022-10-27T06:33:06.766439Z"
    }
   },
   "outputs": [
    {
     "data": {
      "text/plain": [
       "array([-0.34207012, -0.06839109,  0.83061001,  1.0335774 ,  2.44206469,\n",
       "       -0.70066414,  0.08444506, -0.55504813, -1.42092236, -0.79351107,\n",
       "       -0.046959  , -1.02543743, -0.72295404,  0.14098557,  0.3254345 ,\n",
       "        0.41187217, -1.2574911 , -0.22528994,  0.19903082, -0.32273466,\n",
       "        2.01345289])"
      ]
     },
     "execution_count": 53,
     "metadata": {},
     "output_type": "execute_result"
    }
   ],
   "source": [
    "std_resid_log = reg_log.resid_pearson\n",
    "std_resid_log"
   ]
  },
  {
   "cell_type": "code",
   "execution_count": 54,
   "id": "34d2e54f",
   "metadata": {
    "ExecuteTime": {
     "end_time": "2022-10-27T06:33:06.798637Z",
     "start_time": "2022-10-27T06:33:06.782504Z"
    }
   },
   "outputs": [],
   "source": [
    "# prediction"
   ]
  },
  {
   "cell_type": "code",
   "execution_count": 55,
   "id": "f809cf0f",
   "metadata": {
    "ExecuteTime": {
     "end_time": "2022-10-27T06:33:06.814479Z",
     "start_time": "2022-10-27T06:33:06.798637Z"
    }
   },
   "outputs": [
    {
     "data": {
      "text/plain": [
       "0     21.982913\n",
       "1     13.696517\n",
       "2     17.363305\n",
       "3     21.030094\n",
       "4     21.982913\n",
       "5     17.363305\n",
       "6     18.757354\n",
       "7     11.094889\n",
       "8     21.982913\n",
       "9     21.030094\n",
       "10    19.964933\n",
       "11    13.696517\n",
       "12    18.757354\n",
       "13    11.094889\n",
       "14    11.094889\n",
       "15    13.696517\n",
       "16    17.363305\n",
       "17    18.757354\n",
       "18     7.428100\n",
       "19    18.757354\n",
       "20    15.714496\n",
       "dtype: float64"
      ]
     },
     "execution_count": 55,
     "metadata": {},
     "output_type": "execute_result"
    }
   ],
   "source": [
    "predict_log = reg_log.predict(x)\n",
    "predict_log"
   ]
  },
  {
   "cell_type": "code",
   "execution_count": 56,
   "id": "c8bf61a8",
   "metadata": {
    "ExecuteTime": {
     "end_time": "2022-10-27T06:33:06.830201Z",
     "start_time": "2022-10-27T06:33:06.814479Z"
    }
   },
   "outputs": [],
   "source": [
    "# calculating mse and rmse values"
   ]
  },
  {
   "cell_type": "code",
   "execution_count": 86,
   "id": "ad3a3174",
   "metadata": {
    "ExecuteTime": {
     "end_time": "2022-10-27T06:38:03.594185Z",
     "start_time": "2022-10-27T06:38:03.580898Z"
    }
   },
   "outputs": [
    {
     "data": {
      "text/plain": [
       "41.58619091261164"
      ]
     },
     "execution_count": 86,
     "metadata": {},
     "output_type": "execute_result"
    }
   ],
   "source": [
    "mse_log = np.mean((np.array(y)-np.array(predict_log))**2)\n",
    "mse_log"
   ]
  },
  {
   "cell_type": "code",
   "execution_count": 88,
   "id": "9bb576aa",
   "metadata": {
    "ExecuteTime": {
     "end_time": "2022-10-27T06:38:17.376763Z",
     "start_time": "2022-10-27T06:38:17.350689Z"
    }
   },
   "outputs": [
    {
     "data": {
      "text/plain": [
       "6.423636484498172"
      ]
     },
     "execution_count": 88,
     "metadata": {},
     "output_type": "execute_result"
    }
   ],
   "source": [
    "rmse_log = math.sqrt(mse)\n",
    "rmse_log "
   ]
  },
  {
   "cell_type": "code",
   "execution_count": 59,
   "id": "a42c6ed2",
   "metadata": {
    "ExecuteTime": {
     "end_time": "2022-10-27T06:33:06.869780Z",
     "start_time": "2022-10-27T06:33:06.855270Z"
    }
   },
   "outputs": [],
   "source": [
    "# plotting"
   ]
  },
  {
   "cell_type": "code",
   "execution_count": 60,
   "id": "5e1c296a",
   "metadata": {
    "ExecuteTime": {
     "end_time": "2022-10-27T06:33:07.116543Z",
     "start_time": "2022-10-27T06:33:06.871689Z"
    }
   },
   "outputs": [
    {
     "data": {
      "image/png": "[encoded data removed]",
      "text/plain": [
       "<Figure size 432x288 with 1 Axes>"
      ]
     },
     "metadata": {
      "needs_background": "light"
     },
     "output_type": "display_data"
    }
   ],
   "source": [
    "plt.scatter(x=df['Sorting Time'],y=df['Delivery Time'])\n",
    "plt.plot(df['Sorting Time'] ,predict_log)\n",
    "plt.xlabel('Sorting Time')\n",
    "plt.ylabel('Delivery Time')\n",
    "plt.show()"
   ]
  },
  {
   "cell_type": "code",
   "execution_count": 61,
   "id": "2702169f",
   "metadata": {
    "ExecuteTime": {
     "end_time": "2022-10-27T06:33:07.132289Z",
     "start_time": "2022-10-27T06:33:07.116543Z"
    }
   },
   "outputs": [],
   "source": [
    "# applying exponential transformation to check for model improvement"
   ]
  },
  {
   "cell_type": "code",
   "execution_count": 62,
   "id": "9ad745b3",
   "metadata": {
    "ExecuteTime": {
     "end_time": "2022-10-27T06:33:07.147960Z",
     "start_time": "2022-10-27T06:33:07.132289Z"
    }
   },
   "outputs": [],
   "source": [
    "reg_expo = smf.ols('y~np.exp(x)',data = df).fit()"
   ]
  },
  {
   "cell_type": "code",
   "execution_count": 63,
   "id": "e484c6f1",
   "metadata": {
    "ExecuteTime": {
     "end_time": "2022-10-27T06:33:07.163627Z",
     "start_time": "2022-10-27T06:33:07.147960Z"
    }
   },
   "outputs": [
    {
     "data": {
      "text/plain": [
       "Intercept    15.083578\n",
       "np.exp(x)     0.000393\n",
       "dtype: float64"
      ]
     },
     "execution_count": 63,
     "metadata": {},
     "output_type": "execute_result"
    }
   ],
   "source": [
    "reg_expo.params"
   ]
  },
  {
   "cell_type": "code",
   "execution_count": 64,
   "id": "6c1dace4",
   "metadata": {
    "ExecuteTime": {
     "end_time": "2022-10-27T06:33:07.187462Z",
     "start_time": "2022-10-27T06:33:07.163627Z"
    }
   },
   "outputs": [
    {
     "data": {
      "text/html": [
       "<table class=\"simpletable\">\n",
       "<caption>OLS Regression Results</caption>\n",
       "<tr>\n",
       "  <th>Dep. Variable:</th>            <td>y</td>        <th>  R-squared:         </th> <td>   0.361</td>\n",
       "</tr>\n",
       "<tr>\n",
       "  <th>Model:</th>                   <td>OLS</td>       <th>  Adj. R-squared:    </th> <td>   0.327</td>\n",
       "</tr>\n",
       "<tr>\n",
       "  <th>Method:</th>             <td>Least Squares</td>  <th>  F-statistic:       </th> <td>   10.74</td>\n",
       "</tr>\n",
       "<tr>\n",
       "  <th>Date:</th>             <td>Thu, 27 Oct 2022</td> <th>  Prob (F-statistic):</th>  <td>0.00396</td>\n",
       "</tr>\n",
       "<tr>\n",
       "  <th>Time:</th>                 <td>12:03:07</td>     <th>  Log-Likelihood:    </th> <td> -58.691</td>\n",
       "</tr>\n",
       "<tr>\n",
       "  <th>No. Observations:</th>      <td>    21</td>      <th>  AIC:               </th> <td>   121.4</td>\n",
       "</tr>\n",
       "<tr>\n",
       "  <th>Df Residuals:</th>          <td>    19</td>      <th>  BIC:               </th> <td>   123.5</td>\n",
       "</tr>\n",
       "<tr>\n",
       "  <th>Df Model:</th>              <td>     1</td>      <th>                     </th>     <td> </td>   \n",
       "</tr>\n",
       "<tr>\n",
       "  <th>Covariance Type:</th>      <td>nonrobust</td>    <th>                     </th>     <td> </td>   \n",
       "</tr>\n",
       "</table>\n",
       "<table class=\"simpletable\">\n",
       "<tr>\n",
       "      <td></td>         <th>coef</th>     <th>std err</th>      <th>t</th>      <th>P>|t|</th>  <th>[0.025</th>    <th>0.975]</th>  \n",
       "</tr>\n",
       "<tr>\n",
       "  <th>Intercept</th> <td>   15.0836</td> <td>    1.047</td> <td>   14.406</td> <td> 0.000</td> <td>   12.892</td> <td>   17.275</td>\n",
       "</tr>\n",
       "<tr>\n",
       "  <th>np.exp(x)</th> <td>    0.0004</td> <td>    0.000</td> <td>    3.277</td> <td> 0.004</td> <td>    0.000</td> <td>    0.001</td>\n",
       "</tr>\n",
       "</table>\n",
       "<table class=\"simpletable\">\n",
       "<tr>\n",
       "  <th>Omnibus:</th>       <td> 2.426</td> <th>  Durbin-Watson:     </th> <td>   1.676</td>\n",
       "</tr>\n",
       "<tr>\n",
       "  <th>Prob(Omnibus):</th> <td> 0.297</td> <th>  Jarque-Bera (JB):  </th> <td>   1.151</td>\n",
       "</tr>\n",
       "<tr>\n",
       "  <th>Skew:</th>          <td>-0.087</td> <th>  Prob(JB):          </th> <td>   0.562</td>\n",
       "</tr>\n",
       "<tr>\n",
       "  <th>Kurtosis:</th>      <td> 1.866</td> <th>  Cond. No.          </th> <td>1.01e+04</td>\n",
       "</tr>\n",
       "</table><br/><br/>Notes:<br/>[1] Standard Errors assume that the covariance matrix of the errors is correctly specified.<br/>[2] The condition number is large, 1.01e+04. This might indicate that there are<br/>strong multicollinearity or other numerical problems."
      ],
      "text/plain": [
       "<class 'statsmodels.iolib.summary.Summary'>\n",
       "\"\"\"\n",
       "                            OLS Regression Results                            \n",
       "==============================================================================\n",
       "Dep. Variable:                      y   R-squared:                       0.361\n",
       "Model:                            OLS   Adj. R-squared:                  0.327\n",
       "Method:                 Least Squares   F-statistic:                     10.74\n",
       "Date:                Thu, 27 Oct 2022   Prob (F-statistic):            0.00396\n",
       "Time:                        12:03:07   Log-Likelihood:                -58.691\n",
       "No. Observations:                  21   AIC:                             121.4\n",
       "Df Residuals:                      19   BIC:                             123.5\n",
       "Df Model:                           1                                         \n",
       "Covariance Type:            nonrobust                                         \n",
       "==============================================================================\n",
       "                 coef    std err          t      P>|t|      [0.025      0.975]\n",
       "------------------------------------------------------------------------------\n",
       "Intercept     15.0836      1.047     14.406      0.000      12.892      17.275\n",
       "np.exp(x)      0.0004      0.000      3.277      0.004       0.000       0.001\n",
       "==============================================================================\n",
       "Omnibus:                        2.426   Durbin-Watson:                   1.676\n",
       "Prob(Omnibus):                  0.297   Jarque-Bera (JB):                1.151\n",
       "Skew:                          -0.087   Prob(JB):                        0.562\n",
       "Kurtosis:                       1.866   Cond. No.                     1.01e+04\n",
       "==============================================================================\n",
       "\n",
       "Notes:\n",
       "[1] Standard Errors assume that the covariance matrix of the errors is correctly specified.\n",
       "[2] The condition number is large, 1.01e+04. This might indicate that there are\n",
       "strong multicollinearity or other numerical problems.\n",
       "\"\"\""
      ]
     },
     "execution_count": 64,
     "metadata": {},
     "output_type": "execute_result"
    }
   ],
   "source": [
    "reg_expo.summary()"
   ]
  },
  {
   "cell_type": "code",
   "execution_count": 65,
   "id": "1d65c6ee",
   "metadata": {
    "ExecuteTime": {
     "end_time": "2022-10-27T06:33:07.203196Z",
     "start_time": "2022-10-27T06:33:07.189174Z"
    }
   },
   "outputs": [],
   "source": [
    "# R-squared:0.361 [worst model compared to previous model]"
   ]
  },
  {
   "cell_type": "code",
   "execution_count": 66,
   "id": "d50a6376",
   "metadata": {
    "ExecuteTime": {
     "end_time": "2022-10-27T06:33:07.219225Z",
     "start_time": "2022-10-27T06:33:07.205196Z"
    }
   },
   "outputs": [],
   "source": [
    "# applying sqrt transformation to check for model improvement"
   ]
  },
  {
   "cell_type": "code",
   "execution_count": 67,
   "id": "d18ba5ef",
   "metadata": {
    "ExecuteTime": {
     "end_time": "2022-10-27T06:33:07.235265Z",
     "start_time": "2022-10-27T06:33:07.221744Z"
    }
   },
   "outputs": [],
   "source": [
    "reg_sqrt = smf.ols('y~np.sqrt(x)',data=df).fit()"
   ]
  },
  {
   "cell_type": "code",
   "execution_count": 68,
   "id": "bd71a708",
   "metadata": {
    "ExecuteTime": {
     "end_time": "2022-10-27T06:33:07.250940Z",
     "start_time": "2022-10-27T06:33:07.238410Z"
    }
   },
   "outputs": [
    {
     "data": {
      "text/plain": [
       "Intercept    -2.518837\n",
       "np.sqrt(x)    7.936591\n",
       "dtype: float64"
      ]
     },
     "execution_count": 68,
     "metadata": {},
     "output_type": "execute_result"
    }
   ],
   "source": [
    "reg_sqrt.params"
   ]
  },
  {
   "cell_type": "code",
   "execution_count": 69,
   "id": "3e2aa0df",
   "metadata": {
    "ExecuteTime": {
     "end_time": "2022-10-27T06:33:07.282805Z",
     "start_time": "2022-10-27T06:33:07.254118Z"
    }
   },
   "outputs": [
    {
     "data": {
      "text/html": [
       "<table class=\"simpletable\">\n",
       "<caption>OLS Regression Results</caption>\n",
       "<tr>\n",
       "  <th>Dep. Variable:</th>            <td>y</td>        <th>  R-squared:         </th> <td>   0.696</td>\n",
       "</tr>\n",
       "<tr>\n",
       "  <th>Model:</th>                   <td>OLS</td>       <th>  Adj. R-squared:    </th> <td>   0.680</td>\n",
       "</tr>\n",
       "<tr>\n",
       "  <th>Method:</th>             <td>Least Squares</td>  <th>  F-statistic:       </th> <td>   43.46</td>\n",
       "</tr>\n",
       "<tr>\n",
       "  <th>Date:</th>             <td>Thu, 27 Oct 2022</td> <th>  Prob (F-statistic):</th> <td>2.61e-06</td>\n",
       "</tr>\n",
       "<tr>\n",
       "  <th>Time:</th>                 <td>12:03:07</td>     <th>  Log-Likelihood:    </th> <td> -50.900</td>\n",
       "</tr>\n",
       "<tr>\n",
       "  <th>No. Observations:</th>      <td>    21</td>      <th>  AIC:               </th> <td>   105.8</td>\n",
       "</tr>\n",
       "<tr>\n",
       "  <th>Df Residuals:</th>          <td>    19</td>      <th>  BIC:               </th> <td>   107.9</td>\n",
       "</tr>\n",
       "<tr>\n",
       "  <th>Df Model:</th>              <td>     1</td>      <th>                     </th>     <td> </td>   \n",
       "</tr>\n",
       "<tr>\n",
       "  <th>Covariance Type:</th>      <td>nonrobust</td>    <th>                     </th>     <td> </td>   \n",
       "</tr>\n",
       "</table>\n",
       "<table class=\"simpletable\">\n",
       "<tr>\n",
       "       <td></td>         <th>coef</th>     <th>std err</th>      <th>t</th>      <th>P>|t|</th>  <th>[0.025</th>    <th>0.975]</th>  \n",
       "</tr>\n",
       "<tr>\n",
       "  <th>Intercept</th>  <td>   -2.5188</td> <td>    2.995</td> <td>   -0.841</td> <td> 0.411</td> <td>   -8.788</td> <td>    3.751</td>\n",
       "</tr>\n",
       "<tr>\n",
       "  <th>np.sqrt(x)</th> <td>    7.9366</td> <td>    1.204</td> <td>    6.592</td> <td> 0.000</td> <td>    5.417</td> <td>   10.456</td>\n",
       "</tr>\n",
       "</table>\n",
       "<table class=\"simpletable\">\n",
       "<tr>\n",
       "  <th>Omnibus:</th>       <td> 4.658</td> <th>  Durbin-Watson:     </th> <td>   1.318</td>\n",
       "</tr>\n",
       "<tr>\n",
       "  <th>Prob(Omnibus):</th> <td> 0.097</td> <th>  Jarque-Bera (JB):  </th> <td>   2.824</td>\n",
       "</tr>\n",
       "<tr>\n",
       "  <th>Skew:</th>          <td> 0.865</td> <th>  Prob(JB):          </th> <td>   0.244</td>\n",
       "</tr>\n",
       "<tr>\n",
       "  <th>Kurtosis:</th>      <td> 3.483</td> <th>  Cond. No.          </th> <td>    13.7</td>\n",
       "</tr>\n",
       "</table><br/><br/>Notes:<br/>[1] Standard Errors assume that the covariance matrix of the errors is correctly specified."
      ],
      "text/plain": [
       "<class 'statsmodels.iolib.summary.Summary'>\n",
       "\"\"\"\n",
       "                            OLS Regression Results                            \n",
       "==============================================================================\n",
       "Dep. Variable:                      y   R-squared:                       0.696\n",
       "Model:                            OLS   Adj. R-squared:                  0.680\n",
       "Method:                 Least Squares   F-statistic:                     43.46\n",
       "Date:                Thu, 27 Oct 2022   Prob (F-statistic):           2.61e-06\n",
       "Time:                        12:03:07   Log-Likelihood:                -50.900\n",
       "No. Observations:                  21   AIC:                             105.8\n",
       "Df Residuals:                      19   BIC:                             107.9\n",
       "Df Model:                           1                                         \n",
       "Covariance Type:            nonrobust                                         \n",
       "==============================================================================\n",
       "                 coef    std err          t      P>|t|      [0.025      0.975]\n",
       "------------------------------------------------------------------------------\n",
       "Intercept     -2.5188      2.995     -0.841      0.411      -8.788       3.751\n",
       "np.sqrt(x)     7.9366      1.204      6.592      0.000       5.417      10.456\n",
       "==============================================================================\n",
       "Omnibus:                        4.658   Durbin-Watson:                   1.318\n",
       "Prob(Omnibus):                  0.097   Jarque-Bera (JB):                2.824\n",
       "Skew:                           0.865   Prob(JB):                        0.244\n",
       "Kurtosis:                       3.483   Cond. No.                         13.7\n",
       "==============================================================================\n",
       "\n",
       "Notes:\n",
       "[1] Standard Errors assume that the covariance matrix of the errors is correctly specified.\n",
       "\"\"\""
      ]
     },
     "execution_count": 69,
     "metadata": {},
     "output_type": "execute_result"
    }
   ],
   "source": [
    "reg_sqrt.summary()"
   ]
  },
  {
   "cell_type": "code",
   "execution_count": 70,
   "id": "2fc69fc7",
   "metadata": {
    "ExecuteTime": {
     "end_time": "2022-10-27T06:33:07.298557Z",
     "start_time": "2022-10-27T06:33:07.282805Z"
    }
   },
   "outputs": [],
   "source": [
    "# R-squared:0.696 improved compared to log transformation"
   ]
  },
  {
   "cell_type": "code",
   "execution_count": 71,
   "id": "fc70829d",
   "metadata": {
    "ExecuteTime": {
     "end_time": "2022-10-27T06:33:07.314754Z",
     "start_time": "2022-10-27T06:33:07.298557Z"
    }
   },
   "outputs": [],
   "source": [
    "# residuals"
   ]
  },
  {
   "cell_type": "code",
   "execution_count": 72,
   "id": "774b1745",
   "metadata": {
    "ExecuteTime": {
     "end_time": "2022-10-27T06:33:07.330760Z",
     "start_time": "2022-10-27T06:33:07.314754Z"
    }
   },
   "outputs": [
    {
     "data": {
      "text/plain": [
       "0    -1.578867\n",
       "1     0.145655\n",
       "2     2.828239\n",
       "3     2.709064\n",
       "4     6.421133\n",
       "5    -1.571761\n",
       "6     0.520591\n",
       "7    -1.727742\n",
       "8    -4.678867\n",
       "9    -2.540936\n",
       "10   -0.099232\n",
       "11   -2.604345\n",
       "12   -1.799409\n",
       "13    0.272258\n",
       "14    0.802258\n",
       "15    1.525655\n",
       "16   -3.171761\n",
       "17   -0.369409\n",
       "18   -0.705198\n",
       "19   -0.649409\n",
       "20    6.272080\n",
       "dtype: float64"
      ]
     },
     "execution_count": 72,
     "metadata": {},
     "output_type": "execute_result"
    }
   ],
   "source": [
    "reg_sqrt_residuals = reg_sqrt.resid\n",
    "reg_sqrt_residuals"
   ]
  },
  {
   "cell_type": "code",
   "execution_count": 73,
   "id": "395f7268",
   "metadata": {
    "ExecuteTime": {
     "end_time": "2022-10-27T06:33:07.346828Z",
     "start_time": "2022-10-27T06:33:07.338306Z"
    }
   },
   "outputs": [],
   "source": [
    "# standard residuals"
   ]
  },
  {
   "cell_type": "code",
   "execution_count": 74,
   "id": "e903dd06",
   "metadata": {
    "ExecuteTime": {
     "end_time": "2022-10-27T06:33:07.362608Z",
     "start_time": "2022-10-27T06:33:07.346828Z"
    }
   },
   "outputs": [
    {
     "data": {
      "text/plain": [
       "array([-0.54979987,  0.05072065,  0.98486155,  0.94336205,  2.23599456,\n",
       "       -0.54732539,  0.18128252, -0.60164169, -1.62929521, -0.88481554,\n",
       "       -0.03455498, -0.90689618, -0.62659787,  0.09480692,  0.2793658 ,\n",
       "        0.53127019, -1.10448427, -0.12863711, -0.24556697, -0.22613992,\n",
       "        2.18409075])"
      ]
     },
     "execution_count": 74,
     "metadata": {},
     "output_type": "execute_result"
    }
   ],
   "source": [
    "std_resid_sqrt =reg_sqrt.resid_pearson\n",
    "std_resid_sqrt"
   ]
  },
  {
   "cell_type": "code",
   "execution_count": 75,
   "id": "a2d17634",
   "metadata": {
    "ExecuteTime": {
     "end_time": "2022-10-27T06:33:07.371056Z",
     "start_time": "2022-10-27T06:33:07.362608Z"
    }
   },
   "outputs": [],
   "source": [
    "# prediction"
   ]
  },
  {
   "cell_type": "code",
   "execution_count": 76,
   "id": "0276de52",
   "metadata": {
    "ExecuteTime": {
     "end_time": "2022-10-27T06:33:07.395646Z",
     "start_time": "2022-10-27T06:33:07.371056Z"
    }
   },
   "outputs": [
    {
     "data": {
      "text/plain": [
       "0     22.578867\n",
       "1     13.354345\n",
       "2     16.921761\n",
       "3     21.290936\n",
       "4     22.578867\n",
       "5     16.921761\n",
       "6     18.479409\n",
       "7     11.227742\n",
       "8     22.578867\n",
       "9     21.290936\n",
       "10    19.929232\n",
       "11    13.354345\n",
       "12    18.479409\n",
       "13    11.227742\n",
       "14    11.227742\n",
       "15    13.354345\n",
       "16    16.921761\n",
       "17    18.479409\n",
       "18     8.705198\n",
       "19    18.479409\n",
       "20    15.227920\n",
       "dtype: float64"
      ]
     },
     "execution_count": 76,
     "metadata": {},
     "output_type": "execute_result"
    }
   ],
   "source": [
    "predict_sqrt = reg_sqrt.predict(x)\n",
    "predict_sqrt"
   ]
  },
  {
   "cell_type": "code",
   "execution_count": 77,
   "id": "e9baed99",
   "metadata": {
    "ExecuteTime": {
     "end_time": "2022-10-27T06:33:07.404948Z",
     "start_time": "2022-10-27T06:33:07.396423Z"
    }
   },
   "outputs": [],
   "source": [
    "# calculating mse and rmse values"
   ]
  },
  {
   "cell_type": "code",
   "execution_count": 89,
   "id": "e763c6f5",
   "metadata": {
    "ExecuteTime": {
     "end_time": "2022-10-27T06:39:12.815168Z",
     "start_time": "2022-10-27T06:39:12.791030Z"
    }
   },
   "outputs": [
    {
     "data": {
      "text/plain": [
       "41.59508892496467"
      ]
     },
     "execution_count": 89,
     "metadata": {},
     "output_type": "execute_result"
    }
   ],
   "source": [
    "mse_sqrt = np.mean((np.array(y)-np.array(predict_sqrt))**2)\n",
    "mse_sqrt"
   ]
  },
  {
   "cell_type": "code",
   "execution_count": 90,
   "id": "3940aebb",
   "metadata": {
    "ExecuteTime": {
     "end_time": "2022-10-27T06:39:16.325176Z",
     "start_time": "2022-10-27T06:39:16.309223Z"
    }
   },
   "outputs": [
    {
     "data": {
      "text/plain": [
       "6.423636484498172"
      ]
     },
     "execution_count": 90,
     "metadata": {},
     "output_type": "execute_result"
    }
   ],
   "source": [
    "rmse = math.sqrt(mse)\n",
    "rmse"
   ]
  },
  {
   "cell_type": "code",
   "execution_count": 80,
   "id": "bc54b439",
   "metadata": {
    "ExecuteTime": {
     "end_time": "2022-10-27T06:33:07.451554Z",
     "start_time": "2022-10-27T06:33:07.438544Z"
    }
   },
   "outputs": [],
   "source": [
    "# plotting"
   ]
  },
  {
   "cell_type": "code",
   "execution_count": 81,
   "id": "766ff87e",
   "metadata": {
    "ExecuteTime": {
     "end_time": "2022-10-27T06:33:07.666101Z",
     "start_time": "2022-10-27T06:33:07.454137Z"
    }
   },
   "outputs": [
    {
     "data": {
      "image/png": "[encoded data removed]",
      "text/plain": [
       "<Figure size 432x288 with 1 Axes>"
      ]
     },
     "metadata": {
      "needs_background": "light"
     },
     "output_type": "display_data"
    }
   ],
   "source": [
    "plt.scatter(x=df['Sorting Time'],y=df['Delivery Time'] ,color='green')\n",
    "plt.plot(df['Sorting Time'] ,predict_sqrt)\n",
    "plt.xlabel('Sorting Time')\n",
    "plt.ylabel('Delivery Time')\n",
    "plt.show()"
   ]
  },
  {
   "cell_type": "code",
   "execution_count": 114,
   "id": "6b6b34dc",
   "metadata": {
    "ExecuteTime": {
     "end_time": "2022-10-27T07:06:48.331361Z",
     "start_time": "2022-10-27T07:06:48.323302Z"
    }
   },
   "outputs": [],
   "source": [
    "#R-squared:0.682,Adj. R-squared:0.666,AIC:106.7 with no transformation\n",
    "#R-squared:0.361 ,Adj. R-squared:0.327,AIC:121.4 with expo transformation\n",
    "#R-squared:\t0.695,Adj.R-squared:0.679,AIC:105.8 of log transformation\n",
    "#R-squared:0.696 ,Adj. R-squared:0.680,AIC:105.8 of sqrt transformation"
   ]
  },
  {
   "cell_type": "markdown",
   "id": "23c40e25",
   "metadata": {},
   "source": [
    "comparing all tansformations , sqrt transformation is giving better accuracy"
   ]
  }
 ],
 "metadata": {
  "kernelspec": {
   "display_name": "Python 3 (ipykernel)",
   "language": "python",
   "name": "python3"
  },
  "language_info": {
   "codemirror_mode": {
    "name": "ipython",
    "version": 3
   },
   "file_extension": ".py",
   "mimetype": "text/x-python",
   "name": "python",
   "nbconvert_exporter": "python",
   "pygments_lexer": "ipython3",
   "version": "3.9.12"
  }
 },
 "nbformat": 4,
 "nbformat_minor": 5
}
