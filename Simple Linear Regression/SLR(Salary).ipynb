{
 "cells": [
  {
   "cell_type": "markdown",
   "id": "640019ad",
   "metadata": {},
   "source": [
    "# importing necessary libraries"
   ]
  },
  {
   "cell_type": "code",
   "execution_count": 1,
   "id": "0f158d7b",
   "metadata": {
    "ExecuteTime": {
     "end_time": "2022-10-27T06:16:19.597626Z",
     "start_time": "2022-10-27T06:16:16.214677Z"
    }
   },
   "outputs": [],
   "source": [
    "import pandas as pd  \n",
    "import numpy as np\n",
    "import matplotlib.pyplot as plt\n",
    "import seaborn as sns\n",
    "from sklearn.linear_model import LinearRegression\n",
    "from sklearn.metrics import r2_score,mean_squared_error"
   ]
  },
  {
   "cell_type": "markdown",
   "id": "4e862796",
   "metadata": {
    "ExecuteTime": {
     "end_time": "2022-10-09T07:31:01.916694Z",
     "start_time": "2022-10-09T07:31:01.901707Z"
    }
   },
   "source": [
    "# get data"
   ]
  },
  {
   "cell_type": "code",
   "execution_count": 2,
   "id": "9e89e73b",
   "metadata": {
    "ExecuteTime": {
     "end_time": "2022-10-27T06:16:23.303180Z",
     "start_time": "2022-10-27T06:16:23.250557Z"
    }
   },
   "outputs": [
    {
     "data": {
      "text/html": [
       "<div>\n",
       "<style scoped>\n",
       "    .dataframe tbody tr th:only-of-type {\n",
       "        vertical-align: middle;\n",
       "    }\n",
       "\n",
       "    .dataframe tbody tr th {\n",
       "        vertical-align: top;\n",
       "    }\n",
       "\n",
       "    .dataframe thead th {\n",
       "        text-align: right;\n",
       "    }\n",
       "</style>\n",
       "<table border=\"1\" class=\"dataframe\">\n",
       "  <thead>\n",
       "    <tr style=\"text-align: right;\">\n",
       "      <th></th>\n",
       "      <th>YearsExperience</th>\n",
       "      <th>Salary</th>\n",
       "    </tr>\n",
       "  </thead>\n",
       "  <tbody>\n",
       "    <tr>\n",
       "      <th>0</th>\n",
       "      <td>1.1</td>\n",
       "      <td>39343.0</td>\n",
       "    </tr>\n",
       "    <tr>\n",
       "      <th>1</th>\n",
       "      <td>1.3</td>\n",
       "      <td>46205.0</td>\n",
       "    </tr>\n",
       "    <tr>\n",
       "      <th>2</th>\n",
       "      <td>1.5</td>\n",
       "      <td>37731.0</td>\n",
       "    </tr>\n",
       "    <tr>\n",
       "      <th>3</th>\n",
       "      <td>2.0</td>\n",
       "      <td>43525.0</td>\n",
       "    </tr>\n",
       "    <tr>\n",
       "      <th>4</th>\n",
       "      <td>2.2</td>\n",
       "      <td>39891.0</td>\n",
       "    </tr>\n",
       "    <tr>\n",
       "      <th>5</th>\n",
       "      <td>2.9</td>\n",
       "      <td>56642.0</td>\n",
       "    </tr>\n",
       "    <tr>\n",
       "      <th>6</th>\n",
       "      <td>3.0</td>\n",
       "      <td>60150.0</td>\n",
       "    </tr>\n",
       "    <tr>\n",
       "      <th>7</th>\n",
       "      <td>3.2</td>\n",
       "      <td>54445.0</td>\n",
       "    </tr>\n",
       "    <tr>\n",
       "      <th>8</th>\n",
       "      <td>3.2</td>\n",
       "      <td>64445.0</td>\n",
       "    </tr>\n",
       "    <tr>\n",
       "      <th>9</th>\n",
       "      <td>3.7</td>\n",
       "      <td>57189.0</td>\n",
       "    </tr>\n",
       "    <tr>\n",
       "      <th>10</th>\n",
       "      <td>3.9</td>\n",
       "      <td>63218.0</td>\n",
       "    </tr>\n",
       "    <tr>\n",
       "      <th>11</th>\n",
       "      <td>4.0</td>\n",
       "      <td>55794.0</td>\n",
       "    </tr>\n",
       "    <tr>\n",
       "      <th>12</th>\n",
       "      <td>4.0</td>\n",
       "      <td>56957.0</td>\n",
       "    </tr>\n",
       "    <tr>\n",
       "      <th>13</th>\n",
       "      <td>4.1</td>\n",
       "      <td>57081.0</td>\n",
       "    </tr>\n",
       "    <tr>\n",
       "      <th>14</th>\n",
       "      <td>4.5</td>\n",
       "      <td>61111.0</td>\n",
       "    </tr>\n",
       "    <tr>\n",
       "      <th>15</th>\n",
       "      <td>4.9</td>\n",
       "      <td>67938.0</td>\n",
       "    </tr>\n",
       "    <tr>\n",
       "      <th>16</th>\n",
       "      <td>5.1</td>\n",
       "      <td>66029.0</td>\n",
       "    </tr>\n",
       "    <tr>\n",
       "      <th>17</th>\n",
       "      <td>5.3</td>\n",
       "      <td>83088.0</td>\n",
       "    </tr>\n",
       "    <tr>\n",
       "      <th>18</th>\n",
       "      <td>5.9</td>\n",
       "      <td>81363.0</td>\n",
       "    </tr>\n",
       "    <tr>\n",
       "      <th>19</th>\n",
       "      <td>6.0</td>\n",
       "      <td>93940.0</td>\n",
       "    </tr>\n",
       "    <tr>\n",
       "      <th>20</th>\n",
       "      <td>6.8</td>\n",
       "      <td>91738.0</td>\n",
       "    </tr>\n",
       "    <tr>\n",
       "      <th>21</th>\n",
       "      <td>7.1</td>\n",
       "      <td>98273.0</td>\n",
       "    </tr>\n",
       "    <tr>\n",
       "      <th>22</th>\n",
       "      <td>7.9</td>\n",
       "      <td>101302.0</td>\n",
       "    </tr>\n",
       "    <tr>\n",
       "      <th>23</th>\n",
       "      <td>8.2</td>\n",
       "      <td>113812.0</td>\n",
       "    </tr>\n",
       "    <tr>\n",
       "      <th>24</th>\n",
       "      <td>8.7</td>\n",
       "      <td>109431.0</td>\n",
       "    </tr>\n",
       "    <tr>\n",
       "      <th>25</th>\n",
       "      <td>9.0</td>\n",
       "      <td>105582.0</td>\n",
       "    </tr>\n",
       "    <tr>\n",
       "      <th>26</th>\n",
       "      <td>9.5</td>\n",
       "      <td>116969.0</td>\n",
       "    </tr>\n",
       "    <tr>\n",
       "      <th>27</th>\n",
       "      <td>9.6</td>\n",
       "      <td>112635.0</td>\n",
       "    </tr>\n",
       "    <tr>\n",
       "      <th>28</th>\n",
       "      <td>10.3</td>\n",
       "      <td>122391.0</td>\n",
       "    </tr>\n",
       "    <tr>\n",
       "      <th>29</th>\n",
       "      <td>10.5</td>\n",
       "      <td>121872.0</td>\n",
       "    </tr>\n",
       "  </tbody>\n",
       "</table>\n",
       "</div>"
      ],
      "text/plain": [
       "    YearsExperience    Salary\n",
       "0               1.1   39343.0\n",
       "1               1.3   46205.0\n",
       "2               1.5   37731.0\n",
       "3               2.0   43525.0\n",
       "4               2.2   39891.0\n",
       "5               2.9   56642.0\n",
       "6               3.0   60150.0\n",
       "7               3.2   54445.0\n",
       "8               3.2   64445.0\n",
       "9               3.7   57189.0\n",
       "10              3.9   63218.0\n",
       "11              4.0   55794.0\n",
       "12              4.0   56957.0\n",
       "13              4.1   57081.0\n",
       "14              4.5   61111.0\n",
       "15              4.9   67938.0\n",
       "16              5.1   66029.0\n",
       "17              5.3   83088.0\n",
       "18              5.9   81363.0\n",
       "19              6.0   93940.0\n",
       "20              6.8   91738.0\n",
       "21              7.1   98273.0\n",
       "22              7.9  101302.0\n",
       "23              8.2  113812.0\n",
       "24              8.7  109431.0\n",
       "25              9.0  105582.0\n",
       "26              9.5  116969.0\n",
       "27              9.6  112635.0\n",
       "28             10.3  122391.0\n",
       "29             10.5  121872.0"
      ]
     },
     "execution_count": 2,
     "metadata": {},
     "output_type": "execute_result"
    }
   ],
   "source": [
    "data= pd.read_csv('Salary_Data.csv')\n",
    "data"
   ]
  },
  {
   "cell_type": "code",
   "execution_count": 3,
   "id": "0d177b29",
   "metadata": {
    "ExecuteTime": {
     "end_time": "2022-10-27T06:16:27.278102Z",
     "start_time": "2022-10-27T06:16:27.258304Z"
    }
   },
   "outputs": [
    {
     "data": {
      "text/plain": [
       "YearsExperience    0\n",
       "Salary             0\n",
       "dtype: int64"
      ]
     },
     "execution_count": 3,
     "metadata": {},
     "output_type": "execute_result"
    }
   ],
   "source": [
    "# checking for null values \n",
    "data.isna().sum()"
   ]
  },
  {
   "cell_type": "code",
   "execution_count": 4,
   "id": "e54196b5",
   "metadata": {
    "ExecuteTime": {
     "end_time": "2022-10-27T06:16:30.687261Z",
     "start_time": "2022-10-27T06:16:30.639409Z"
    }
   },
   "outputs": [
    {
     "name": "stdout",
     "output_type": "stream",
     "text": [
      "<class 'pandas.core.frame.DataFrame'>\n",
      "RangeIndex: 30 entries, 0 to 29\n",
      "Data columns (total 2 columns):\n",
      " #   Column           Non-Null Count  Dtype  \n",
      "---  ------           --------------  -----  \n",
      " 0   YearsExperience  30 non-null     float64\n",
      " 1   Salary           30 non-null     float64\n",
      "dtypes: float64(2)\n",
      "memory usage: 608.0 bytes\n"
     ]
    }
   ],
   "source": [
    "data.info()"
   ]
  },
  {
   "cell_type": "code",
   "execution_count": 5,
   "id": "6db6aab6",
   "metadata": {
    "ExecuteTime": {
     "end_time": "2022-10-27T06:16:34.135624Z",
     "start_time": "2022-10-27T06:16:34.095365Z"
    }
   },
   "outputs": [
    {
     "data": {
      "text/html": [
       "<div>\n",
       "<style scoped>\n",
       "    .dataframe tbody tr th:only-of-type {\n",
       "        vertical-align: middle;\n",
       "    }\n",
       "\n",
       "    .dataframe tbody tr th {\n",
       "        vertical-align: top;\n",
       "    }\n",
       "\n",
       "    .dataframe thead th {\n",
       "        text-align: right;\n",
       "    }\n",
       "</style>\n",
       "<table border=\"1\" class=\"dataframe\">\n",
       "  <thead>\n",
       "    <tr style=\"text-align: right;\">\n",
       "      <th></th>\n",
       "      <th>YearsExperience</th>\n",
       "      <th>Salary</th>\n",
       "    </tr>\n",
       "  </thead>\n",
       "  <tbody>\n",
       "    <tr>\n",
       "      <th>count</th>\n",
       "      <td>30.000000</td>\n",
       "      <td>30.000000</td>\n",
       "    </tr>\n",
       "    <tr>\n",
       "      <th>mean</th>\n",
       "      <td>5.313333</td>\n",
       "      <td>76003.000000</td>\n",
       "    </tr>\n",
       "    <tr>\n",
       "      <th>std</th>\n",
       "      <td>2.837888</td>\n",
       "      <td>27414.429785</td>\n",
       "    </tr>\n",
       "    <tr>\n",
       "      <th>min</th>\n",
       "      <td>1.100000</td>\n",
       "      <td>37731.000000</td>\n",
       "    </tr>\n",
       "    <tr>\n",
       "      <th>25%</th>\n",
       "      <td>3.200000</td>\n",
       "      <td>56720.750000</td>\n",
       "    </tr>\n",
       "    <tr>\n",
       "      <th>50%</th>\n",
       "      <td>4.700000</td>\n",
       "      <td>65237.000000</td>\n",
       "    </tr>\n",
       "    <tr>\n",
       "      <th>75%</th>\n",
       "      <td>7.700000</td>\n",
       "      <td>100544.750000</td>\n",
       "    </tr>\n",
       "    <tr>\n",
       "      <th>max</th>\n",
       "      <td>10.500000</td>\n",
       "      <td>122391.000000</td>\n",
       "    </tr>\n",
       "  </tbody>\n",
       "</table>\n",
       "</div>"
      ],
      "text/plain": [
       "       YearsExperience         Salary\n",
       "count        30.000000      30.000000\n",
       "mean          5.313333   76003.000000\n",
       "std           2.837888   27414.429785\n",
       "min           1.100000   37731.000000\n",
       "25%           3.200000   56720.750000\n",
       "50%           4.700000   65237.000000\n",
       "75%           7.700000  100544.750000\n",
       "max          10.500000  122391.000000"
      ]
     },
     "execution_count": 5,
     "metadata": {},
     "output_type": "execute_result"
    }
   ],
   "source": [
    "data.describe()"
   ]
  },
  {
   "cell_type": "code",
   "execution_count": 6,
   "id": "b3328fec",
   "metadata": {
    "ExecuteTime": {
     "end_time": "2022-10-18T04:12:45.735113Z",
     "start_time": "2022-10-18T04:12:45.719487Z"
    }
   },
   "outputs": [],
   "source": [
    "# visualization"
   ]
  },
  {
   "cell_type": "code",
   "execution_count": 6,
   "id": "001b15a8",
   "metadata": {
    "ExecuteTime": {
     "end_time": "2022-10-27T06:16:41.452247Z",
     "start_time": "2022-10-27T06:16:40.374798Z"
    }
   },
   "outputs": [
    {
     "data": {
      "text/plain": [
       "<seaborn.axisgrid.PairGrid at 0x24a8dd82070>"
      ]
     },
     "execution_count": 6,
     "metadata": {},
     "output_type": "execute_result"
    },
    {
     "data": {
      "image/png": "[encoded data removed]",
      "text/plain": [
       "<Figure size 360x360 with 6 Axes>"
      ]
     },
     "metadata": {},
     "output_type": "display_data"
    }
   ],
   "source": [
    "# histogram and scatter plot\n",
    "sns.set_style(style='darkgrid')\n",
    "sns.pairplot(data)"
   ]
  },
  {
   "cell_type": "code",
   "execution_count": 7,
   "id": "69d2ec84",
   "metadata": {
    "ExecuteTime": {
     "end_time": "2022-10-27T06:16:47.449449Z",
     "start_time": "2022-10-27T06:16:46.215521Z"
    }
   },
   "outputs": [
    {
     "name": "stderr",
     "output_type": "stream",
     "text": [
      "C:\\Users\\Rohith Challam\\anaconda3\\lib\\site-packages\\seaborn\\distributions.py:2619: FutureWarning: `distplot` is a deprecated function and will be removed in a future version. Please adapt your code to use either `displot` (a figure-level function with similar flexibility) or `histplot` (an axes-level function for histograms).\n",
      "  warnings.warn(msg, FutureWarning)\n"
     ]
    },
    {
     "data": {
      "text/plain": [
       "<AxesSubplot:xlabel='YearsExperience', ylabel='Density'>"
      ]
     },
     "execution_count": 7,
     "metadata": {},
     "output_type": "execute_result"
    },
    {
     "data": {
      "image/png": "[encoded data removed]",
      "text/plain": [
       "<Figure size 432x288 with 1 Axes>"
      ]
     },
     "metadata": {},
     "output_type": "display_data"
    }
   ],
   "source": [
    "sns.distplot(data['YearsExperience'])"
   ]
  },
  {
   "cell_type": "code",
   "execution_count": 8,
   "id": "4a2bb248",
   "metadata": {
    "ExecuteTime": {
     "end_time": "2022-10-27T06:16:52.005494Z",
     "start_time": "2022-10-27T06:16:51.706743Z"
    }
   },
   "outputs": [
    {
     "name": "stderr",
     "output_type": "stream",
     "text": [
      "C:\\Users\\Rohith Challam\\anaconda3\\lib\\site-packages\\seaborn\\distributions.py:2619: FutureWarning: `distplot` is a deprecated function and will be removed in a future version. Please adapt your code to use either `displot` (a figure-level function with similar flexibility) or `histplot` (an axes-level function for histograms).\n",
      "  warnings.warn(msg, FutureWarning)\n"
     ]
    },
    {
     "data": {
      "text/plain": [
       "<AxesSubplot:xlabel='Salary', ylabel='Density'>"
      ]
     },
     "execution_count": 8,
     "metadata": {},
     "output_type": "execute_result"
    },
    {
     "data": {
      "image/png": "[encoded data removed]",
      "text/plain": [
       "<Figure size 432x288 with 1 Axes>"
      ]
     },
     "metadata": {},
     "output_type": "display_data"
    }
   ],
   "source": [
    "sns.distplot(data['Salary'])"
   ]
  },
  {
   "cell_type": "code",
   "execution_count": 10,
   "id": "aa3ee075",
   "metadata": {
    "ExecuteTime": {
     "end_time": "2022-10-18T04:12:47.859519Z",
     "start_time": "2022-10-18T04:12:47.835558Z"
    }
   },
   "outputs": [],
   "source": [
    "# scatter plot using matplotlib"
   ]
  },
  {
   "cell_type": "code",
   "execution_count": 9,
   "id": "81e02526",
   "metadata": {
    "ExecuteTime": {
     "end_time": "2022-10-27T06:16:57.188113Z",
     "start_time": "2022-10-27T06:16:56.989515Z"
    }
   },
   "outputs": [
    {
     "data": {
      "text/plain": [
       "<matplotlib.collections.PathCollection at 0x24a93d0d550>"
      ]
     },
     "execution_count": 9,
     "metadata": {},
     "output_type": "execute_result"
    },
    {
     "data": {
      "image/png": "[encoded data removed]",
      "text/plain": [
       "<Figure size 432x288 with 1 Axes>"
      ]
     },
     "metadata": {},
     "output_type": "display_data"
    }
   ],
   "source": [
    "plt.scatter(x=data['YearsExperience'],y=data['Salary'] , color = 'black')"
   ]
  },
  {
   "cell_type": "code",
   "execution_count": 12,
   "id": "caf19cbc",
   "metadata": {
    "ExecuteTime": {
     "end_time": "2022-10-18T04:12:48.061808Z",
     "start_time": "2022-10-18T04:12:48.052740Z"
    }
   },
   "outputs": [],
   "source": [
    "# correlation"
   ]
  },
  {
   "cell_type": "code",
   "execution_count": 10,
   "id": "1a5d24b2",
   "metadata": {
    "ExecuteTime": {
     "end_time": "2022-10-27T06:17:00.897998Z",
     "start_time": "2022-10-27T06:17:00.866332Z"
    }
   },
   "outputs": [
    {
     "data": {
      "text/html": [
       "<div>\n",
       "<style scoped>\n",
       "    .dataframe tbody tr th:only-of-type {\n",
       "        vertical-align: middle;\n",
       "    }\n",
       "\n",
       "    .dataframe tbody tr th {\n",
       "        vertical-align: top;\n",
       "    }\n",
       "\n",
       "    .dataframe thead th {\n",
       "        text-align: right;\n",
       "    }\n",
       "</style>\n",
       "<table border=\"1\" class=\"dataframe\">\n",
       "  <thead>\n",
       "    <tr style=\"text-align: right;\">\n",
       "      <th></th>\n",
       "      <th>YearsExperience</th>\n",
       "      <th>Salary</th>\n",
       "    </tr>\n",
       "  </thead>\n",
       "  <tbody>\n",
       "    <tr>\n",
       "      <th>YearsExperience</th>\n",
       "      <td>1.000000</td>\n",
       "      <td>0.978242</td>\n",
       "    </tr>\n",
       "    <tr>\n",
       "      <th>Salary</th>\n",
       "      <td>0.978242</td>\n",
       "      <td>1.000000</td>\n",
       "    </tr>\n",
       "  </tbody>\n",
       "</table>\n",
       "</div>"
      ],
      "text/plain": [
       "                 YearsExperience    Salary\n",
       "YearsExperience         1.000000  0.978242\n",
       "Salary                  0.978242  1.000000"
      ]
     },
     "execution_count": 10,
     "metadata": {},
     "output_type": "execute_result"
    }
   ],
   "source": [
    "corr = data.corr()\n",
    "corr"
   ]
  },
  {
   "cell_type": "code",
   "execution_count": 11,
   "id": "d3f73a70",
   "metadata": {
    "ExecuteTime": {
     "end_time": "2022-10-27T06:17:06.174914Z",
     "start_time": "2022-10-27T06:17:05.816061Z"
    }
   },
   "outputs": [
    {
     "data": {
      "text/plain": [
       "<AxesSubplot:>"
      ]
     },
     "execution_count": 11,
     "metadata": {},
     "output_type": "execute_result"
    },
    {
     "data": {
      "image/png": "[encoded data removed]",
      "text/plain": [
       "<Figure size 432x288 with 2 Axes>"
      ]
     },
     "metadata": {},
     "output_type": "display_data"
    }
   ],
   "source": [
    "sns.heatmap(corr,annot=True)"
   ]
  },
  {
   "cell_type": "code",
   "execution_count": 12,
   "id": "8acbaee3",
   "metadata": {
    "ExecuteTime": {
     "end_time": "2022-10-27T06:17:08.919974Z",
     "start_time": "2022-10-27T06:17:08.900706Z"
    }
   },
   "outputs": [],
   "source": [
    "# saperating variables\n",
    "x = data[['YearsExperience']]\n",
    "y = data[['Salary']]"
   ]
  },
  {
   "cell_type": "code",
   "execution_count": 16,
   "id": "5ad8fec6",
   "metadata": {
    "ExecuteTime": {
     "end_time": "2022-10-18T04:12:48.392803Z",
     "start_time": "2022-10-18T04:12:48.385344Z"
    }
   },
   "outputs": [],
   "source": [
    "# Linear Regression "
   ]
  },
  {
   "cell_type": "code",
   "execution_count": 13,
   "id": "e930880f",
   "metadata": {
    "ExecuteTime": {
     "end_time": "2022-10-27T06:17:18.235529Z",
     "start_time": "2022-10-27T06:17:18.187995Z"
    }
   },
   "outputs": [],
   "source": [
    "LR = LinearRegression()\n",
    "model = LR.fit(x,y)"
   ]
  },
  {
   "cell_type": "code",
   "execution_count": 14,
   "id": "b84894ee",
   "metadata": {
    "ExecuteTime": {
     "end_time": "2022-10-27T06:17:37.358249Z",
     "start_time": "2022-10-27T06:17:37.341940Z"
    }
   },
   "outputs": [
    {
     "data": {
      "text/plain": [
       "array([[9449.96232146]])"
      ]
     },
     "execution_count": 14,
     "metadata": {},
     "output_type": "execute_result"
    }
   ],
   "source": [
    "coeff = model.coef_\n",
    "coeff"
   ]
  },
  {
   "cell_type": "code",
   "execution_count": 15,
   "id": "417ac755",
   "metadata": {
    "ExecuteTime": {
     "end_time": "2022-10-27T06:17:47.348537Z",
     "start_time": "2022-10-27T06:17:47.334782Z"
    }
   },
   "outputs": [
    {
     "data": {
      "text/plain": [
       "array([25792.20019867])"
      ]
     },
     "execution_count": 15,
     "metadata": {},
     "output_type": "execute_result"
    }
   ],
   "source": [
    "# intercept\n",
    "intercept = model.intercept_\n",
    "intercept"
   ]
  },
  {
   "cell_type": "code",
   "execution_count": 16,
   "id": "f3314de0",
   "metadata": {
    "ExecuteTime": {
     "end_time": "2022-10-27T06:17:57.857872Z",
     "start_time": "2022-10-27T06:17:57.842193Z"
    }
   },
   "outputs": [
    {
     "data": {
      "text/plain": [
       "array([[44692.12484158]])"
      ]
     },
     "execution_count": 16,
     "metadata": {},
     "output_type": "execute_result"
    }
   ],
   "source": [
    "# cross-verifying the linear equation with a single x value using coefficient and intercept\n",
    "# taking Year of experience (x) = 2.0 of index 3 having Salary =43525.0\n",
    "s = coeff*(2.0)+intercept\n",
    "s # nearly same"
   ]
  },
  {
   "cell_type": "code",
   "execution_count": 17,
   "id": "10adc509",
   "metadata": {
    "ExecuteTime": {
     "end_time": "2022-10-27T06:18:00.975404Z",
     "start_time": "2022-10-27T06:18:00.958728Z"
    }
   },
   "outputs": [
    {
     "data": {
      "text/plain": [
       "array([[ 36187.15875227],\n",
       "       [ 38077.15121656],\n",
       "       [ 39967.14368085],\n",
       "       [ 44692.12484158],\n",
       "       [ 46582.11730587],\n",
       "       [ 53197.09093089],\n",
       "       [ 54142.08716303],\n",
       "       [ 56032.07962732],\n",
       "       [ 56032.07962732],\n",
       "       [ 60757.06078805],\n",
       "       [ 62647.05325234],\n",
       "       [ 63592.04948449],\n",
       "       [ 63592.04948449],\n",
       "       [ 64537.04571663],\n",
       "       [ 68317.03064522],\n",
       "       [ 72097.0155738 ],\n",
       "       [ 73987.00803809],\n",
       "       [ 75877.00050238],\n",
       "       [ 81546.97789525],\n",
       "       [ 82491.9741274 ],\n",
       "       [ 90051.94398456],\n",
       "       [ 92886.932681  ],\n",
       "       [100446.90253816],\n",
       "       [103281.8912346 ],\n",
       "       [108006.87239533],\n",
       "       [110841.86109176],\n",
       "       [115566.84225249],\n",
       "       [116511.83848464],\n",
       "       [123126.81210966],\n",
       "       [125016.80457395]])"
      ]
     },
     "execution_count": 17,
     "metadata": {},
     "output_type": "execute_result"
    }
   ],
   "source": [
    "pred = model.predict(x)\n",
    "pred"
   ]
  },
  {
   "cell_type": "code",
   "execution_count": 22,
   "id": "29f415b5",
   "metadata": {
    "ExecuteTime": {
     "end_time": "2022-10-18T04:12:48.552086Z",
     "start_time": "2022-10-18T04:12:48.537840Z"
    }
   },
   "outputs": [],
   "source": [
    " # measuring r2 score , mse and rmse values "
   ]
  },
  {
   "cell_type": "code",
   "execution_count": 18,
   "id": "5a6bdd02",
   "metadata": {
    "ExecuteTime": {
     "end_time": "2022-10-27T06:18:06.085650Z",
     "start_time": "2022-10-27T06:18:06.068680Z"
    }
   },
   "outputs": [
    {
     "data": {
      "text/plain": [
       "0.9569566641435086"
      ]
     },
     "execution_count": 18,
     "metadata": {},
     "output_type": "execute_result"
    }
   ],
   "source": [
    "r2_value = r2_score(y,pred)\n",
    "r2_value # 95 % accuracy is achieved "
   ]
  },
  {
   "cell_type": "code",
   "execution_count": 19,
   "id": "978c3dff",
   "metadata": {
    "ExecuteTime": {
     "end_time": "2022-10-27T06:18:08.842565Z",
     "start_time": "2022-10-27T06:18:08.819741Z"
    }
   },
   "outputs": [
    {
     "data": {
      "text/plain": [
       "31270951.722280957"
      ]
     },
     "execution_count": 19,
     "metadata": {},
     "output_type": "execute_result"
    }
   ],
   "source": [
    "mse = mean_squared_error(y,pred)\n",
    "mse"
   ]
  },
  {
   "cell_type": "code",
   "execution_count": 20,
   "id": "8a0fbad5",
   "metadata": {
    "ExecuteTime": {
     "end_time": "2022-10-27T06:18:16.319039Z",
     "start_time": "2022-10-27T06:18:16.298909Z"
    }
   },
   "outputs": [
    {
     "data": {
      "text/plain": [
       "5592.043608760661"
      ]
     },
     "execution_count": 20,
     "metadata": {},
     "output_type": "execute_result"
    }
   ],
   "source": [
    "rmse = np.sqrt(mse)\n",
    "rmse"
   ]
  },
  {
   "cell_type": "code",
   "execution_count": 26,
   "id": "647926d8",
   "metadata": {
    "ExecuteTime": {
     "end_time": "2022-10-18T04:12:48.618707Z",
     "start_time": "2022-10-18T04:12:48.603160Z"
    }
   },
   "outputs": [],
   "source": [
    "# apply log transformation to check for any improvement in r^2 value "
   ]
  },
  {
   "cell_type": "code",
   "execution_count": 21,
   "id": "49e72ea9",
   "metadata": {
    "ExecuteTime": {
     "end_time": "2022-10-27T06:18:21.302127Z",
     "start_time": "2022-10-27T06:18:21.286346Z"
    }
   },
   "outputs": [],
   "source": [
    "model_log = LR.fit(np.log(x),y)"
   ]
  },
  {
   "cell_type": "code",
   "execution_count": 22,
   "id": "08b81c40",
   "metadata": {
    "ExecuteTime": {
     "end_time": "2022-10-27T06:18:28.568665Z",
     "start_time": "2022-10-27T06:18:28.547515Z"
    }
   },
   "outputs": [
    {
     "data": {
      "text/plain": [
       "array([[40581.98795978]])"
      ]
     },
     "execution_count": 22,
     "metadata": {},
     "output_type": "execute_result"
    }
   ],
   "source": [
    "# for bias \n",
    "coeff_log = model_log.coef_\n",
    "coeff_log"
   ]
  },
  {
   "cell_type": "code",
   "execution_count": 23,
   "id": "64d0ff74",
   "metadata": {
    "ExecuteTime": {
     "end_time": "2022-10-27T06:18:31.774292Z",
     "start_time": "2022-10-27T06:18:31.751509Z"
    }
   },
   "outputs": [
    {
     "data": {
      "text/plain": [
       "array([14927.97177006])"
      ]
     },
     "execution_count": 23,
     "metadata": {},
     "output_type": "execute_result"
    }
   ],
   "source": [
    "# for intercept\n",
    "intercept_log = model_log.intercept_\n",
    "intercept_log"
   ]
  },
  {
   "cell_type": "code",
   "execution_count": 24,
   "id": "789b876e",
   "metadata": {
    "ExecuteTime": {
     "end_time": "2022-10-27T06:18:36.701837Z",
     "start_time": "2022-10-27T06:18:36.671683Z"
    }
   },
   "outputs": [
    {
     "data": {
      "text/plain": [
       "array([[96091.94768962]])"
      ]
     },
     "execution_count": 24,
     "metadata": {},
     "output_type": "execute_result"
    }
   ],
   "source": [
    "# cross-verifying the linear equation with a single x value using coefficient and intercept\n",
    "# taking Year of experience (x) = 2.0 of index 3 having Salary =43525.0\n",
    "s_log= coeff_log*(2.0)+intercept_log\n",
    "s_log # error is very high not a good model lets check r2_ score to confirm"
   ]
  },
  {
   "cell_type": "code",
   "execution_count": 25,
   "id": "d4be526e",
   "metadata": {
    "ExecuteTime": {
     "end_time": "2022-10-27T06:18:41.039997Z",
     "start_time": "2022-10-27T06:18:41.015237Z"
    }
   },
   "outputs": [
    {
     "data": {
      "text/plain": [
       "array([[ 18795.84833932],\n",
       "       [ 25575.23519175],\n",
       "       [ 31382.55190541],\n",
       "       [ 43057.2623059 ],\n",
       "       [ 46925.13887516],\n",
       "       [ 58136.05007933],\n",
       "       [ 59511.84244125],\n",
       "       [ 62130.943929  ],\n",
       "       [ 62130.943929  ],\n",
       "       [ 68022.71850448],\n",
       "       [ 70159.10586295],\n",
       "       [ 71186.55284173],\n",
       "       [ 71186.55284173],\n",
       "       [ 72188.62814857],\n",
       "       [ 75966.42257661],\n",
       "       [ 79422.29572936],\n",
       "       [ 81045.79173698],\n",
       "       [ 82606.82988239],\n",
       "       [ 86959.06670394],\n",
       "       [ 87641.13297709],\n",
       "       [ 92720.50213746],\n",
       "       [ 94472.51469629],\n",
       "       [ 98805.37138951],\n",
       "       [100317.91868441],\n",
       "       [102719.92075053],\n",
       "       [104095.71311245],\n",
       "       [106289.86843506],\n",
       "       [106714.81460019],\n",
       "       [109571.00724698],\n",
       "       [110351.45414519]])"
      ]
     },
     "execution_count": 25,
     "metadata": {},
     "output_type": "execute_result"
    }
   ],
   "source": [
    "pred_log = LR.predict(np.log(x))\n",
    "pred_log"
   ]
  },
  {
   "cell_type": "code",
   "execution_count": 26,
   "id": "b194e2f2",
   "metadata": {
    "ExecuteTime": {
     "end_time": "2022-10-27T06:18:45.808300Z",
     "start_time": "2022-10-27T06:18:45.791516Z"
    }
   },
   "outputs": [
    {
     "data": {
      "text/plain": [
       "0.8538888828756969"
      ]
     },
     "execution_count": 26,
     "metadata": {},
     "output_type": "execute_result"
    }
   ],
   "source": [
    "r2_value_log = r2_score(y,pred_log)\n",
    "r2_value_log # accuracy of the model decreased drastically "
   ]
  },
  {
   "cell_type": "code",
   "execution_count": 33,
   "id": "d00ac097",
   "metadata": {
    "ExecuteTime": {
     "end_time": "2022-10-18T04:12:48.735167Z",
     "start_time": "2022-10-18T04:12:48.719521Z"
    }
   },
   "outputs": [],
   "source": [
    "# applying exponential transformation"
   ]
  },
  {
   "cell_type": "code",
   "execution_count": 27,
   "id": "b484f0d6",
   "metadata": {
    "ExecuteTime": {
     "end_time": "2022-10-27T06:18:50.104006Z",
     "start_time": "2022-10-27T06:18:50.087476Z"
    }
   },
   "outputs": [],
   "source": [
    "model_expo = LR.fit(np.exp(x),y)"
   ]
  },
  {
   "cell_type": "code",
   "execution_count": 28,
   "id": "dd5dd6c5",
   "metadata": {
    "ExecuteTime": {
     "end_time": "2022-10-27T06:18:52.616496Z",
     "start_time": "2022-10-27T06:18:52.596034Z"
    }
   },
   "outputs": [
    {
     "data": {
      "text/plain": [
       "array([[2.13604036]])"
      ]
     },
     "execution_count": 28,
     "metadata": {},
     "output_type": "execute_result"
    }
   ],
   "source": [
    "# bias value \n",
    "model_expo_coeff =model_expo.coef_\n",
    "model_expo_coeff"
   ]
  },
  {
   "cell_type": "code",
   "execution_count": 29,
   "id": "f23ce953",
   "metadata": {
    "ExecuteTime": {
     "end_time": "2022-10-27T06:18:56.267768Z",
     "start_time": "2022-10-27T06:18:56.238018Z"
    }
   },
   "outputs": [
    {
     "data": {
      "text/plain": [
       "array([67568.62496898])"
      ]
     },
     "execution_count": 29,
     "metadata": {},
     "output_type": "execute_result"
    }
   ],
   "source": [
    "# intercept value\n",
    "model_expo_intercept = model_expo.intercept_\n",
    "model_expo_intercept"
   ]
  },
  {
   "cell_type": "code",
   "execution_count": 30,
   "id": "c031a4bd",
   "metadata": {
    "ExecuteTime": {
     "end_time": "2022-10-27T06:18:59.234924Z",
     "start_time": "2022-10-27T06:18:59.215750Z"
    }
   },
   "outputs": [
    {
     "data": {
      "text/plain": [
       "array([[ 67575.04198885],\n",
       "       [ 67576.46273475],\n",
       "       [ 67578.19803771],\n",
       "       [ 67584.40829102],\n",
       "       [ 67587.90276205],\n",
       "       [ 67607.44567697],\n",
       "       [ 67611.52848647],\n",
       "       [ 67621.02744358],\n",
       "       [ 67621.02744358],\n",
       "       [ 67655.02204349],\n",
       "       [ 67674.15059409],\n",
       "       [ 67685.24882096],\n",
       "       [ 67685.24882096],\n",
       "       [ 67697.51425854],\n",
       "       [ 67760.90519441],\n",
       "       [ 67855.47335814],\n",
       "       [ 67918.98238267],\n",
       "       [ 67996.55248041],\n",
       "       [ 68348.35973276],\n",
       "       [ 68430.36515372],\n",
       "       [ 69486.46301984],\n",
       "       [ 70157.43555344],\n",
       "       [ 73330.12888081],\n",
       "       [ 75345.84176924],\n",
       "       [ 80391.08773442],\n",
       "       [ 84877.13926773],\n",
       "       [ 96105.54065754],\n",
       "       [ 99106.79427956],\n",
       "       [131078.69880681],\n",
       "       [145140.00432547]])"
      ]
     },
     "execution_count": 30,
     "metadata": {},
     "output_type": "execute_result"
    }
   ],
   "source": [
    "pred_expo = LR.predict(np.exp(x))\n",
    "pred_expo"
   ]
  },
  {
   "cell_type": "code",
   "execution_count": 31,
   "id": "52aa8c94",
   "metadata": {
    "ExecuteTime": {
     "end_time": "2022-10-27T06:19:02.901421Z",
     "start_time": "2022-10-27T06:19:02.879479Z"
    }
   },
   "outputs": [
    {
     "data": {
      "text/plain": [
       "0.47238440560728745"
      ]
     },
     "execution_count": 31,
     "metadata": {},
     "output_type": "execute_result"
    }
   ],
   "source": [
    "# measuring r2 score , mse and rmse values\n",
    "r2_value_expo = r2_score(y,pred_expo)\n",
    "r2_value_expo # even worst model compared to log transformation "
   ]
  },
  {
   "cell_type": "code",
   "execution_count": null,
   "id": "01da8464",
   "metadata": {},
   "outputs": [],
   "source": [
    "# concluding that no transformation can increase the accuracy of the model "
   ]
  },
  {
   "cell_type": "code",
   "execution_count": null,
   "id": "7d9aaeb8",
   "metadata": {},
   "outputs": [],
   "source": []
  },
  {
   "cell_type": "code",
   "execution_count": null,
   "id": "e7788b6f",
   "metadata": {},
   "outputs": [],
   "source": []
  },
  {
   "cell_type": "code",
   "execution_count": null,
   "id": "1c643f55",
   "metadata": {},
   "outputs": [],
   "source": []
  }
 ],
 "metadata": {
  "gist": {
   "data": {
    "description": "SLR(Salary).ipynb",
    "public": false
   },
   "id": ""
  },
  "kernelspec": {
   "display_name": "Python 3 (ipykernel)",
   "language": "python",
   "name": "python3"
  },
  "language_info": {
   "codemirror_mode": {
    "name": "ipython",
    "version": 3
   },
   "file_extension": ".py",
   "mimetype": "text/x-python",
   "name": "python",
   "nbconvert_exporter": "python",
   "pygments_lexer": "ipython3",
   "version": "3.9.12"
  }
 },
 "nbformat": 4,
 "nbformat_minor": 5
}
