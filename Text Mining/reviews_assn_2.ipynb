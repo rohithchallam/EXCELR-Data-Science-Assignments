{
 "cells": [
  {
   "cell_type": "markdown",
   "id": "7e3f13f4",
   "metadata": {},
   "source": [
    "# web scrapping to extract reviews of my laptop from amazon website "
   ]
  },
  {
   "cell_type": "code",
   "execution_count": 4,
   "id": "6f52a72b",
   "metadata": {
    "ExecuteTime": {
     "end_time": "2022-11-24T12:04:50.945109Z",
     "start_time": "2022-11-24T12:04:50.680122Z"
    }
   },
   "outputs": [],
   "source": [
    "import requests\n",
    "from bs4 import BeautifulSoup"
   ]
  },
  {
   "cell_type": "code",
   "execution_count": 5,
   "id": "72ba50d9",
   "metadata": {
    "ExecuteTime": {
     "end_time": "2022-11-24T12:04:50.960502Z",
     "start_time": "2022-11-24T12:04:50.945109Z"
    }
   },
   "outputs": [],
   "source": [
    "amazon_url = 'https://www.amazon.in/HP-Pavilion-Processor-Graphics-15-ec2150AX/product-reviews/B09MF8KMRW/ref=cm_cr_arp_d_paging_btm_next_2?ie=UTF8&reviewerType=all_reviews&pageNumber=1'"
   ]
  },
  {
   "cell_type": "code",
   "execution_count": 6,
   "id": "b1e9fe6e",
   "metadata": {
    "ExecuteTime": {
     "end_time": "2022-11-24T12:04:50.976186Z",
     "start_time": "2022-11-24T12:04:50.963652Z"
    }
   },
   "outputs": [],
   "source": [
    "# writing a function for requesting amazon for the data and parsing the data using Beautiful soup"
   ]
  },
  {
   "cell_type": "code",
   "execution_count": 7,
   "id": "d6195cd1",
   "metadata": {
    "ExecuteTime": {
     "end_time": "2022-11-24T12:04:51.875315Z",
     "start_time": "2022-11-24T12:04:50.979235Z"
    }
   },
   "outputs": [],
   "source": [
    " header = {'user-agent':'Mozilla/5.0 (Windows NT 10.0; Win64; x64) AppleWebKit/537.36 (KHTML, like Gecko) Chrome/107.0.0.0 Safari/'}\n",
    "review_page = requests.get(url = amazon_url ,headers=header)\n",
    "soup = BeautifulSoup(review_page.text , 'html.parser')"
   ]
  },
  {
   "cell_type": "code",
   "execution_count": 8,
   "id": "ba24135e",
   "metadata": {
    "ExecuteTime": {
     "end_time": "2022-11-24T12:04:51.890656Z",
     "start_time": "2022-11-24T12:04:51.875315Z"
    }
   },
   "outputs": [],
   "source": [
    "def get_soup(amazon_url):\n",
    "    header = {'user-agent':'Mozilla/5.0 (Windows NT 10.0; Win64; x64) AppleWebKit/537.36 (KHTML, like Gecko) Chrome/107.0.0.0 Safari/'}\n",
    "    review_page = requests.get(url = amazon_url ,headers=header)\n",
    "    soup = BeautifulSoup(review_page.text , 'html.parser')\n",
    "    return soup"
   ]
  },
  {
   "cell_type": "code",
   "execution_count": 9,
   "id": "2f74c224",
   "metadata": {
    "ExecuteTime": {
     "end_time": "2022-11-24T12:04:51.906026Z",
     "start_time": "2022-11-24T12:04:51.892687Z"
    }
   },
   "outputs": [],
   "source": [
    "review_list = []"
   ]
  },
  {
   "cell_type": "code",
   "execution_count": 10,
   "id": "1eaf7d07",
   "metadata": {
    "ExecuteTime": {
     "end_time": "2022-11-24T12:04:51.921084Z",
     "start_time": "2022-11-24T12:04:51.908045Z"
    }
   },
   "outputs": [],
   "source": [
    "def get_reviews(soup):\n",
    "    reviews = soup.find_all('div',{'data-hook':'review'})\n",
    "    try:\n",
    "        for item in reviews:\n",
    "            review = {'comment': item.find('span',{'data-hook':'review-body'}).text.strip()}\n",
    "            review_list.append(review)\n",
    "    except:\n",
    "        pass\n"
   ]
  },
  {
   "cell_type": "code",
   "execution_count": null,
   "id": "d932d634",
   "metadata": {
    "ExecuteTime": {
     "end_time": "2022-11-24T12:04:51.941063Z",
     "start_time": "2022-11-24T12:04:51.941063Z"
    }
   },
   "outputs": [],
   "source": [
    "for x in range(1,10):\n",
    "    a = get_soup(f'https://www.amazon.in/HP-Pavilion-Processor-Graphics-15-ec2150AX/product-reviews/B09MF8KMRW/ref=cm_cr_arp_d_paging_btm_next_2?ie=UTF8&reviewerType=all_reviews&pageNumber={x}')\n",
    "    print(f'Getting page {x}')\n",
    "    get_reviews(a)\n",
    "    print(len(review_list))\n",
    "    if not soup.find('li',{'class':'a-disabled a-last'}):\n",
    "        pass\n",
    "    else:\n",
    "        break\n",
    "    "
   ]
  },
  {
   "cell_type": "code",
   "execution_count": null,
   "id": "69bc6c29",
   "metadata": {
    "ExecuteTime": {
     "end_time": "2022-11-24T12:04:51.942068Z",
     "start_time": "2022-11-24T12:04:51.942068Z"
    }
   },
   "outputs": [],
   "source": [
    "import pandas as pd\n",
    "pavillion_reviews = pd.DataFrame(review_list)"
   ]
  },
  {
   "cell_type": "code",
   "execution_count": null,
   "id": "cf393fcc",
   "metadata": {
    "ExecuteTime": {
     "end_time": "2022-11-24T12:04:51.944092Z",
     "start_time": "2022-11-24T12:04:51.944092Z"
    }
   },
   "outputs": [],
   "source": [
    "pavillion_reviews.to_csv('amazon')"
   ]
  },
  {
   "cell_type": "code",
   "execution_count": null,
   "id": "0aafbda5",
   "metadata": {
    "ExecuteTime": {
     "end_time": "2022-11-24T12:04:51.945183Z",
     "start_time": "2022-11-24T12:04:51.945183Z"
    }
   },
   "outputs": [],
   "source": [
    "pavillion_reviews.isna().sum()"
   ]
  },
  {
   "cell_type": "markdown",
   "id": "89ba8ff1",
   "metadata": {
    "ExecuteTime": {
     "end_time": "2022-11-09T03:31:53.682650Z",
     "start_time": "2022-11-09T03:31:53.673968Z"
    }
   },
   "source": [
    "# textmining"
   ]
  },
  {
   "cell_type": "code",
   "execution_count": null,
   "id": "adeb9274",
   "metadata": {
    "ExecuteTime": {
     "end_time": "2022-11-24T12:04:51.947289Z",
     "start_time": "2022-11-24T12:04:51.947289Z"
    }
   },
   "outputs": [],
   "source": [
    "import numpy as np\n",
    "import pandas as pd\n",
    "import string \n",
    "import spacy \n",
    "import re \n",
    "from matplotlib.pyplot import imread\n",
    "from matplotlib import pyplot as plt\n",
    "from wordcloud import WordCloud\n",
    "%matplotlib inline "
   ]
  },
  {
   "cell_type": "code",
   "execution_count": null,
   "id": "2b76603e",
   "metadata": {
    "ExecuteTime": {
     "end_time": "2022-11-24T12:04:51.948296Z",
     "start_time": "2022-11-24T12:04:51.948296Z"
    }
   },
   "outputs": [],
   "source": [
    "pavillion_reviews.comment = pavillion_reviews.comment.apply(lambda x:re.sub('[^a-zA-Z]',' ',x))\n",
    "pavillion_reviews"
   ]
  },
  {
   "cell_type": "code",
   "execution_count": null,
   "id": "35c753d7",
   "metadata": {
    "ExecuteTime": {
     "end_time": "2022-11-24T12:04:51.950331Z",
     "start_time": "2022-11-24T12:04:51.950331Z"
    }
   },
   "outputs": [],
   "source": [
    "pavillion_reviews_copy = pavillion_reviews.copy()"
   ]
  },
  {
   "cell_type": "code",
   "execution_count": null,
   "id": "becdcc5f",
   "metadata": {
    "ExecuteTime": {
     "end_time": "2022-11-24T12:04:51.952362Z",
     "start_time": "2022-11-24T12:04:51.952362Z"
    }
   },
   "outputs": [],
   "source": [
    "pavillion_reviews = [comment.strip() for comment in pavillion_reviews.comment] # remove both the leading and the trailing characters\n",
    "pavillion_reviews = [comment for comment in pavillion_reviews if comment] # removes empty strings, because they are considered in Python as False\n",
    "pavillion_reviews[0:10] "
   ]
  },
  {
   "cell_type": "code",
   "execution_count": null,
   "id": "ea5cb7fd",
   "metadata": {
    "ExecuteTime": {
     "end_time": "2022-11-24T12:04:51.953452Z",
     "start_time": "2022-11-24T12:04:51.953452Z"
    }
   },
   "outputs": [],
   "source": [
    "# Joining the list into one string/text\n",
    "text = ' '.join(pavillion_reviews)\n",
    "text "
   ]
  },
  {
   "cell_type": "code",
   "execution_count": null,
   "id": "6516e23e",
   "metadata": {
    "ExecuteTime": {
     "end_time": "2022-11-24T12:04:51.955491Z",
     "start_time": "2022-11-24T12:04:51.955491Z"
    }
   },
   "outputs": [],
   "source": [
    "#Punctuation\n",
    "no_punc_text = text.translate(str.maketrans('', '', string.punctuation))\n",
    "no_punc_text"
   ]
  },
  {
   "cell_type": "code",
   "execution_count": null,
   "id": "24822936",
   "metadata": {
    "ExecuteTime": {
     "end_time": "2022-11-24T12:04:51.956548Z",
     "start_time": "2022-11-24T12:04:51.956548Z"
    }
   },
   "outputs": [],
   "source": [
    "#Tokenization\n",
    "import nltk\n",
    "nltk.download('punkt')\n",
    "from nltk.tokenize import word_tokenize\n",
    "text_tokens = word_tokenize(no_punc_text)\n",
    "print(text_tokens[0:50]) "
   ]
  },
  {
   "cell_type": "code",
   "execution_count": null,
   "id": "a9d0f9de",
   "metadata": {
    "ExecuteTime": {
     "end_time": "2022-11-24T12:04:51.958649Z",
     "start_time": "2022-11-24T12:04:51.957555Z"
    }
   },
   "outputs": [],
   "source": [
    "len(text_tokens) "
   ]
  },
  {
   "cell_type": "code",
   "execution_count": null,
   "id": "49f31c10",
   "metadata": {
    "ExecuteTime": {
     "end_time": "2022-11-24T12:04:51.959655Z",
     "start_time": "2022-11-24T12:04:51.959655Z"
    }
   },
   "outputs": [],
   "source": [
    "#Remove stopwords\n",
    "import nltk\n",
    "from nltk.corpus import stopwords\n",
    "nltk.download('punkt')\n",
    "nltk.download('stopwords')\n",
    "\n",
    "my_stop_words = stopwords.words('english')\n",
    "my_stop_words.append(['the','and'])\n",
    "no_stop_tokens = [word for word in text_tokens if not word in my_stop_words]\n",
    "print(no_stop_tokens[0:40]) "
   ]
  },
  {
   "cell_type": "code",
   "execution_count": null,
   "id": "a30cb423",
   "metadata": {
    "ExecuteTime": {
     "end_time": "2022-11-24T12:04:51.960664Z",
     "start_time": "2022-11-24T12:04:51.960664Z"
    }
   },
   "outputs": [],
   "source": [
    "#Noramalize the data\n",
    "lower_words = [x.lower() for x in no_stop_tokens]\n",
    "print(lower_words[0:25]) "
   ]
  },
  {
   "cell_type": "code",
   "execution_count": null,
   "id": "465fba14",
   "metadata": {
    "ExecuteTime": {
     "end_time": "2022-11-24T12:04:51.960664Z",
     "start_time": "2022-11-24T12:04:51.960664Z"
    }
   },
   "outputs": [],
   "source": [
    "# NLP english language model of spacy library\n",
    "nlp = spacy.load('en_core_web_sm')   "
   ]
  },
  {
   "cell_type": "code",
   "execution_count": null,
   "id": "0b056c7b",
   "metadata": {
    "ExecuteTime": {
     "end_time": "2022-11-24T12:04:51.960664Z",
     "start_time": "2022-11-24T12:04:51.960664Z"
    }
   },
   "outputs": [],
   "source": [
    "# lemmas being one of them, but mostly POS, which will follow later\n",
    "doc = nlp(' '.join(no_stop_tokens))\n",
    "print(doc[0:40]) "
   ]
  },
  {
   "cell_type": "code",
   "execution_count": null,
   "id": "77821474",
   "metadata": {
    "ExecuteTime": {
     "end_time": "2022-11-24T12:04:51.966551Z",
     "start_time": "2022-11-24T12:04:51.966551Z"
    }
   },
   "outputs": [],
   "source": [
    "lemmas = [token.lemma_ for token in doc]\n",
    "print(lemmas[0:25])"
   ]
  },
  {
   "cell_type": "code",
   "execution_count": null,
   "id": "13d19e4a",
   "metadata": {
    "ExecuteTime": {
     "end_time": "2022-11-24T12:04:51.967638Z",
     "start_time": "2022-11-24T12:04:51.967638Z"
    }
   },
   "outputs": [],
   "source": [
    "from sklearn.feature_extraction.text import TfidfVectorizer\n",
    "vectorizer_n_gram_max_features = TfidfVectorizer(norm=\"l2\",analyzer='word', ngram_range=(1,3), max_features = 500)\n",
    "tf_idf_matrix_n_gram_max_features =vectorizer_n_gram_max_features.fit_transform(pavillion_reviews)\n",
    "print(vectorizer_n_gram_max_features.get_feature_names())\n",
    "print(tf_idf_matrix_n_gram_max_features.toarray()) "
   ]
  },
  {
   "cell_type": "code",
   "execution_count": null,
   "id": "c6e2dfbb",
   "metadata": {
    "ExecuteTime": {
     "end_time": "2022-11-24T12:04:51.969699Z",
     "start_time": "2022-11-24T12:04:51.969699Z"
    }
   },
   "outputs": [],
   "source": [
    "# Import packages\n",
    "import matplotlib.pyplot as plt\n",
    "%matplotlib inline\n",
    "from wordcloud import WordCloud, STOPWORDS\n",
    "# Define a function to plot word cloud\n",
    "def plot_cloud(wordcloud):\n",
    "    # Set figure size\n",
    "    plt.figure(figsize=(40, 30))\n",
    "    # Display image\n",
    "    plt.imshow(wordcloud) \n",
    "    # No axis details\n",
    "    plt.axis(\"off\"); "
   ]
  },
  {
   "cell_type": "code",
   "execution_count": null,
   "id": "3dd9c8d6",
   "metadata": {
    "ExecuteTime": {
     "end_time": "2022-11-24T12:04:51.971700Z",
     "start_time": "2022-11-24T12:04:51.971700Z"
    }
   },
   "outputs": [],
   "source": [
    "# Generate wordcloud\n",
    "stopwords = STOPWORDS\n",
    "stopwords.add('will')\n",
    "wordcloud = WordCloud(width = 3000, height = 2000, background_color='black', max_words=100,colormap='Set2',stopwords=stopwords).generate(text)\n",
    "# Plot\n",
    "plot_cloud(wordcloud)"
   ]
  },
  {
   "cell_type": "markdown",
   "id": "80eef47b",
   "metadata": {},
   "source": [
    "# emotional mining"
   ]
  },
  {
   "cell_type": "code",
   "execution_count": null,
   "id": "ee98d2f1",
   "metadata": {
    "ExecuteTime": {
     "end_time": "2022-11-24T12:04:51.972701Z",
     "start_time": "2022-11-24T12:04:51.972701Z"
    }
   },
   "outputs": [],
   "source": [
    "# sentiment analysis using vader"
   ]
  },
  {
   "cell_type": "code",
   "execution_count": null,
   "id": "8b8aacab",
   "metadata": {
    "ExecuteTime": {
     "end_time": "2022-11-24T12:04:51.974786Z",
     "start_time": "2022-11-24T12:04:51.974786Z"
    }
   },
   "outputs": [],
   "source": [
    "from vaderSentiment.vaderSentiment import SentimentIntensityAnalyzer"
   ]
  },
  {
   "cell_type": "code",
   "execution_count": null,
   "id": "7d7abdbf",
   "metadata": {
    "ExecuteTime": {
     "end_time": "2022-11-24T12:04:51.977008Z",
     "start_time": "2022-11-24T12:04:51.977008Z"
    }
   },
   "outputs": [],
   "source": [
    "sentiment =  SentimentIntensityAnalyzer()"
   ]
  },
  {
   "cell_type": "code",
   "execution_count": null,
   "id": "3abb5e20",
   "metadata": {
    "ExecuteTime": {
     "end_time": "2022-11-24T12:04:51.978016Z",
     "start_time": "2022-11-24T12:04:51.978016Z"
    }
   },
   "outputs": [],
   "source": [
    "sentiment_dict = sentiment.polarity_scores(text)\n",
    "sentiment_dict"
   ]
  },
  {
   "cell_type": "code",
   "execution_count": null,
   "id": "fa3bd0c8",
   "metadata": {
    "ExecuteTime": {
     "end_time": "2022-11-24T12:04:51.980093Z",
     "start_time": "2022-11-24T12:04:51.980093Z"
    }
   },
   "outputs": [],
   "source": [
    "# sentiment analysis using textblob"
   ]
  },
  {
   "cell_type": "code",
   "execution_count": null,
   "id": "fa393f4e",
   "metadata": {
    "ExecuteTime": {
     "end_time": "2022-11-24T12:04:51.981101Z",
     "start_time": "2022-11-24T12:04:51.981101Z"
    }
   },
   "outputs": [],
   "source": [
    "from textblob import TextBlob"
   ]
  },
  {
   "cell_type": "code",
   "execution_count": null,
   "id": "45fdff4c",
   "metadata": {
    "ExecuteTime": {
     "end_time": "2022-11-24T12:04:51.983159Z",
     "start_time": "2022-11-24T12:04:51.983159Z"
    }
   },
   "outputs": [],
   "source": [
    "#Create a function to get the subjectivity\n",
    "def getSubjectivity(text):\n",
    "    return TextBlob(text).sentiment.subjectivity"
   ]
  },
  {
   "cell_type": "code",
   "execution_count": null,
   "id": "04d780bb",
   "metadata": {
    "ExecuteTime": {
     "end_time": "2022-11-24T12:04:51.985267Z",
     "start_time": "2022-11-24T12:04:51.985267Z"
    }
   },
   "outputs": [],
   "source": [
    "def getPolarity(text):\n",
    "    return TextBlob(text).sentiment.polarity"
   ]
  },
  {
   "cell_type": "code",
   "execution_count": null,
   "id": "2245a8e4",
   "metadata": {
    "ExecuteTime": {
     "end_time": "2022-11-24T12:04:51.987276Z",
     "start_time": "2022-11-24T12:04:51.987276Z"
    }
   },
   "outputs": [],
   "source": [
    "#Create two new columns ‘Subjectivity’ & ‘Polarity’\n",
    "pavillion_reviews_copy['Subjectivity'] = pavillion_reviews_copy['comment'].apply(getSubjectivity)\n",
    "pavillion_reviews_copy['Polarity'] = pavillion_reviews_copy['comment'].apply(getPolarity)"
   ]
  },
  {
   "cell_type": "code",
   "execution_count": null,
   "id": "814a1631",
   "metadata": {
    "ExecuteTime": {
     "end_time": "2022-11-24T12:04:51.989292Z",
     "start_time": "2022-11-24T12:04:51.989292Z"
    }
   },
   "outputs": [],
   "source": [
    "pavillion_reviews_copy"
   ]
  },
  {
   "cell_type": "code",
   "execution_count": null,
   "id": "85ddd46c",
   "metadata": {
    "ExecuteTime": {
     "end_time": "2022-11-24T12:04:51.990296Z",
     "start_time": "2022-11-24T12:04:51.990296Z"
    }
   },
   "outputs": [],
   "source": [
    "def getAnalysis(score):\n",
    "        if score < 0:\n",
    "            return 'Negative'\n",
    "        elif score == 0:\n",
    "            return 'Neutral'\n",
    "        else:\n",
    "            return 'Positive'\n",
    "        return TextBlob(text).apply(getAnalysis)"
   ]
  },
  {
   "cell_type": "code",
   "execution_count": null,
   "id": "f5c85349",
   "metadata": {
    "ExecuteTime": {
     "end_time": "2022-11-24T12:04:51.992306Z",
     "start_time": "2022-11-24T12:04:51.992306Z"
    }
   },
   "outputs": [],
   "source": [
    "pavillion_reviews_copy['Analysis'] = pavillion_reviews_copy['Polarity'].apply(getAnalysis )\n",
    "pavillion_reviews_copy"
   ]
  },
  {
   "cell_type": "code",
   "execution_count": null,
   "id": "35b110aa",
   "metadata": {
    "ExecuteTime": {
     "end_time": "2022-11-24T12:04:51.993312Z",
     "start_time": "2022-11-24T12:04:51.993312Z"
    }
   },
   "outputs": [],
   "source": [
    "pavillion_reviews_copy['Analysis'].value_counts().plot(kind = 'bar')\n",
    "# most of the reviews are positive in nature"
   ]
  },
  {
   "cell_type": "code",
   "execution_count": null,
   "id": "b1c9553a",
   "metadata": {
    "ExecuteTime": {
     "end_time": "2022-11-24T12:04:51.994405Z",
     "start_time": "2022-11-24T12:04:51.994405Z"
    }
   },
   "outputs": [],
   "source": [
    "# Sentiment score of the whole reviews\n",
    "pavillion_reviews_copy.describe().T"
   ]
  },
  {
   "cell_type": "code",
   "execution_count": null,
   "id": "7d83e0dd",
   "metadata": {
    "ExecuteTime": {
     "end_time": "2022-11-24T12:04:51.994405Z",
     "start_time": "2022-11-24T12:04:51.994405Z"
    }
   },
   "outputs": [],
   "source": [
    "# as subjectivity greater 0 suggests the reviews are opinions "
   ]
  },
  {
   "cell_type": "code",
   "execution_count": null,
   "id": "2f956f44",
   "metadata": {
    "ExecuteTime": {
     "end_time": "2022-11-24T12:04:51.994405Z",
     "start_time": "2022-11-24T12:04:51.994405Z"
    }
   },
   "outputs": [],
   "source": [
    "# positive reviews \n",
    "pavillion_reviews_copy[pavillion_reviews_copy['Analysis']=='Positive']"
   ]
  },
  {
   "cell_type": "code",
   "execution_count": null,
   "id": "0c9a87b4",
   "metadata": {
    "ExecuteTime": {
     "end_time": "2022-11-24T12:04:51.999912Z",
     "start_time": "2022-11-24T12:04:51.999912Z"
    }
   },
   "outputs": [],
   "source": [
    "# negative reviews \n",
    "pavillion_reviews_copy[pavillion_reviews_copy['Analysis']=='Negative']"
   ]
  },
  {
   "cell_type": "code",
   "execution_count": null,
   "id": "cf4388eb",
   "metadata": {
    "ExecuteTime": {
     "end_time": "2022-11-24T12:04:52.002519Z",
     "start_time": "2022-11-24T12:04:52.002519Z"
    }
   },
   "outputs": [],
   "source": [
    "# neutral reviews \n",
    "pavillion_reviews_copy[pavillion_reviews_copy['Analysis']=='Neutral']"
   ]
  }
 ],
 "metadata": {
  "kernelspec": {
   "display_name": "Python 3 (ipykernel)",
   "language": "python",
   "name": "python3"
  },
  "language_info": {
   "codemirror_mode": {
    "name": "ipython",
    "version": 3
   },
   "file_extension": ".py",
   "mimetype": "text/x-python",
   "name": "python",
   "nbconvert_exporter": "python",
   "pygments_lexer": "ipython3",
   "version": "3.9.13"
  }
 },
 "nbformat": 4,
 "nbformat_minor": 5
}
