{
 "cells": [
  {
   "cell_type": "code",
   "execution_count": 1,
   "id": "2abec418",
   "metadata": {
    "ExecuteTime": {
     "end_time": "2022-11-13T17:40:42.531301Z",
     "start_time": "2022-11-13T17:40:42.504808Z"
    }
   },
   "outputs": [],
   "source": [
    "from scipy import stats\n",
    "from scipy.stats import norm"
   ]
  },
  {
   "cell_type": "code",
   "execution_count": 2,
   "id": "7b4ab908",
   "metadata": {
    "ExecuteTime": {
     "end_time": "2022-11-13T17:41:13.355832Z",
     "start_time": "2022-11-13T17:41:13.327370Z"
    }
   },
   "outputs": [],
   "source": [
    "mean =  50\n",
    "std = 40"
   ]
  },
  {
   "cell_type": "code",
   "execution_count": null,
   "id": "87abd95f",
   "metadata": {},
   "outputs": [],
   "source": [
    "#we find  P ( 45 <X < 55)"
   ]
  },
  {
   "cell_type": "code",
   "execution_count": 7,
   "id": "f5dedbdd",
   "metadata": {
    "ExecuteTime": {
     "end_time": "2022-11-13T17:43:26.946553Z",
     "start_time": "2022-11-13T17:43:26.931402Z"
    }
   },
   "outputs": [
    {
     "data": {
      "text/plain": [
       "-1.25"
      ]
     },
     "execution_count": 7,
     "metadata": {},
     "output_type": "execute_result"
    }
   ],
   "source": [
    "# for 45\n",
    "z_45  = (45 - 50 ) / (40 / 100**0.5)\n",
    "z_45"
   ]
  },
  {
   "cell_type": "code",
   "execution_count": 6,
   "id": "211f1033",
   "metadata": {
    "ExecuteTime": {
     "end_time": "2022-11-13T17:42:42.533980Z",
     "start_time": "2022-11-13T17:42:42.510115Z"
    }
   },
   "outputs": [
    {
     "data": {
      "text/plain": [
       "1.25"
      ]
     },
     "execution_count": 6,
     "metadata": {},
     "output_type": "execute_result"
    }
   ],
   "source": [
    "# for 55 \n",
    "z_55  = (55 -50 ) / (40 / 100**0.5) \n",
    "z_55"
   ]
  },
  {
   "cell_type": "code",
   "execution_count": 10,
   "id": "62a21fb1",
   "metadata": {
    "ExecuteTime": {
     "end_time": "2022-11-13T17:45:53.500868Z",
     "start_time": "2022-11-13T17:45:53.481321Z"
    }
   },
   "outputs": [
    {
     "data": {
      "text/plain": [
       "0.7887004526662893"
      ]
     },
     "execution_count": 10,
     "metadata": {},
     "output_type": "execute_result"
    }
   ],
   "source": [
    "# P ( 45 < X < 55 ) = k\n",
    "k = stats .norm.cdf  (1.25)  -  stats.norm.cdf ( - 1.25 ) \n",
    "k"
   ]
  },
  {
   "cell_type": "code",
   "execution_count": 12,
   "id": "87686171",
   "metadata": {
    "ExecuteTime": {
     "end_time": "2022-11-13T17:46:05.398161Z",
     "start_time": "2022-11-13T17:46:05.373709Z"
    }
   },
   "outputs": [
    {
     "data": {
      "text/plain": [
       "21.129954733371072"
      ]
     },
     "execution_count": 12,
     "metadata": {},
     "output_type": "execute_result"
    }
   ],
   "source": [
    "#  1  - P ( 45 < X < 55 ) = (1-k) =j\n",
    "j = (1- k)*100\n",
    "j"
   ]
  },
  {
   "cell_type": "code",
   "execution_count": null,
   "id": "d2e3e828",
   "metadata": {},
   "outputs": [],
   "source": [
    "# approximately 21 percent "
   ]
  }
 ],
 "metadata": {
  "kernelspec": {
   "display_name": "Python 3 (ipykernel)",
   "language": "python",
   "name": "python3"
  },
  "language_info": {
   "codemirror_mode": {
    "name": "ipython",
    "version": 3
   },
   "file_extension": ".py",
   "mimetype": "text/x-python",
   "name": "python",
   "nbconvert_exporter": "python",
   "pygments_lexer": "ipython3",
   "version": "3.9.12"
  }
 },
 "nbformat": 4,
 "nbformat_minor": 5
}
