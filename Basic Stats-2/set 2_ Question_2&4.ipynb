{
 "cells": [
  {
   "cell_type": "markdown",
   "id": "59da3e13",
   "metadata": {},
   "source": [
    "# Question 2 :"
   ]
  },
  {
   "cell_type": "markdown",
   "id": "d681a94a",
   "metadata": {},
   "source": [
    "# A :"
   ]
  },
  {
   "cell_type": "code",
   "execution_count": 16,
   "id": "fd9296ec",
   "metadata": {
    "ExecuteTime": {
     "end_time": "2022-11-13T16:40:51.508033Z",
     "start_time": "2022-11-13T16:40:51.499959Z"
    }
   },
   "outputs": [],
   "source": [
    "from scipy import stats\n",
    "from scipy.stats import norm"
   ]
  },
  {
   "cell_type": "code",
   "execution_count": 21,
   "id": "6569bf07",
   "metadata": {
    "ExecuteTime": {
     "end_time": "2022-11-13T16:44:15.720578Z",
     "start_time": "2022-11-13T16:44:15.703840Z"
    }
   },
   "outputs": [],
   "source": [
    "mean_age  = 38\n",
    "at_x = 44\n",
    "N = 400\n",
    "std = 6"
   ]
  },
  {
   "cell_type": "code",
   "execution_count": 24,
   "id": "7bc568ae",
   "metadata": {
    "ExecuteTime": {
     "end_time": "2022-11-13T16:45:21.826511Z",
     "start_time": "2022-11-13T16:45:21.795256Z"
    }
   },
   "outputs": [
    {
     "data": {
      "text/plain": [
       "0.8413447460685429"
      ]
     },
     "execution_count": 24,
     "metadata": {},
     "output_type": "execute_result"
    }
   ],
   "source": [
    "z_score = stats.norm.cdf(44,38,6)\n",
    "z_score"
   ]
  },
  {
   "cell_type": "code",
   "execution_count": 25,
   "id": "b3c5ec28",
   "metadata": {
    "ExecuteTime": {
     "end_time": "2022-11-13T16:46:35.665234Z",
     "start_time": "2022-11-13T16:46:35.641497Z"
    }
   },
   "outputs": [
    {
     "data": {
      "text/plain": [
       "0.15865525393145707"
      ]
     },
     "execution_count": 25,
     "metadata": {},
     "output_type": "execute_result"
    }
   ],
   "source": [
    "# people above 44 years old \n",
    "z_above_44 = (1-z_score)\n",
    "z_above_44"
   ]
  },
  {
   "cell_type": "code",
   "execution_count": 26,
   "id": "5a78688f",
   "metadata": {
    "ExecuteTime": {
     "end_time": "2022-11-13T16:47:35.527505Z",
     "start_time": "2022-11-13T16:47:35.495074Z"
    }
   },
   "outputs": [
    {
     "data": {
      "text/plain": [
       "63.2"
      ]
     },
     "execution_count": 26,
     "metadata": {},
     "output_type": "execute_result"
    }
   ],
   "source": [
    "# roughly around 63 out of 400\n",
    "15.8*4\n"
   ]
  },
  {
   "cell_type": "code",
   "execution_count": 27,
   "id": "25386aa0",
   "metadata": {
    "ExecuteTime": {
     "end_time": "2022-11-13T16:50:03.989907Z",
     "start_time": "2022-11-13T16:50:03.968177Z"
    }
   },
   "outputs": [
    {
     "data": {
      "text/plain": [
       "0.5"
      ]
     },
     "execution_count": 27,
     "metadata": {},
     "output_type": "execute_result"
    }
   ],
   "source": [
    "z_for_38 = stats.norm.cdf(38,38,6)\n",
    "z_for_38"
   ]
  },
  {
   "cell_type": "code",
   "execution_count": 28,
   "id": "f41830df",
   "metadata": {
    "ExecuteTime": {
     "end_time": "2022-11-13T16:51:08.277502Z",
     "start_time": "2022-11-13T16:51:08.253481Z"
    }
   },
   "outputs": [
    {
     "data": {
      "text/plain": [
       "0.3413447460685429"
      ]
     },
     "execution_count": 28,
     "metadata": {},
     "output_type": "execute_result"
    }
   ],
   "source": [
    "#people between 38 & 44  age \n",
    "z_score - z_for_38"
   ]
  },
  {
   "cell_type": "code",
   "execution_count": 30,
   "id": "6176a4a0",
   "metadata": {
    "ExecuteTime": {
     "end_time": "2022-11-13T16:51:53.751149Z",
     "start_time": "2022-11-13T16:51:53.739769Z"
    }
   },
   "outputs": [
    {
     "data": {
      "text/plain": [
       "136.53789842741716"
      ]
     },
     "execution_count": 30,
     "metadata": {},
     "output_type": "execute_result"
    }
   ],
   "source": [
    "0.3413447460685429*(400)\n",
    "# 136 out of 400"
   ]
  },
  {
   "cell_type": "markdown",
   "id": "8998d623",
   "metadata": {},
   "source": [
    " # B:"
   ]
  },
  {
   "cell_type": "code",
   "execution_count": 31,
   "id": "c7748ecf",
   "metadata": {
    "ExecuteTime": {
     "end_time": "2022-11-13T16:54:56.877908Z",
     "start_time": "2022-11-13T16:54:56.862941Z"
    }
   },
   "outputs": [
    {
     "data": {
      "text/plain": [
       "0.09121121972586788"
      ]
     },
     "execution_count": 31,
     "metadata": {},
     "output_type": "execute_result"
    }
   ],
   "source": [
    "z_30 = stats.norm.cdf(30,38,6)\n",
    "z_30"
   ]
  },
  {
   "cell_type": "code",
   "execution_count": 32,
   "id": "eb5c1a14",
   "metadata": {
    "ExecuteTime": {
     "end_time": "2022-11-13T16:56:14.782776Z",
     "start_time": "2022-11-13T16:56:14.751704Z"
    }
   },
   "outputs": [
    {
     "data": {
      "text/plain": [
       "36.484487890347154"
      ]
     },
     "execution_count": 32,
     "metadata": {},
     "output_type": "execute_result"
    }
   ],
   "source": [
    "z_30*400"
   ]
  },
  {
   "cell_type": "markdown",
   "id": "dad78737",
   "metadata": {
    "ExecuteTime": {
     "end_time": "2022-11-13T17:05:02.458003Z",
     "start_time": "2022-11-13T17:05:02.437828Z"
    }
   },
   "source": [
    "### ans  around 36 people True"
   ]
  },
  {
   "cell_type": "markdown",
   "id": "ef42d4ed",
   "metadata": {
    "ExecuteTime": {
     "end_time": "2022-11-13T16:26:58.943669Z",
     "start_time": "2022-11-13T16:26:58.931595Z"
    }
   },
   "source": [
    " # Question no 4"
   ]
  },
  {
   "cell_type": "code",
   "execution_count": 5,
   "id": "6fc130c2",
   "metadata": {
    "ExecuteTime": {
     "end_time": "2022-11-13T16:27:01.794473Z",
     "start_time": "2022-11-13T16:27:01.770685Z"
    }
   },
   "outputs": [],
   "source": [
    "mean = 100\n",
    "sd = 20"
   ]
  },
  {
   "cell_type": "code",
   "execution_count": null,
   "id": "d8598d67",
   "metadata": {},
   "outputs": [],
   "source": [
    "#  Z = X – (mean/sd)"
   ]
  },
  {
   "cell_type": "code",
   "execution_count": 7,
   "id": "47ebe34a",
   "metadata": {
    "ExecuteTime": {
     "end_time": "2022-11-13T16:28:05.828882Z",
     "start_time": "2022-11-13T16:28:05.804638Z"
    }
   },
   "outputs": [
    {
     "data": {
      "text/plain": [
       "2.5758293035489004"
      ]
     },
     "execution_count": 7,
     "metadata": {},
     "output_type": "execute_result"
    }
   ],
   "source": [
    "# z value for 99% \n",
    "z = stats.norm.ppf(0.995)\n",
    "z"
   ]
  },
  {
   "cell_type": "code",
   "execution_count": 10,
   "id": "9a8c50a7",
   "metadata": {
    "ExecuteTime": {
     "end_time": "2022-11-13T16:29:17.566746Z",
     "start_time": "2022-11-13T16:29:17.542729Z"
    }
   },
   "outputs": [
    {
     "data": {
      "text/plain": [
       "-2.575829303548901"
      ]
     },
     "execution_count": 10,
     "metadata": {},
     "output_type": "execute_result"
    }
   ],
   "source": [
    "#z  value for 1%\n",
    "z_bar =stats.norm.ppf(0.005)\n",
    "z_bar"
   ]
  },
  {
   "cell_type": "code",
   "execution_count": 12,
   "id": "357679aa",
   "metadata": {
    "ExecuteTime": {
     "end_time": "2022-11-13T16:30:35.341942Z",
     "start_time": "2022-11-13T16:30:35.326507Z"
    }
   },
   "outputs": [
    {
     "data": {
      "text/plain": [
       "151.52"
      ]
     },
     "execution_count": 12,
     "metadata": {},
     "output_type": "execute_result"
    }
   ],
   "source": [
    "x = (2.576* 20) + 100 \n",
    "x  "
   ]
  },
  {
   "cell_type": "code",
   "execution_count": 15,
   "id": "49f5add8",
   "metadata": {
    "ExecuteTime": {
     "end_time": "2022-11-13T16:32:37.911853Z",
     "start_time": "2022-11-13T16:32:37.887857Z"
    }
   },
   "outputs": [
    {
     "data": {
      "text/plain": [
       "48.48"
      ]
     },
     "execution_count": 15,
     "metadata": {},
     "output_type": "execute_result"
    }
   ],
   "source": [
    "X = -(2.576* 20) + 100  \n",
    "X   "
   ]
  },
  {
   "cell_type": "markdown",
   "id": "3173898a",
   "metadata": {},
   "source": [
    "# ans (48,151)"
   ]
  },
  {
   "cell_type": "code",
   "execution_count": null,
   "id": "5e9396cf",
   "metadata": {},
   "outputs": [],
   "source": []
  }
 ],
 "metadata": {
  "kernelspec": {
   "display_name": "Python 3 (ipykernel)",
   "language": "python",
   "name": "python3"
  },
  "language_info": {
   "codemirror_mode": {
    "name": "ipython",
    "version": 3
   },
   "file_extension": ".py",
   "mimetype": "text/x-python",
   "name": "python",
   "nbconvert_exporter": "python",
   "pygments_lexer": "ipython3",
   "version": "3.9.12"
  }
 },
 "nbformat": 4,
 "nbformat_minor": 5
}
