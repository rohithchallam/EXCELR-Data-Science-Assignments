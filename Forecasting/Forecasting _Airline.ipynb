{
 "cells": [
  {
   "cell_type": "code",
   "execution_count": 1,
   "id": "ff2f1721",
   "metadata": {
    "ExecuteTime": {
     "end_time": "2022-11-13T10:57:04.848888Z",
     "start_time": "2022-11-13T10:57:00.221804Z"
    }
   },
   "outputs": [],
   "source": [
    "# import basic libraries\n",
    "import pandas as pd\n",
    "import numpy as np\n",
    "import matplotlib.pyplot as plt\n",
    "import seaborn as sns\n",
    "import statsmodels.formula.api as smf\n",
    "from sklearn.metrics import mean_absolute_error,mean_squared_error\n",
    "from statsmodels.tsa.seasonal import seasonal_decompose\n",
    "from statsmodels.tsa.holtwinters import SimpleExpSmoothing \n",
    "from statsmodels.tsa.holtwinters import Holt \n",
    "from statsmodels.tsa.holtwinters import ExponentialSmoothing  "
   ]
  },
  {
   "cell_type": "code",
   "execution_count": 2,
   "id": "607ee7ee",
   "metadata": {
    "ExecuteTime": {
     "end_time": "2022-11-13T10:57:14.062138Z",
     "start_time": "2022-11-13T10:57:13.279931Z"
    }
   },
   "outputs": [
    {
     "data": {
      "text/html": [
       "<div>\n",
       "<style scoped>\n",
       "    .dataframe tbody tr th:only-of-type {\n",
       "        vertical-align: middle;\n",
       "    }\n",
       "\n",
       "    .dataframe tbody tr th {\n",
       "        vertical-align: top;\n",
       "    }\n",
       "\n",
       "    .dataframe thead th {\n",
       "        text-align: right;\n",
       "    }\n",
       "</style>\n",
       "<table border=\"1\" class=\"dataframe\">\n",
       "  <thead>\n",
       "    <tr style=\"text-align: right;\">\n",
       "      <th></th>\n",
       "      <th>Month</th>\n",
       "      <th>Passengers</th>\n",
       "    </tr>\n",
       "  </thead>\n",
       "  <tbody>\n",
       "    <tr>\n",
       "      <th>0</th>\n",
       "      <td>1995-01-01</td>\n",
       "      <td>112</td>\n",
       "    </tr>\n",
       "    <tr>\n",
       "      <th>1</th>\n",
       "      <td>1995-02-01</td>\n",
       "      <td>118</td>\n",
       "    </tr>\n",
       "    <tr>\n",
       "      <th>2</th>\n",
       "      <td>1995-03-01</td>\n",
       "      <td>132</td>\n",
       "    </tr>\n",
       "    <tr>\n",
       "      <th>3</th>\n",
       "      <td>1995-04-01</td>\n",
       "      <td>129</td>\n",
       "    </tr>\n",
       "    <tr>\n",
       "      <th>4</th>\n",
       "      <td>1995-05-01</td>\n",
       "      <td>121</td>\n",
       "    </tr>\n",
       "  </tbody>\n",
       "</table>\n",
       "</div>"
      ],
      "text/plain": [
       "       Month  Passengers\n",
       "0 1995-01-01         112\n",
       "1 1995-02-01         118\n",
       "2 1995-03-01         132\n",
       "3 1995-04-01         129\n",
       "4 1995-05-01         121"
      ]
     },
     "execution_count": 2,
     "metadata": {},
     "output_type": "execute_result"
    }
   ],
   "source": [
    "# Load the dataset\n",
    "airline=pd.read_excel(\"Airlines+Data.xlsx\")\n",
    "airline.head()"
   ]
  },
  {
   "cell_type": "code",
   "execution_count": 10,
   "id": "78deb9d6",
   "metadata": {
    "ExecuteTime": {
     "end_time": "2022-11-13T10:59:11.121986Z",
     "start_time": "2022-11-13T10:59:11.105529Z"
    }
   },
   "outputs": [],
   "source": [
    "airline.rename(columns={'Month':'Date'},inplace = True)"
   ]
  },
  {
   "cell_type": "code",
   "execution_count": 11,
   "id": "cf163ac8",
   "metadata": {
    "ExecuteTime": {
     "end_time": "2022-11-13T10:59:13.543131Z",
     "start_time": "2022-11-13T10:59:13.518808Z"
    }
   },
   "outputs": [
    {
     "data": {
      "text/plain": [
       "(96, 2)"
      ]
     },
     "execution_count": 11,
     "metadata": {},
     "output_type": "execute_result"
    }
   ],
   "source": [
    "airline.shape"
   ]
  },
  {
   "cell_type": "code",
   "execution_count": 12,
   "id": "eba80d2f",
   "metadata": {
    "ExecuteTime": {
     "end_time": "2022-11-13T10:59:16.151204Z",
     "start_time": "2022-11-13T10:59:16.119133Z"
    }
   },
   "outputs": [
    {
     "name": "stdout",
     "output_type": "stream",
     "text": [
      "<class 'pandas.core.frame.DataFrame'>\n",
      "RangeIndex: 96 entries, 0 to 95\n",
      "Data columns (total 2 columns):\n",
      " #   Column      Non-Null Count  Dtype         \n",
      "---  ------      --------------  -----         \n",
      " 0   Date        96 non-null     datetime64[ns]\n",
      " 1   Passengers  96 non-null     int64         \n",
      "dtypes: datetime64[ns](1), int64(1)\n",
      "memory usage: 1.6 KB\n"
     ]
    }
   ],
   "source": [
    "airline.info()"
   ]
  },
  {
   "cell_type": "code",
   "execution_count": 13,
   "id": "7dd6590e",
   "metadata": {
    "ExecuteTime": {
     "end_time": "2022-11-13T10:59:19.384821Z",
     "start_time": "2022-11-13T10:59:19.343938Z"
    }
   },
   "outputs": [
    {
     "data": {
      "text/html": [
       "<div>\n",
       "<style scoped>\n",
       "    .dataframe tbody tr th:only-of-type {\n",
       "        vertical-align: middle;\n",
       "    }\n",
       "\n",
       "    .dataframe tbody tr th {\n",
       "        vertical-align: top;\n",
       "    }\n",
       "\n",
       "    .dataframe thead th {\n",
       "        text-align: right;\n",
       "    }\n",
       "</style>\n",
       "<table border=\"1\" class=\"dataframe\">\n",
       "  <thead>\n",
       "    <tr style=\"text-align: right;\">\n",
       "      <th></th>\n",
       "      <th>count</th>\n",
       "      <th>mean</th>\n",
       "      <th>std</th>\n",
       "      <th>min</th>\n",
       "      <th>25%</th>\n",
       "      <th>50%</th>\n",
       "      <th>75%</th>\n",
       "      <th>max</th>\n",
       "    </tr>\n",
       "  </thead>\n",
       "  <tbody>\n",
       "    <tr>\n",
       "      <th>Passengers</th>\n",
       "      <td>96.0</td>\n",
       "      <td>213.708333</td>\n",
       "      <td>71.918216</td>\n",
       "      <td>104.0</td>\n",
       "      <td>156.0</td>\n",
       "      <td>200.0</td>\n",
       "      <td>264.75</td>\n",
       "      <td>413.0</td>\n",
       "    </tr>\n",
       "  </tbody>\n",
       "</table>\n",
       "</div>"
      ],
      "text/plain": [
       "            count        mean        std    min    25%    50%     75%    max\n",
       "Passengers   96.0  213.708333  71.918216  104.0  156.0  200.0  264.75  413.0"
      ]
     },
     "execution_count": 13,
     "metadata": {},
     "output_type": "execute_result"
    }
   ],
   "source": [
    "airline.describe().T"
   ]
  },
  {
   "cell_type": "markdown",
   "id": "6fa3c86e",
   "metadata": {},
   "source": [
    "# Visualisation"
   ]
  },
  {
   "cell_type": "code",
   "execution_count": 14,
   "id": "b73a9b80",
   "metadata": {
    "ExecuteTime": {
     "end_time": "2022-11-13T10:59:32.250251Z",
     "start_time": "2022-11-13T10:59:32.087634Z"
    }
   },
   "outputs": [
    {
     "data": {
      "text/plain": [
       "<AxesSubplot:>"
      ]
     },
     "execution_count": 14,
     "metadata": {},
     "output_type": "execute_result"
    },
    {
     "data": {
      "image/png": "[encoded data removed]",
      "text/plain": [
       "<Figure size 432x288 with 1 Axes>"
      ]
     },
     "metadata": {
      "needs_background": "light"
     },
     "output_type": "display_data"
    }
   ],
   "source": [
    "airline['Passengers'].plot()"
   ]
  },
  {
   "cell_type": "code",
   "execution_count": 15,
   "id": "b81631b6",
   "metadata": {
    "ExecuteTime": {
     "end_time": "2022-11-13T10:59:41.271825Z",
     "start_time": "2022-11-13T10:59:41.009717Z"
    }
   },
   "outputs": [
    {
     "name": "stderr",
     "output_type": "stream",
     "text": [
      "C:\\Users\\Rohith Challam\\anaconda3\\lib\\site-packages\\seaborn\\distributions.py:2619: FutureWarning: `distplot` is a deprecated function and will be removed in a future version. Please adapt your code to use either `displot` (a figure-level function with similar flexibility) or `histplot` (an axes-level function for histograms).\n",
      "  warnings.warn(msg, FutureWarning)\n"
     ]
    },
    {
     "data": {
      "text/plain": [
       "<AxesSubplot:xlabel='Passengers', ylabel='Density'>"
      ]
     },
     "execution_count": 15,
     "metadata": {},
     "output_type": "execute_result"
    },
    {
     "data": {
      "image/png": "[encoded data removed]",
      "text/plain": [
       "<Figure size 432x288 with 1 Axes>"
      ]
     },
     "metadata": {
      "needs_background": "light"
     },
     "output_type": "display_data"
    }
   ],
   "source": [
    "# distplot\n",
    "sns.distplot(airline['Passengers'])"
   ]
  },
  {
   "cell_type": "code",
   "execution_count": 16,
   "id": "649b5e50",
   "metadata": {
    "ExecuteTime": {
     "end_time": "2022-11-13T10:59:45.271842Z",
     "start_time": "2022-11-13T10:59:44.511709Z"
    }
   },
   "outputs": [
    {
     "data": {
      "text/plain": [
       "<AxesSubplot:>"
      ]
     },
     "execution_count": 16,
     "metadata": {},
     "output_type": "execute_result"
    },
    {
     "data": {
      "image/png": "[encoded data removed]",
      "text/plain": [
       "<Figure size 432x288 with 1 Axes>"
      ]
     },
     "metadata": {
      "needs_background": "light"
     },
     "output_type": "display_data"
    }
   ],
   "source": [
    "# histogram\n",
    "airline['Passengers'].hist()"
   ]
  },
  {
   "cell_type": "code",
   "execution_count": 17,
   "id": "a4d8c457",
   "metadata": {
    "ExecuteTime": {
     "end_time": "2022-11-13T11:00:15.579244Z",
     "start_time": "2022-11-13T11:00:15.538543Z"
    }
   },
   "outputs": [
    {
     "data": {
      "text/html": [
       "<div>\n",
       "<style scoped>\n",
       "    .dataframe tbody tr th:only-of-type {\n",
       "        vertical-align: middle;\n",
       "    }\n",
       "\n",
       "    .dataframe tbody tr th {\n",
       "        vertical-align: top;\n",
       "    }\n",
       "\n",
       "    .dataframe thead th {\n",
       "        text-align: right;\n",
       "    }\n",
       "</style>\n",
       "<table border=\"1\" class=\"dataframe\">\n",
       "  <thead>\n",
       "    <tr style=\"text-align: right;\">\n",
       "      <th></th>\n",
       "      <th>Date</th>\n",
       "      <th>Passengers</th>\n",
       "      <th>year</th>\n",
       "      <th>month</th>\n",
       "      <th>date</th>\n",
       "    </tr>\n",
       "  </thead>\n",
       "  <tbody>\n",
       "    <tr>\n",
       "      <th>0</th>\n",
       "      <td>1995-01-01</td>\n",
       "      <td>112</td>\n",
       "      <td>1995</td>\n",
       "      <td>Jan</td>\n",
       "      <td>01</td>\n",
       "    </tr>\n",
       "    <tr>\n",
       "      <th>1</th>\n",
       "      <td>1995-02-01</td>\n",
       "      <td>118</td>\n",
       "      <td>1995</td>\n",
       "      <td>Feb</td>\n",
       "      <td>01</td>\n",
       "    </tr>\n",
       "    <tr>\n",
       "      <th>2</th>\n",
       "      <td>1995-03-01</td>\n",
       "      <td>132</td>\n",
       "      <td>1995</td>\n",
       "      <td>Mar</td>\n",
       "      <td>01</td>\n",
       "    </tr>\n",
       "    <tr>\n",
       "      <th>3</th>\n",
       "      <td>1995-04-01</td>\n",
       "      <td>129</td>\n",
       "      <td>1995</td>\n",
       "      <td>Apr</td>\n",
       "      <td>01</td>\n",
       "    </tr>\n",
       "    <tr>\n",
       "      <th>4</th>\n",
       "      <td>1995-05-01</td>\n",
       "      <td>121</td>\n",
       "      <td>1995</td>\n",
       "      <td>May</td>\n",
       "      <td>01</td>\n",
       "    </tr>\n",
       "    <tr>\n",
       "      <th>...</th>\n",
       "      <td>...</td>\n",
       "      <td>...</td>\n",
       "      <td>...</td>\n",
       "      <td>...</td>\n",
       "      <td>...</td>\n",
       "    </tr>\n",
       "    <tr>\n",
       "      <th>91</th>\n",
       "      <td>2002-08-01</td>\n",
       "      <td>405</td>\n",
       "      <td>2002</td>\n",
       "      <td>Aug</td>\n",
       "      <td>01</td>\n",
       "    </tr>\n",
       "    <tr>\n",
       "      <th>92</th>\n",
       "      <td>2002-09-01</td>\n",
       "      <td>355</td>\n",
       "      <td>2002</td>\n",
       "      <td>Sep</td>\n",
       "      <td>01</td>\n",
       "    </tr>\n",
       "    <tr>\n",
       "      <th>93</th>\n",
       "      <td>2002-10-01</td>\n",
       "      <td>306</td>\n",
       "      <td>2002</td>\n",
       "      <td>Oct</td>\n",
       "      <td>01</td>\n",
       "    </tr>\n",
       "    <tr>\n",
       "      <th>94</th>\n",
       "      <td>2002-11-01</td>\n",
       "      <td>271</td>\n",
       "      <td>2002</td>\n",
       "      <td>Nov</td>\n",
       "      <td>01</td>\n",
       "    </tr>\n",
       "    <tr>\n",
       "      <th>95</th>\n",
       "      <td>2002-12-01</td>\n",
       "      <td>306</td>\n",
       "      <td>2002</td>\n",
       "      <td>Dec</td>\n",
       "      <td>01</td>\n",
       "    </tr>\n",
       "  </tbody>\n",
       "</table>\n",
       "<p>96 rows × 5 columns</p>\n",
       "</div>"
      ],
      "text/plain": [
       "         Date  Passengers  year month date\n",
       "0  1995-01-01         112  1995   Jan   01\n",
       "1  1995-02-01         118  1995   Feb   01\n",
       "2  1995-03-01         132  1995   Mar   01\n",
       "3  1995-04-01         129  1995   Apr   01\n",
       "4  1995-05-01         121  1995   May   01\n",
       "..        ...         ...   ...   ...  ...\n",
       "91 2002-08-01         405  2002   Aug   01\n",
       "92 2002-09-01         355  2002   Sep   01\n",
       "93 2002-10-01         306  2002   Oct   01\n",
       "94 2002-11-01         271  2002   Nov   01\n",
       "95 2002-12-01         306  2002   Dec   01\n",
       "\n",
       "[96 rows x 5 columns]"
      ]
     },
     "execution_count": 17,
     "metadata": {},
     "output_type": "execute_result"
    }
   ],
   "source": [
    "airline['year'] = airline['Date'].dt.strftime('%Y')\n",
    "airline['month'] = airline['Date'].dt.strftime('%b')\n",
    "airline['date'] = airline['Date'].dt.strftime('%d')\n",
    "airline "
   ]
  },
  {
   "cell_type": "code",
   "execution_count": 18,
   "id": "fe6e8671",
   "metadata": {
    "ExecuteTime": {
     "end_time": "2022-11-13T11:00:45.362256Z",
     "start_time": "2022-11-13T11:00:44.573144Z"
    }
   },
   "outputs": [
    {
     "data": {
      "text/plain": [
       "<AxesSubplot:xlabel='month', ylabel='year'>"
      ]
     },
     "execution_count": 18,
     "metadata": {},
     "output_type": "execute_result"
    },
    {
     "data": {
      "image/png": "[encoded data removed]",
      "text/plain": [
       "<Figure size 1080x576 with 2 Axes>"
      ]
     },
     "metadata": {
      "needs_background": "light"
     },
     "output_type": "display_data"
    }
   ],
   "source": [
    "# heatmap of pivot table\n",
    "airline_table = pd.pivot_table(data=airline,index='year',columns='month',values = 'Passengers',aggfunc='mean',fill_value=0)\n",
    "plt.figure(figsize=(15,8))\n",
    "sns.heatmap(data=airline_table,annot = True) "
   ]
  },
  {
   "cell_type": "code",
   "execution_count": 19,
   "id": "178daa7b",
   "metadata": {
    "ExecuteTime": {
     "end_time": "2022-11-13T11:01:38.161375Z",
     "start_time": "2022-11-13T11:01:37.865195Z"
    }
   },
   "outputs": [
    {
     "data": {
      "image/png": "[encoded data removed]",
      "text/plain": [
       "<Figure size 864x576 with 1 Axes>"
      ]
     },
     "metadata": {
      "needs_background": "light"
     },
     "output_type": "display_data"
    }
   ],
   "source": [
    "# boxplot\n",
    "plt.figure(figsize=(12,8))\n",
    "sns.boxplot(x = 'year', y = 'Passengers',data = airline)\n",
    "plt.show()"
   ]
  },
  {
   "cell_type": "code",
   "execution_count": 20,
   "id": "403dbf5c",
   "metadata": {
    "ExecuteTime": {
     "end_time": "2022-11-13T11:01:42.145334Z",
     "start_time": "2022-11-13T11:01:41.794486Z"
    }
   },
   "outputs": [
    {
     "data": {
      "image/png": "[encoded data removed]",
      "text/plain": [
       "<Figure size 864x576 with 1 Axes>"
      ]
     },
     "metadata": {
      "needs_background": "light"
     },
     "output_type": "display_data"
    }
   ],
   "source": [
    "plt.figure(figsize=(12,8))\n",
    "sns.boxplot(x = 'month', y = 'Passengers',data = airline)\n",
    "plt.show()"
   ]
  },
  {
   "cell_type": "code",
   "execution_count": 21,
   "id": "e19bab23",
   "metadata": {
    "ExecuteTime": {
     "end_time": "2022-11-13T11:01:47.612149Z",
     "start_time": "2022-11-13T11:01:47.200661Z"
    }
   },
   "outputs": [
    {
     "data": {
      "image/png": "[encoded data removed]",
      "text/plain": [
       "<Figure size 648x504 with 1 Axes>"
      ]
     },
     "metadata": {
      "needs_background": "light"
     },
     "output_type": "display_data"
    }
   ],
   "source": [
    "# Lineplot\n",
    "plt.figure(figsize=(9,7))\n",
    "sns.lineplot(x = 'year', y = 'Passengers',data = airline)\n",
    "plt.show()"
   ]
  },
  {
   "cell_type": "code",
   "execution_count": 41,
   "id": "d0565ff9",
   "metadata": {
    "ExecuteTime": {
     "end_time": "2022-11-13T11:12:48.079167Z",
     "start_time": "2022-11-13T11:12:47.889160Z"
    }
   },
   "outputs": [
    {
     "data": {
      "text/plain": [
       "<AxesSubplot:xlabel='y(t)', ylabel='y(t + 1)'>"
      ]
     },
     "execution_count": 41,
     "metadata": {},
     "output_type": "execute_result"
    },
    {
     "data": {
      "image/png": "[encoded data removed]",
      "text/plain": [
       "<Figure size 432x288 with 1 Axes>"
      ]
     },
     "metadata": {
      "needs_background": "light"
     },
     "output_type": "display_data"
    }
   ],
   "source": [
    "# lag plt\n",
    "# Lagplot\n",
    "from pandas.plotting import lag_plot\n",
    "lag_plot(airline['Passengers'])"
   ]
  },
  {
   "cell_type": "code",
   "execution_count": 22,
   "id": "6bdde1e5",
   "metadata": {
    "ExecuteTime": {
     "end_time": "2022-11-13T11:01:51.562105Z",
     "start_time": "2022-11-13T11:01:51.542313Z"
    }
   },
   "outputs": [],
   "source": [
    "airline['t']= np.arange(0,96)\n",
    "airline['t_square'] = airline['t']*airline['t']\n",
    "airline['log_passangers'] = np.log(airline['Passengers']) "
   ]
  },
  {
   "cell_type": "code",
   "execution_count": 23,
   "id": "7c7e4069",
   "metadata": {
    "ExecuteTime": {
     "end_time": "2022-11-13T11:01:56.642584Z",
     "start_time": "2022-11-13T11:01:56.594125Z"
    }
   },
   "outputs": [
    {
     "data": {
      "text/html": [
       "<div>\n",
       "<style scoped>\n",
       "    .dataframe tbody tr th:only-of-type {\n",
       "        vertical-align: middle;\n",
       "    }\n",
       "\n",
       "    .dataframe tbody tr th {\n",
       "        vertical-align: top;\n",
       "    }\n",
       "\n",
       "    .dataframe thead th {\n",
       "        text-align: right;\n",
       "    }\n",
       "</style>\n",
       "<table border=\"1\" class=\"dataframe\">\n",
       "  <thead>\n",
       "    <tr style=\"text-align: right;\">\n",
       "      <th></th>\n",
       "      <th>Date</th>\n",
       "      <th>Passengers</th>\n",
       "      <th>year</th>\n",
       "      <th>month</th>\n",
       "      <th>date</th>\n",
       "      <th>t</th>\n",
       "      <th>t_square</th>\n",
       "      <th>log_passangers</th>\n",
       "    </tr>\n",
       "  </thead>\n",
       "  <tbody>\n",
       "    <tr>\n",
       "      <th>35</th>\n",
       "      <td>1997-12-01</td>\n",
       "      <td>166</td>\n",
       "      <td>1997</td>\n",
       "      <td>Dec</td>\n",
       "      <td>01</td>\n",
       "      <td>35</td>\n",
       "      <td>1225</td>\n",
       "      <td>5.111988</td>\n",
       "    </tr>\n",
       "    <tr>\n",
       "      <th>21</th>\n",
       "      <td>1996-10-01</td>\n",
       "      <td>133</td>\n",
       "      <td>1996</td>\n",
       "      <td>Oct</td>\n",
       "      <td>01</td>\n",
       "      <td>21</td>\n",
       "      <td>441</td>\n",
       "      <td>4.890349</td>\n",
       "    </tr>\n",
       "    <tr>\n",
       "      <th>7</th>\n",
       "      <td>1995-08-01</td>\n",
       "      <td>148</td>\n",
       "      <td>1995</td>\n",
       "      <td>Aug</td>\n",
       "      <td>01</td>\n",
       "      <td>7</td>\n",
       "      <td>49</td>\n",
       "      <td>4.997212</td>\n",
       "    </tr>\n",
       "    <tr>\n",
       "      <th>73</th>\n",
       "      <td>2001-02-01</td>\n",
       "      <td>233</td>\n",
       "      <td>2001</td>\n",
       "      <td>Feb</td>\n",
       "      <td>01</td>\n",
       "      <td>73</td>\n",
       "      <td>5329</td>\n",
       "      <td>5.451038</td>\n",
       "    </tr>\n",
       "    <tr>\n",
       "      <th>80</th>\n",
       "      <td>2001-09-01</td>\n",
       "      <td>312</td>\n",
       "      <td>2001</td>\n",
       "      <td>Sep</td>\n",
       "      <td>01</td>\n",
       "      <td>80</td>\n",
       "      <td>6400</td>\n",
       "      <td>5.743003</td>\n",
       "    </tr>\n",
       "    <tr>\n",
       "      <th>34</th>\n",
       "      <td>1997-11-01</td>\n",
       "      <td>146</td>\n",
       "      <td>1997</td>\n",
       "      <td>Nov</td>\n",
       "      <td>01</td>\n",
       "      <td>34</td>\n",
       "      <td>1156</td>\n",
       "      <td>4.983607</td>\n",
       "    </tr>\n",
       "    <tr>\n",
       "      <th>83</th>\n",
       "      <td>2001-12-01</td>\n",
       "      <td>278</td>\n",
       "      <td>2001</td>\n",
       "      <td>Dec</td>\n",
       "      <td>01</td>\n",
       "      <td>83</td>\n",
       "      <td>6889</td>\n",
       "      <td>5.627621</td>\n",
       "    </tr>\n",
       "    <tr>\n",
       "      <th>38</th>\n",
       "      <td>1998-03-01</td>\n",
       "      <td>193</td>\n",
       "      <td>1998</td>\n",
       "      <td>Mar</td>\n",
       "      <td>01</td>\n",
       "      <td>38</td>\n",
       "      <td>1444</td>\n",
       "      <td>5.262690</td>\n",
       "    </tr>\n",
       "    <tr>\n",
       "      <th>37</th>\n",
       "      <td>1998-02-01</td>\n",
       "      <td>180</td>\n",
       "      <td>1998</td>\n",
       "      <td>Feb</td>\n",
       "      <td>01</td>\n",
       "      <td>37</td>\n",
       "      <td>1369</td>\n",
       "      <td>5.192957</td>\n",
       "    </tr>\n",
       "    <tr>\n",
       "      <th>91</th>\n",
       "      <td>2002-08-01</td>\n",
       "      <td>405</td>\n",
       "      <td>2002</td>\n",
       "      <td>Aug</td>\n",
       "      <td>01</td>\n",
       "      <td>91</td>\n",
       "      <td>8281</td>\n",
       "      <td>6.003887</td>\n",
       "    </tr>\n",
       "  </tbody>\n",
       "</table>\n",
       "</div>"
      ],
      "text/plain": [
       "         Date  Passengers  year month date   t  t_square  log_passangers\n",
       "35 1997-12-01         166  1997   Dec   01  35      1225        5.111988\n",
       "21 1996-10-01         133  1996   Oct   01  21       441        4.890349\n",
       "7  1995-08-01         148  1995   Aug   01   7        49        4.997212\n",
       "73 2001-02-01         233  2001   Feb   01  73      5329        5.451038\n",
       "80 2001-09-01         312  2001   Sep   01  80      6400        5.743003\n",
       "34 1997-11-01         146  1997   Nov   01  34      1156        4.983607\n",
       "83 2001-12-01         278  2001   Dec   01  83      6889        5.627621\n",
       "38 1998-03-01         193  1998   Mar   01  38      1444        5.262690\n",
       "37 1998-02-01         180  1998   Feb   01  37      1369        5.192957\n",
       "91 2002-08-01         405  2002   Aug   01  91      8281        6.003887"
      ]
     },
     "execution_count": 23,
     "metadata": {},
     "output_type": "execute_result"
    }
   ],
   "source": [
    "airline.sample(10)"
   ]
  },
  {
   "cell_type": "code",
   "execution_count": 25,
   "id": "237067d0",
   "metadata": {
    "ExecuteTime": {
     "end_time": "2022-11-13T11:03:00.002173Z",
     "start_time": "2022-11-13T11:02:59.983956Z"
    }
   },
   "outputs": [],
   "source": [
    "# dummy variables for month column\n",
    "month_dummies = pd.get_dummies(airline['month'])"
   ]
  },
  {
   "cell_type": "code",
   "execution_count": 26,
   "id": "3c8fcef1",
   "metadata": {
    "ExecuteTime": {
     "end_time": "2022-11-13T11:03:11.576895Z",
     "start_time": "2022-11-13T11:03:11.528453Z"
    }
   },
   "outputs": [
    {
     "data": {
      "text/html": [
       "<div>\n",
       "<style scoped>\n",
       "    .dataframe tbody tr th:only-of-type {\n",
       "        vertical-align: middle;\n",
       "    }\n",
       "\n",
       "    .dataframe tbody tr th {\n",
       "        vertical-align: top;\n",
       "    }\n",
       "\n",
       "    .dataframe thead th {\n",
       "        text-align: right;\n",
       "    }\n",
       "</style>\n",
       "<table border=\"1\" class=\"dataframe\">\n",
       "  <thead>\n",
       "    <tr style=\"text-align: right;\">\n",
       "      <th></th>\n",
       "      <th>Date</th>\n",
       "      <th>Passengers</th>\n",
       "      <th>year</th>\n",
       "      <th>month</th>\n",
       "      <th>date</th>\n",
       "      <th>t</th>\n",
       "      <th>t_square</th>\n",
       "      <th>log_passangers</th>\n",
       "      <th>Apr</th>\n",
       "      <th>Aug</th>\n",
       "      <th>Dec</th>\n",
       "      <th>Feb</th>\n",
       "      <th>Jan</th>\n",
       "      <th>Jul</th>\n",
       "      <th>Jun</th>\n",
       "      <th>Mar</th>\n",
       "      <th>May</th>\n",
       "      <th>Nov</th>\n",
       "      <th>Oct</th>\n",
       "      <th>Sep</th>\n",
       "    </tr>\n",
       "  </thead>\n",
       "  <tbody>\n",
       "    <tr>\n",
       "      <th>0</th>\n",
       "      <td>1995-01-01</td>\n",
       "      <td>112</td>\n",
       "      <td>1995</td>\n",
       "      <td>Jan</td>\n",
       "      <td>01</td>\n",
       "      <td>0</td>\n",
       "      <td>0</td>\n",
       "      <td>4.718499</td>\n",
       "      <td>0</td>\n",
       "      <td>0</td>\n",
       "      <td>0</td>\n",
       "      <td>0</td>\n",
       "      <td>1</td>\n",
       "      <td>0</td>\n",
       "      <td>0</td>\n",
       "      <td>0</td>\n",
       "      <td>0</td>\n",
       "      <td>0</td>\n",
       "      <td>0</td>\n",
       "      <td>0</td>\n",
       "    </tr>\n",
       "    <tr>\n",
       "      <th>1</th>\n",
       "      <td>1995-02-01</td>\n",
       "      <td>118</td>\n",
       "      <td>1995</td>\n",
       "      <td>Feb</td>\n",
       "      <td>01</td>\n",
       "      <td>1</td>\n",
       "      <td>1</td>\n",
       "      <td>4.770685</td>\n",
       "      <td>0</td>\n",
       "      <td>0</td>\n",
       "      <td>0</td>\n",
       "      <td>1</td>\n",
       "      <td>0</td>\n",
       "      <td>0</td>\n",
       "      <td>0</td>\n",
       "      <td>0</td>\n",
       "      <td>0</td>\n",
       "      <td>0</td>\n",
       "      <td>0</td>\n",
       "      <td>0</td>\n",
       "    </tr>\n",
       "    <tr>\n",
       "      <th>2</th>\n",
       "      <td>1995-03-01</td>\n",
       "      <td>132</td>\n",
       "      <td>1995</td>\n",
       "      <td>Mar</td>\n",
       "      <td>01</td>\n",
       "      <td>2</td>\n",
       "      <td>4</td>\n",
       "      <td>4.882802</td>\n",
       "      <td>0</td>\n",
       "      <td>0</td>\n",
       "      <td>0</td>\n",
       "      <td>0</td>\n",
       "      <td>0</td>\n",
       "      <td>0</td>\n",
       "      <td>0</td>\n",
       "      <td>1</td>\n",
       "      <td>0</td>\n",
       "      <td>0</td>\n",
       "      <td>0</td>\n",
       "      <td>0</td>\n",
       "    </tr>\n",
       "    <tr>\n",
       "      <th>3</th>\n",
       "      <td>1995-04-01</td>\n",
       "      <td>129</td>\n",
       "      <td>1995</td>\n",
       "      <td>Apr</td>\n",
       "      <td>01</td>\n",
       "      <td>3</td>\n",
       "      <td>9</td>\n",
       "      <td>4.859812</td>\n",
       "      <td>1</td>\n",
       "      <td>0</td>\n",
       "      <td>0</td>\n",
       "      <td>0</td>\n",
       "      <td>0</td>\n",
       "      <td>0</td>\n",
       "      <td>0</td>\n",
       "      <td>0</td>\n",
       "      <td>0</td>\n",
       "      <td>0</td>\n",
       "      <td>0</td>\n",
       "      <td>0</td>\n",
       "    </tr>\n",
       "    <tr>\n",
       "      <th>4</th>\n",
       "      <td>1995-05-01</td>\n",
       "      <td>121</td>\n",
       "      <td>1995</td>\n",
       "      <td>May</td>\n",
       "      <td>01</td>\n",
       "      <td>4</td>\n",
       "      <td>16</td>\n",
       "      <td>4.795791</td>\n",
       "      <td>0</td>\n",
       "      <td>0</td>\n",
       "      <td>0</td>\n",
       "      <td>0</td>\n",
       "      <td>0</td>\n",
       "      <td>0</td>\n",
       "      <td>0</td>\n",
       "      <td>0</td>\n",
       "      <td>1</td>\n",
       "      <td>0</td>\n",
       "      <td>0</td>\n",
       "      <td>0</td>\n",
       "    </tr>\n",
       "    <tr>\n",
       "      <th>...</th>\n",
       "      <td>...</td>\n",
       "      <td>...</td>\n",
       "      <td>...</td>\n",
       "      <td>...</td>\n",
       "      <td>...</td>\n",
       "      <td>...</td>\n",
       "      <td>...</td>\n",
       "      <td>...</td>\n",
       "      <td>...</td>\n",
       "      <td>...</td>\n",
       "      <td>...</td>\n",
       "      <td>...</td>\n",
       "      <td>...</td>\n",
       "      <td>...</td>\n",
       "      <td>...</td>\n",
       "      <td>...</td>\n",
       "      <td>...</td>\n",
       "      <td>...</td>\n",
       "      <td>...</td>\n",
       "      <td>...</td>\n",
       "    </tr>\n",
       "    <tr>\n",
       "      <th>91</th>\n",
       "      <td>2002-08-01</td>\n",
       "      <td>405</td>\n",
       "      <td>2002</td>\n",
       "      <td>Aug</td>\n",
       "      <td>01</td>\n",
       "      <td>91</td>\n",
       "      <td>8281</td>\n",
       "      <td>6.003887</td>\n",
       "      <td>0</td>\n",
       "      <td>1</td>\n",
       "      <td>0</td>\n",
       "      <td>0</td>\n",
       "      <td>0</td>\n",
       "      <td>0</td>\n",
       "      <td>0</td>\n",
       "      <td>0</td>\n",
       "      <td>0</td>\n",
       "      <td>0</td>\n",
       "      <td>0</td>\n",
       "      <td>0</td>\n",
       "    </tr>\n",
       "    <tr>\n",
       "      <th>92</th>\n",
       "      <td>2002-09-01</td>\n",
       "      <td>355</td>\n",
       "      <td>2002</td>\n",
       "      <td>Sep</td>\n",
       "      <td>01</td>\n",
       "      <td>92</td>\n",
       "      <td>8464</td>\n",
       "      <td>5.872118</td>\n",
       "      <td>0</td>\n",
       "      <td>0</td>\n",
       "      <td>0</td>\n",
       "      <td>0</td>\n",
       "      <td>0</td>\n",
       "      <td>0</td>\n",
       "      <td>0</td>\n",
       "      <td>0</td>\n",
       "      <td>0</td>\n",
       "      <td>0</td>\n",
       "      <td>0</td>\n",
       "      <td>1</td>\n",
       "    </tr>\n",
       "    <tr>\n",
       "      <th>93</th>\n",
       "      <td>2002-10-01</td>\n",
       "      <td>306</td>\n",
       "      <td>2002</td>\n",
       "      <td>Oct</td>\n",
       "      <td>01</td>\n",
       "      <td>93</td>\n",
       "      <td>8649</td>\n",
       "      <td>5.723585</td>\n",
       "      <td>0</td>\n",
       "      <td>0</td>\n",
       "      <td>0</td>\n",
       "      <td>0</td>\n",
       "      <td>0</td>\n",
       "      <td>0</td>\n",
       "      <td>0</td>\n",
       "      <td>0</td>\n",
       "      <td>0</td>\n",
       "      <td>0</td>\n",
       "      <td>1</td>\n",
       "      <td>0</td>\n",
       "    </tr>\n",
       "    <tr>\n",
       "      <th>94</th>\n",
       "      <td>2002-11-01</td>\n",
       "      <td>271</td>\n",
       "      <td>2002</td>\n",
       "      <td>Nov</td>\n",
       "      <td>01</td>\n",
       "      <td>94</td>\n",
       "      <td>8836</td>\n",
       "      <td>5.602119</td>\n",
       "      <td>0</td>\n",
       "      <td>0</td>\n",
       "      <td>0</td>\n",
       "      <td>0</td>\n",
       "      <td>0</td>\n",
       "      <td>0</td>\n",
       "      <td>0</td>\n",
       "      <td>0</td>\n",
       "      <td>0</td>\n",
       "      <td>1</td>\n",
       "      <td>0</td>\n",
       "      <td>0</td>\n",
       "    </tr>\n",
       "    <tr>\n",
       "      <th>95</th>\n",
       "      <td>2002-12-01</td>\n",
       "      <td>306</td>\n",
       "      <td>2002</td>\n",
       "      <td>Dec</td>\n",
       "      <td>01</td>\n",
       "      <td>95</td>\n",
       "      <td>9025</td>\n",
       "      <td>5.723585</td>\n",
       "      <td>0</td>\n",
       "      <td>0</td>\n",
       "      <td>1</td>\n",
       "      <td>0</td>\n",
       "      <td>0</td>\n",
       "      <td>0</td>\n",
       "      <td>0</td>\n",
       "      <td>0</td>\n",
       "      <td>0</td>\n",
       "      <td>0</td>\n",
       "      <td>0</td>\n",
       "      <td>0</td>\n",
       "    </tr>\n",
       "  </tbody>\n",
       "</table>\n",
       "<p>96 rows × 20 columns</p>\n",
       "</div>"
      ],
      "text/plain": [
       "         Date  Passengers  year month date   t  t_square  log_passangers  Apr  \\\n",
       "0  1995-01-01         112  1995   Jan   01   0         0        4.718499    0   \n",
       "1  1995-02-01         118  1995   Feb   01   1         1        4.770685    0   \n",
       "2  1995-03-01         132  1995   Mar   01   2         4        4.882802    0   \n",
       "3  1995-04-01         129  1995   Apr   01   3         9        4.859812    1   \n",
       "4  1995-05-01         121  1995   May   01   4        16        4.795791    0   \n",
       "..        ...         ...   ...   ...  ...  ..       ...             ...  ...   \n",
       "91 2002-08-01         405  2002   Aug   01  91      8281        6.003887    0   \n",
       "92 2002-09-01         355  2002   Sep   01  92      8464        5.872118    0   \n",
       "93 2002-10-01         306  2002   Oct   01  93      8649        5.723585    0   \n",
       "94 2002-11-01         271  2002   Nov   01  94      8836        5.602119    0   \n",
       "95 2002-12-01         306  2002   Dec   01  95      9025        5.723585    0   \n",
       "\n",
       "    Aug  Dec  Feb  Jan  Jul  Jun  Mar  May  Nov  Oct  Sep  \n",
       "0     0    0    0    1    0    0    0    0    0    0    0  \n",
       "1     0    0    1    0    0    0    0    0    0    0    0  \n",
       "2     0    0    0    0    0    0    1    0    0    0    0  \n",
       "3     0    0    0    0    0    0    0    0    0    0    0  \n",
       "4     0    0    0    0    0    0    0    1    0    0    0  \n",
       "..  ...  ...  ...  ...  ...  ...  ...  ...  ...  ...  ...  \n",
       "91    1    0    0    0    0    0    0    0    0    0    0  \n",
       "92    0    0    0    0    0    0    0    0    0    0    1  \n",
       "93    0    0    0    0    0    0    0    0    0    1    0  \n",
       "94    0    0    0    0    0    0    0    0    1    0    0  \n",
       "95    0    1    0    0    0    0    0    0    0    0    0  \n",
       "\n",
       "[96 rows x 20 columns]"
      ]
     },
     "execution_count": 26,
     "metadata": {},
     "output_type": "execute_result"
    }
   ],
   "source": [
    "airline_1 = pd.concat([airline,month_dummies] ,axis = 1)\n",
    "airline_1"
   ]
  },
  {
   "cell_type": "markdown",
   "id": "9ab71616",
   "metadata": {},
   "source": [
    "# Time Series Decompostionplot"
   ]
  },
  {
   "cell_type": "code",
   "execution_count": 27,
   "id": "f76c5b27",
   "metadata": {
    "ExecuteTime": {
     "end_time": "2022-11-13T11:03:21.850207Z",
     "start_time": "2022-11-13T11:03:21.409392Z"
    }
   },
   "outputs": [
    {
     "data": {
      "image/png": "[encoded data removed]",
      "text/plain": [
       "<Figure size 432x288 with 4 Axes>"
      ]
     },
     "metadata": {
      "needs_background": "light"
     },
     "output_type": "display_data"
    }
   ],
   "source": [
    "# Additive seasonal decompostionplot\n",
    "decompose_ts_add = seasonal_decompose(airline.Passengers,period=12,model='additive')\n",
    "decompose_ts_add.plot()\n",
    "plt.show() "
   ]
  },
  {
   "cell_type": "code",
   "execution_count": 29,
   "id": "94abf222",
   "metadata": {
    "ExecuteTime": {
     "end_time": "2022-11-13T11:03:38.496804Z",
     "start_time": "2022-11-13T11:03:38.092011Z"
    }
   },
   "outputs": [
    {
     "data": {
      "image/png": "[encoded data removed]",
      "text/plain": [
       "<Figure size 432x288 with 4 Axes>"
      ]
     },
     "metadata": {
      "needs_background": "light"
     },
     "output_type": "display_data"
    }
   ],
   "source": [
    "decompose_ts_ms= seasonal_decompose(airline.Passengers,period=12,model='multiplicative')\n",
    "decompose_ts_ms.plot()\n",
    "plt.show() "
   ]
  },
  {
   "cell_type": "code",
   "execution_count": 30,
   "id": "ef201c37",
   "metadata": {
    "ExecuteTime": {
     "end_time": "2022-11-13T11:03:45.995727Z",
     "start_time": "2022-11-13T11:03:45.775631Z"
    }
   },
   "outputs": [
    {
     "data": {
      "image/png": "[encoded data removed]",
      "text/plain": [
       "<Figure size 432x288 with 1 Axes>"
      ]
     },
     "metadata": {
      "needs_background": "light"
     },
     "output_type": "display_data"
    }
   ],
   "source": [
    "# ACF plot\n",
    "from statsmodels.graphics.tsaplots import plot_acf,plot_pacf\n",
    "acf = plot_acf(airline['Passengers']) "
   ]
  },
  {
   "cell_type": "code",
   "execution_count": 31,
   "id": "aaabbd76",
   "metadata": {
    "ExecuteTime": {
     "end_time": "2022-11-13T11:03:49.338410Z",
     "start_time": "2022-11-13T11:03:49.111919Z"
    }
   },
   "outputs": [
    {
     "name": "stderr",
     "output_type": "stream",
     "text": [
      "C:\\Users\\Rohith Challam\\anaconda3\\lib\\site-packages\\statsmodels\\graphics\\tsaplots.py:348: FutureWarning: The default method 'yw' can produce PACF values outside of the [-1,1] interval. After 0.13, the default will change tounadjusted Yule-Walker ('ywm'). You can use this method now by setting method='ywm'.\n",
      "  warnings.warn(\n"
     ]
    },
    {
     "data": {
      "image/png": "[encoded data removed]",
      "text/plain": [
       "<Figure size 432x288 with 1 Axes>"
      ]
     },
     "metadata": {
      "needs_background": "light"
     },
     "output_type": "display_data"
    }
   ],
   "source": [
    "#pacf plot\n",
    "pacf=plot_pacf(airline.Passengers)"
   ]
  },
  {
   "cell_type": "markdown",
   "id": "9fae1370",
   "metadata": {},
   "source": [
    "# Moving average"
   ]
  },
  {
   "cell_type": "code",
   "execution_count": 35,
   "id": "3560aac1",
   "metadata": {
    "ExecuteTime": {
     "end_time": "2022-11-13T11:09:53.833440Z",
     "start_time": "2022-11-13T11:09:53.619362Z"
    }
   },
   "outputs": [
    {
     "data": {
      "image/png": "[encoded data removed]",
      "text/plain": [
       "<Figure size 864x288 with 1 Axes>"
      ]
     },
     "metadata": {
      "needs_background": "light"
     },
     "output_type": "display_data"
    }
   ],
   "source": [
    "#Smoothening of the graph\n",
    "plt.figure(figsize=(12,4))\n",
    "airline_1['Passengers'].plot()\n",
    "for i in range(2,12,6):\n",
    "    airline_1['Passengers'].rolling(i).mean().plot(label=str(i))\n",
    "plt.legend(loc='best')\n",
    "plt.show()"
   ]
  },
  {
   "cell_type": "code",
   "execution_count": 40,
   "id": "54c3baec",
   "metadata": {
    "ExecuteTime": {
     "end_time": "2022-11-13T11:11:44.722298Z",
     "start_time": "2022-11-13T11:11:44.709171Z"
    }
   },
   "outputs": [],
   "source": [
    "# Spliting dataset into Train and Test\n",
    "Train=airline_1.head(76)\n",
    "Test=airline_1.tail(20)"
   ]
  },
  {
   "cell_type": "code",
   "execution_count": 42,
   "id": "ebab9e70",
   "metadata": {
    "ExecuteTime": {
     "end_time": "2022-11-13T11:13:45.986778Z",
     "start_time": "2022-11-13T11:13:45.962169Z"
    }
   },
   "outputs": [],
   "source": [
    "# giving def for ERROR\n",
    "def MAE(pred,org):\n",
    "    temp = np.abs((pred-org)/org)\n",
    "    return np.mean(temp)"
   ]
  },
  {
   "cell_type": "code",
   "execution_count": 44,
   "id": "e075c3b0",
   "metadata": {
    "ExecuteTime": {
     "end_time": "2022-11-13T11:14:47.535266Z",
     "start_time": "2022-11-13T11:14:47.503395Z"
    }
   },
   "outputs": [
    {
     "data": {
      "text/plain": [
       "0.15177815113709933"
      ]
     },
     "execution_count": 44,
     "metadata": {},
     "output_type": "execute_result"
    }
   ],
   "source": [
    "#Linear Model\n",
    "import statsmodels.formula.api as smf \n",
    "linear_model = smf.ols('Passengers~t',data=Train).fit()                                                              #Fit the train model\n",
    "pred_linear =  pd.Series(linear_model.predict(pd.DataFrame(Test['t'])))                                              #predict on test data   \n",
    "mae_linear = MAE(Test['Passengers'],pred_linear)                                                                     \n",
    "mae_linear"
   ]
  },
  {
   "cell_type": "code",
   "execution_count": 48,
   "id": "150ab041",
   "metadata": {
    "ExecuteTime": {
     "end_time": "2022-11-13T11:16:36.377099Z",
     "start_time": "2022-11-13T11:16:36.336868Z"
    }
   },
   "outputs": [
    {
     "data": {
      "text/plain": [
       "0.12279124387308502"
      ]
     },
     "execution_count": 48,
     "metadata": {},
     "output_type": "execute_result"
    }
   ],
   "source": [
    "#Exponential\n",
    "Exp = smf.ols('log_passangers~t',data=Train).fit()\n",
    "pred_Exp = pd.Series(Exp.predict(pd.DataFrame(Test['t'])))\n",
    "mae_Exp = MAE(Test['Passengers'], np.exp(pred_Exp))\n",
    "mae_Exp"
   ]
  },
  {
   "cell_type": "code",
   "execution_count": 50,
   "id": "751ab26c",
   "metadata": {
    "ExecuteTime": {
     "end_time": "2022-11-13T11:19:08.280988Z",
     "start_time": "2022-11-13T11:19:08.240165Z"
    }
   },
   "outputs": [
    {
     "data": {
      "text/plain": [
       "0.15860152065684027"
      ]
     },
     "execution_count": 50,
     "metadata": {},
     "output_type": "execute_result"
    }
   ],
   "source": [
    "#Quadratic \n",
    "Quad = smf.ols('Passengers~t+t_square',data=Train).fit()\n",
    "pred_Quad = pd.Series(Quad.predict(Test[['t','t_square']]))\n",
    "mae_Quad = MAE(Test['Passengers'],pred_Quad)\n",
    "mae_Quad"
   ]
  },
  {
   "cell_type": "code",
   "execution_count": 51,
   "id": "448e9095",
   "metadata": {
    "ExecuteTime": {
     "end_time": "2022-11-13T11:26:06.783120Z",
     "start_time": "2022-11-13T11:26:06.686146Z"
    }
   },
   "outputs": [
    {
     "data": {
      "text/plain": [
       "0.6838935109925582"
      ]
     },
     "execution_count": 51,
     "metadata": {},
     "output_type": "execute_result"
    }
   ],
   "source": [
    "#Additive seasonality \n",
    "add_sea = smf.ols('Passengers~Apr+Aug+Dec+Feb+Jan+Jul+Jun+Mar+May+Nov+Oct+Sep',data=Train).fit()\n",
    "pred_add_sea = pd.Series(add_sea.predict(Test[['Apr','Aug','Dec','Feb','Jan','Jul','Jun','Mar','May','Nov','Oct','Sep']]))\n",
    "mae_add_sea = MAE(Test['Passengers'],pred_add_sea)\n",
    "mae_add_sea"
   ]
  },
  {
   "cell_type": "code",
   "execution_count": 54,
   "id": "2699a94c",
   "metadata": {
    "ExecuteTime": {
     "end_time": "2022-11-13T11:28:14.085150Z",
     "start_time": "2022-11-13T11:28:13.970410Z"
    }
   },
   "outputs": [
    {
     "data": {
      "text/plain": [
       "0.10840984619377192"
      ]
     },
     "execution_count": 54,
     "metadata": {},
     "output_type": "execute_result"
    }
   ],
   "source": [
    "#Additive Seasonality Quadratic \n",
    "add_sea_Quad = smf.ols('Passengers~t+t_square+Apr+Aug+Dec+Feb+Jan+Jul+Jun+Mar+May+Nov+Oct+Sep',data=Train).fit()\n",
    "pred_add_sea_quad = pd.Series(add_sea_Quad.predict(Test[['Apr','Aug','Dec','Feb','Jan','Jul','Jun','Mar','May','Nov','Oct','Sep','t','t_square']]))\n",
    "mae_add_sea_quad = MAE(Test['Passengers'], pred_add_sea_quad)\n",
    "mae_add_sea_quad"
   ]
  },
  {
   "cell_type": "code",
   "execution_count": 55,
   "id": "cbf0391c",
   "metadata": {
    "ExecuteTime": {
     "end_time": "2022-11-13T11:29:00.593129Z",
     "start_time": "2022-11-13T11:29:00.504250Z"
    }
   },
   "outputs": [
    {
     "data": {
      "text/plain": [
       "0.7336432528168294"
      ]
     },
     "execution_count": 55,
     "metadata": {},
     "output_type": "execute_result"
    }
   ],
   "source": [
    "##Multiplicative Seasonality\n",
    "Mul_sea = smf.ols('log_passangers~Apr+Aug+Dec+Feb+Jan+Jul+Jun+Mar+May+Nov+Oct+Sep',data = Train).fit()\n",
    "pred_Mult_sea = pd.Series(Mul_sea.predict(Test))\n",
    "mae_Mult_sea = MAE(Test['Passengers'], np.exp(pred_Mult_sea))\n",
    "mae_Mult_sea"
   ]
  },
  {
   "cell_type": "code",
   "execution_count": 56,
   "id": "6022514f",
   "metadata": {
    "ExecuteTime": {
     "end_time": "2022-11-13T11:29:36.703539Z",
     "start_time": "2022-11-13T11:29:36.616104Z"
    }
   },
   "outputs": [
    {
     "data": {
      "text/plain": [
       "0.02549720929440008"
      ]
     },
     "execution_count": 56,
     "metadata": {},
     "output_type": "execute_result"
    }
   ],
   "source": [
    "#Multiplicative Additive Seasonality \n",
    "Mul_Add_sea = smf.ols('log_passangers~t+Apr+Aug+Dec+Feb+Jan+Jul+Jun+Mar+May+Nov+Oct+Sep',data = Train).fit()\n",
    "pred_Mult_add_sea = pd.Series(Mul_Add_sea.predict(Test))\n",
    "mae_Mult_add_sea = MAE(Test['Passengers'], np.exp(pred_Mult_add_sea))\n",
    "mae_Mult_add_sea "
   ]
  },
  {
   "cell_type": "markdown",
   "id": "534ea7a0",
   "metadata": {},
   "source": [
    "# Forecasting on Data based methods"
   ]
  },
  {
   "cell_type": "code",
   "execution_count": 57,
   "id": "2519dda4",
   "metadata": {
    "ExecuteTime": {
     "end_time": "2022-11-13T11:31:00.712845Z",
     "start_time": "2022-11-13T11:31:00.682598Z"
    }
   },
   "outputs": [
    {
     "data": {
      "text/plain": [
       "0.2042662205955791"
      ]
     },
     "execution_count": 57,
     "metadata": {},
     "output_type": "execute_result"
    }
   ],
   "source": [
    "#Simple Exponential Method\n",
    "ses_model = SimpleExpSmoothing(Train[\"Passengers\"]).fit(smoothing_level=0.2)\n",
    "pred_ses = ses_model.predict(start = Test.index[0],end = Test.index[-1])\n",
    "MAE_ses = MAE(pred_ses,Test['Passengers']) \n",
    "MAE_ses"
   ]
  },
  {
   "cell_type": "code",
   "execution_count": 58,
   "id": "251175ae",
   "metadata": {
    "ExecuteTime": {
     "end_time": "2022-11-13T11:31:37.994512Z",
     "start_time": "2022-11-13T11:31:37.962048Z"
    }
   },
   "outputs": [
    {
     "name": "stderr",
     "output_type": "stream",
     "text": [
      "C:\\Users\\Rohith Challam\\AppData\\Local\\Temp\\ipykernel_8492\\751676139.py:2: FutureWarning: the 'smoothing_slope'' keyword is deprecated, use 'smoothing_trend' instead.\n",
      "  hw_model = Holt(Train[\"Passengers\"]).fit(smoothing_level=0.8, smoothing_slope=0.2)\n"
     ]
    },
    {
     "data": {
      "text/plain": [
       "0.12962869135424754"
      ]
     },
     "execution_count": 58,
     "metadata": {},
     "output_type": "execute_result"
    }
   ],
   "source": [
    "# Holt method with Additive trend\n",
    "hw_model = Holt(Train[\"Passengers\"]).fit(smoothing_level=0.8, smoothing_slope=0.2)\n",
    "pred_hw = hw_model.predict(start = Test.index[0],end = Test.index[-1])\n",
    "MAE_hw = MAE(pred_hw,Test['Passengers']) \n",
    "MAE_hw"
   ]
  },
  {
   "cell_type": "code",
   "execution_count": 59,
   "id": "16490b53",
   "metadata": {
    "ExecuteTime": {
     "end_time": "2022-11-13T11:32:28.918552Z",
     "start_time": "2022-11-13T11:32:28.733973Z"
    }
   },
   "outputs": [
    {
     "data": {
      "text/plain": [
       "0.08723908971234984"
      ]
     },
     "execution_count": 59,
     "metadata": {},
     "output_type": "execute_result"
    }
   ],
   "source": [
    "#Holts winter exponential smoothing with additive seasonality and additive trend\n",
    "hwe_model_add_add = ExponentialSmoothing(Train['Passengers'],seasonal=\"add\",trend=\"add\",seasonal_periods=12).fit() #add the trend to the model\n",
    "pred_hwe_add_add = hwe_model_add_add.predict(start = Test.index[0],end = Test.index[-1])\n",
    "MAE__hwe_add_add = MAE(pred_hwe_add_add,Test['Passengers']) \n",
    "MAE__hwe_add_add"
   ]
  },
  {
   "cell_type": "code",
   "execution_count": 60,
   "id": "712ac8f6",
   "metadata": {
    "ExecuteTime": {
     "end_time": "2022-11-13T11:33:09.007191Z",
     "start_time": "2022-11-13T11:33:08.796106Z"
    }
   },
   "outputs": [
    {
     "data": {
      "text/plain": [
       "0.09375570323601089"
      ]
     },
     "execution_count": 60,
     "metadata": {},
     "output_type": "execute_result"
    }
   ],
   "source": [
    "#Holts winter exponential smoothing with multiplicative seasonality and additive trend\n",
    "hwe_model_mul_add = ExponentialSmoothing(Train['Passengers'],seasonal=\"mul\",trend=\"add\",seasonal_periods=12).fit() \n",
    "pred_hwe_mul_add = hwe_model_mul_add.predict(start = Test.index[0],end = Test.index[-1])\n",
    "MAE__hwe_mul_add = MAE(pred_hwe_mul_add,Test['Passengers'])\n",
    "MAE__hwe_mul_add"
   ]
  },
  {
   "cell_type": "markdown",
   "id": "7caa7d27",
   "metadata": {},
   "source": [
    "# ARIMA Model for Time Series Forecasting"
   ]
  },
  {
   "cell_type": "code",
   "execution_count": 61,
   "id": "8137aa02",
   "metadata": {
    "ExecuteTime": {
     "end_time": "2022-11-13T11:34:00.352496Z",
     "start_time": "2022-11-13T11:33:36.531353Z"
    }
   },
   "outputs": [
    {
     "name": "stdout",
     "output_type": "stream",
     "text": [
      "Performing stepwise search to minimize aic\n",
      " ARIMA(1,2,1)(1,1,1)[12]             : AIC=inf, Time=1.22 sec\n",
      " ARIMA(0,2,0)(0,1,0)[12]             : AIC=691.146, Time=0.02 sec\n",
      " ARIMA(1,2,0)(1,1,0)[12]             : AIC=646.773, Time=0.11 sec\n",
      " ARIMA(0,2,1)(0,1,1)[12]             : AIC=inf, Time=0.39 sec\n",
      " ARIMA(1,2,0)(0,1,0)[12]             : AIC=649.949, Time=0.05 sec\n",
      " ARIMA(1,2,0)(2,1,0)[12]             : AIC=648.765, Time=0.25 sec\n",
      " ARIMA(1,2,0)(1,1,1)[12]             : AIC=648.766, Time=0.27 sec\n",
      " ARIMA(1,2,0)(0,1,1)[12]             : AIC=647.161, Time=0.17 sec\n",
      " ARIMA(1,2,0)(2,1,1)[12]             : AIC=inf, Time=2.09 sec\n",
      " ARIMA(0,2,0)(1,1,0)[12]             : AIC=684.807, Time=0.09 sec\n",
      " ARIMA(2,2,0)(1,1,0)[12]             : AIC=643.667, Time=0.18 sec\n",
      " ARIMA(2,2,0)(0,1,0)[12]             : AIC=646.811, Time=0.06 sec\n",
      " ARIMA(2,2,0)(2,1,0)[12]             : AIC=645.666, Time=0.33 sec\n",
      " ARIMA(2,2,0)(1,1,1)[12]             : AIC=645.667, Time=0.35 sec\n",
      " ARIMA(2,2,0)(0,1,1)[12]             : AIC=644.070, Time=0.24 sec\n",
      " ARIMA(2,2,0)(2,1,1)[12]             : AIC=inf, Time=2.29 sec\n",
      " ARIMA(3,2,0)(1,1,0)[12]             : AIC=640.364, Time=0.19 sec\n",
      " ARIMA(3,2,0)(0,1,0)[12]             : AIC=642.587, Time=0.09 sec\n",
      " ARIMA(3,2,0)(2,1,0)[12]             : AIC=642.102, Time=0.36 sec\n",
      " ARIMA(3,2,0)(1,1,1)[12]             : AIC=642.175, Time=0.41 sec\n",
      " ARIMA(3,2,0)(0,1,1)[12]             : AIC=640.936, Time=0.25 sec\n",
      " ARIMA(3,2,0)(2,1,1)[12]             : AIC=inf, Time=1.76 sec\n",
      " ARIMA(4,2,0)(1,1,0)[12]             : AIC=633.941, Time=0.16 sec\n",
      " ARIMA(4,2,0)(0,1,0)[12]             : AIC=634.926, Time=0.08 sec\n",
      " ARIMA(4,2,0)(2,1,0)[12]             : AIC=635.463, Time=0.37 sec\n",
      " ARIMA(4,2,0)(1,1,1)[12]             : AIC=635.650, Time=0.50 sec\n",
      " ARIMA(4,2,0)(0,1,1)[12]             : AIC=634.404, Time=0.30 sec\n",
      " ARIMA(4,2,0)(2,1,1)[12]             : AIC=inf, Time=2.00 sec\n",
      " ARIMA(5,2,0)(1,1,0)[12]             : AIC=628.574, Time=0.19 sec\n",
      " ARIMA(5,2,0)(0,1,0)[12]             : AIC=630.377, Time=0.10 sec\n",
      " ARIMA(5,2,0)(2,1,0)[12]             : AIC=629.920, Time=0.46 sec\n",
      " ARIMA(5,2,0)(1,1,1)[12]             : AIC=630.247, Time=0.57 sec\n",
      " ARIMA(5,2,0)(0,1,1)[12]             : AIC=629.302, Time=0.32 sec\n",
      " ARIMA(5,2,0)(2,1,1)[12]             : AIC=inf, Time=2.50 sec\n",
      " ARIMA(6,2,0)(1,1,0)[12]             : AIC=630.216, Time=0.27 sec\n",
      " ARIMA(5,2,1)(1,1,0)[12]             : AIC=inf, Time=1.29 sec\n",
      " ARIMA(4,2,1)(1,1,0)[12]             : AIC=inf, Time=0.94 sec\n",
      " ARIMA(6,2,1)(1,1,0)[12]             : AIC=inf, Time=1.32 sec\n",
      " ARIMA(5,2,0)(1,1,0)[12] intercept   : AIC=630.436, Time=0.50 sec\n",
      "\n",
      "Best model:  ARIMA(5,2,0)(1,1,0)[12]          \n",
      "Total fit time: 23.031 seconds\n"
     ]
    }
   ],
   "source": [
    "from pmdarima import auto_arima\n",
    "model_fit=auto_arima(airline['Passengers'],start_p=1,start_q=1,max_p=6,max_q=6,m=12,start_P=1,seasonal=True,d=2,D=1,trace=True,error_action='ignore',suppress_warnings=True,stepwise=True)"
   ]
  },
  {
   "cell_type": "code",
   "execution_count": 62,
   "id": "222edff6",
   "metadata": {
    "ExecuteTime": {
     "end_time": "2022-11-13T11:34:09.495904Z",
     "start_time": "2022-11-13T11:34:09.455232Z"
    }
   },
   "outputs": [
    {
     "data": {
      "text/html": [
       "<table class=\"simpletable\">\n",
       "<caption>SARIMAX Results</caption>\n",
       "<tr>\n",
       "  <th>Dep. Variable:</th>                  <td>y</td>               <th>  No. Observations:  </th>    <td>96</td>   \n",
       "</tr>\n",
       "<tr>\n",
       "  <th>Model:</th>           <td>SARIMAX(5, 2, 0)x(1, 1, 0, 12)</td> <th>  Log Likelihood     </th> <td>-307.287</td>\n",
       "</tr>\n",
       "<tr>\n",
       "  <th>Date:</th>                   <td>Sun, 13 Nov 2022</td>        <th>  AIC                </th>  <td>628.574</td>\n",
       "</tr>\n",
       "<tr>\n",
       "  <th>Time:</th>                       <td>17:04:09</td>            <th>  BIC                </th>  <td>645.421</td>\n",
       "</tr>\n",
       "<tr>\n",
       "  <th>Sample:</th>                         <td>0</td>               <th>  HQIC               </th>  <td>635.338</td>\n",
       "</tr>\n",
       "<tr>\n",
       "  <th></th>                              <td> - 96</td>             <th>                     </th>     <td> </td>   \n",
       "</tr>\n",
       "<tr>\n",
       "  <th>Covariance Type:</th>               <td>opg</td>              <th>                     </th>     <td> </td>   \n",
       "</tr>\n",
       "</table>\n",
       "<table class=\"simpletable\">\n",
       "<tr>\n",
       "      <td></td>        <th>coef</th>     <th>std err</th>      <th>z</th>      <th>P>|z|</th>  <th>[0.025</th>    <th>0.975]</th>  \n",
       "</tr>\n",
       "<tr>\n",
       "  <th>ar.L1</th>    <td>   -1.0125</td> <td>    0.102</td> <td>   -9.912</td> <td> 0.000</td> <td>   -1.213</td> <td>   -0.812</td>\n",
       "</tr>\n",
       "<tr>\n",
       "  <th>ar.L2</th>    <td>   -0.7313</td> <td>    0.135</td> <td>   -5.415</td> <td> 0.000</td> <td>   -0.996</td> <td>   -0.467</td>\n",
       "</tr>\n",
       "<tr>\n",
       "  <th>ar.L3</th>    <td>   -0.6861</td> <td>    0.139</td> <td>   -4.935</td> <td> 0.000</td> <td>   -0.959</td> <td>   -0.414</td>\n",
       "</tr>\n",
       "<tr>\n",
       "  <th>ar.L4</th>    <td>   -0.5879</td> <td>    0.134</td> <td>   -4.392</td> <td> 0.000</td> <td>   -0.850</td> <td>   -0.326</td>\n",
       "</tr>\n",
       "<tr>\n",
       "  <th>ar.L5</th>    <td>   -0.2960</td> <td>    0.104</td> <td>   -2.853</td> <td> 0.004</td> <td>   -0.499</td> <td>   -0.093</td>\n",
       "</tr>\n",
       "<tr>\n",
       "  <th>ar.S.L12</th> <td>   -0.2214</td> <td>    0.091</td> <td>   -2.433</td> <td> 0.015</td> <td>   -0.400</td> <td>   -0.043</td>\n",
       "</tr>\n",
       "<tr>\n",
       "  <th>sigma2</th>   <td>  102.4919</td> <td>   17.774</td> <td>    5.766</td> <td> 0.000</td> <td>   67.656</td> <td>  137.328</td>\n",
       "</tr>\n",
       "</table>\n",
       "<table class=\"simpletable\">\n",
       "<tr>\n",
       "  <th>Ljung-Box (L1) (Q):</th>     <td>0.09</td> <th>  Jarque-Bera (JB):  </th> <td>1.79</td>\n",
       "</tr>\n",
       "<tr>\n",
       "  <th>Prob(Q):</th>                <td>0.77</td> <th>  Prob(JB):          </th> <td>0.41</td>\n",
       "</tr>\n",
       "<tr>\n",
       "  <th>Heteroskedasticity (H):</th> <td>1.48</td> <th>  Skew:              </th> <td>0.36</td>\n",
       "</tr>\n",
       "<tr>\n",
       "  <th>Prob(H) (two-sided):</th>    <td>0.31</td> <th>  Kurtosis:          </th> <td>2.97</td>\n",
       "</tr>\n",
       "</table><br/><br/>Warnings:<br/>[1] Covariance matrix calculated using the outer product of gradients (complex-step)."
      ],
      "text/plain": [
       "<class 'statsmodels.iolib.summary.Summary'>\n",
       "\"\"\"\n",
       "                                     SARIMAX Results                                      \n",
       "==========================================================================================\n",
       "Dep. Variable:                                  y   No. Observations:                   96\n",
       "Model:             SARIMAX(5, 2, 0)x(1, 1, 0, 12)   Log Likelihood                -307.287\n",
       "Date:                            Sun, 13 Nov 2022   AIC                            628.574\n",
       "Time:                                    17:04:09   BIC                            645.421\n",
       "Sample:                                         0   HQIC                           635.338\n",
       "                                             - 96                                         \n",
       "Covariance Type:                              opg                                         \n",
       "==============================================================================\n",
       "                 coef    std err          z      P>|z|      [0.025      0.975]\n",
       "------------------------------------------------------------------------------\n",
       "ar.L1         -1.0125      0.102     -9.912      0.000      -1.213      -0.812\n",
       "ar.L2         -0.7313      0.135     -5.415      0.000      -0.996      -0.467\n",
       "ar.L3         -0.6861      0.139     -4.935      0.000      -0.959      -0.414\n",
       "ar.L4         -0.5879      0.134     -4.392      0.000      -0.850      -0.326\n",
       "ar.L5         -0.2960      0.104     -2.853      0.004      -0.499      -0.093\n",
       "ar.S.L12      -0.2214      0.091     -2.433      0.015      -0.400      -0.043\n",
       "sigma2       102.4919     17.774      5.766      0.000      67.656     137.328\n",
       "===================================================================================\n",
       "Ljung-Box (L1) (Q):                   0.09   Jarque-Bera (JB):                 1.79\n",
       "Prob(Q):                              0.77   Prob(JB):                         0.41\n",
       "Heteroskedasticity (H):               1.48   Skew:                             0.36\n",
       "Prob(H) (two-sided):                  0.31   Kurtosis:                         2.97\n",
       "===================================================================================\n",
       "\n",
       "Warnings:\n",
       "[1] Covariance matrix calculated using the outer product of gradients (complex-step).\n",
       "\"\"\""
      ]
     },
     "execution_count": 62,
     "metadata": {},
     "output_type": "execute_result"
    }
   ],
   "source": [
    "model_fit.summary()"
   ]
  },
  {
   "cell_type": "markdown",
   "id": "3ae395c3",
   "metadata": {},
   "source": [
    " Note : we can clearly observe (p,d,q) values are (5,2,0)"
   ]
  },
  {
   "cell_type": "code",
   "execution_count": 63,
   "id": "15505a01",
   "metadata": {
    "ExecuteTime": {
     "end_time": "2022-11-13T11:34:58.115243Z",
     "start_time": "2022-11-13T11:34:58.090836Z"
    }
   },
   "outputs": [],
   "source": [
    "# Split data into train / test sets\n",
    "train = airline.iloc[:len(airline)-12]\n",
    "test = airline.iloc[len(airline)-12:] # set one year(12 months) for testing"
   ]
  },
  {
   "cell_type": "code",
   "execution_count": 64,
   "id": "be080110",
   "metadata": {
    "ExecuteTime": {
     "end_time": "2022-11-13T11:35:01.016544Z",
     "start_time": "2022-11-13T11:35:00.524968Z"
    }
   },
   "outputs": [
    {
     "data": {
      "text/html": [
       "<table class=\"simpletable\">\n",
       "<caption>SARIMAX Results</caption>\n",
       "<tr>\n",
       "  <th>Dep. Variable:</th>             <td>Passengers</td>           <th>  No. Observations:  </th>    <td>84</td>   \n",
       "</tr>\n",
       "<tr>\n",
       "  <th>Model:</th>           <td>SARIMAX(5, 2, 0)x(1, 1, 0, 12)</td> <th>  Log Likelihood     </th> <td>-264.784</td>\n",
       "</tr>\n",
       "<tr>\n",
       "  <th>Date:</th>                   <td>Sun, 13 Nov 2022</td>        <th>  AIC                </th>  <td>543.567</td>\n",
       "</tr>\n",
       "<tr>\n",
       "  <th>Time:</th>                       <td>17:05:00</td>            <th>  BIC                </th>  <td>559.307</td>\n",
       "</tr>\n",
       "<tr>\n",
       "  <th>Sample:</th>                         <td>0</td>               <th>  HQIC               </th>  <td>549.819</td>\n",
       "</tr>\n",
       "<tr>\n",
       "  <th></th>                              <td> - 84</td>             <th>                     </th>     <td> </td>   \n",
       "</tr>\n",
       "<tr>\n",
       "  <th>Covariance Type:</th>               <td>opg</td>              <th>                     </th>     <td> </td>   \n",
       "</tr>\n",
       "</table>\n",
       "<table class=\"simpletable\">\n",
       "<tr>\n",
       "      <td></td>        <th>coef</th>     <th>std err</th>      <th>z</th>      <th>P>|z|</th>  <th>[0.025</th>    <th>0.975]</th>  \n",
       "</tr>\n",
       "<tr>\n",
       "  <th>ar.L1</th>    <td>   -1.0106</td> <td>    0.116</td> <td>   -8.690</td> <td> 0.000</td> <td>   -1.238</td> <td>   -0.783</td>\n",
       "</tr>\n",
       "<tr>\n",
       "  <th>ar.L2</th>    <td>   -0.7412</td> <td>    0.149</td> <td>   -4.979</td> <td> 0.000</td> <td>   -1.033</td> <td>   -0.449</td>\n",
       "</tr>\n",
       "<tr>\n",
       "  <th>ar.L3</th>    <td>   -0.7166</td> <td>    0.148</td> <td>   -4.845</td> <td> 0.000</td> <td>   -1.006</td> <td>   -0.427</td>\n",
       "</tr>\n",
       "<tr>\n",
       "  <th>ar.L4</th>    <td>   -0.5666</td> <td>    0.145</td> <td>   -3.898</td> <td> 0.000</td> <td>   -0.851</td> <td>   -0.282</td>\n",
       "</tr>\n",
       "<tr>\n",
       "  <th>ar.L5</th>    <td>   -0.2613</td> <td>    0.115</td> <td>   -2.273</td> <td> 0.023</td> <td>   -0.487</td> <td>   -0.036</td>\n",
       "</tr>\n",
       "<tr>\n",
       "  <th>ar.S.L12</th> <td>   -0.2147</td> <td>    0.103</td> <td>   -2.088</td> <td> 0.037</td> <td>   -0.416</td> <td>   -0.013</td>\n",
       "</tr>\n",
       "<tr>\n",
       "  <th>sigma2</th>   <td>  109.5221</td> <td>   21.727</td> <td>    5.041</td> <td> 0.000</td> <td>   66.937</td> <td>  152.107</td>\n",
       "</tr>\n",
       "</table>\n",
       "<table class=\"simpletable\">\n",
       "<tr>\n",
       "  <th>Ljung-Box (L1) (Q):</th>     <td>0.16</td> <th>  Jarque-Bera (JB):  </th> <td>1.86</td>\n",
       "</tr>\n",
       "<tr>\n",
       "  <th>Prob(Q):</th>                <td>0.69</td> <th>  Prob(JB):          </th> <td>0.39</td>\n",
       "</tr>\n",
       "<tr>\n",
       "  <th>Heteroskedasticity (H):</th> <td>2.59</td> <th>  Skew:              </th> <td>0.38</td>\n",
       "</tr>\n",
       "<tr>\n",
       "  <th>Prob(H) (two-sided):</th>    <td>0.03</td> <th>  Kurtosis:          </th> <td>2.78</td>\n",
       "</tr>\n",
       "</table><br/><br/>Warnings:<br/>[1] Covariance matrix calculated using the outer product of gradients (complex-step)."
      ],
      "text/plain": [
       "<class 'statsmodels.iolib.summary.Summary'>\n",
       "\"\"\"\n",
       "                                     SARIMAX Results                                      \n",
       "==========================================================================================\n",
       "Dep. Variable:                         Passengers   No. Observations:                   84\n",
       "Model:             SARIMAX(5, 2, 0)x(1, 1, 0, 12)   Log Likelihood                -264.784\n",
       "Date:                            Sun, 13 Nov 2022   AIC                            543.567\n",
       "Time:                                    17:05:00   BIC                            559.307\n",
       "Sample:                                         0   HQIC                           549.819\n",
       "                                             - 84                                         \n",
       "Covariance Type:                              opg                                         \n",
       "==============================================================================\n",
       "                 coef    std err          z      P>|z|      [0.025      0.975]\n",
       "------------------------------------------------------------------------------\n",
       "ar.L1         -1.0106      0.116     -8.690      0.000      -1.238      -0.783\n",
       "ar.L2         -0.7412      0.149     -4.979      0.000      -1.033      -0.449\n",
       "ar.L3         -0.7166      0.148     -4.845      0.000      -1.006      -0.427\n",
       "ar.L4         -0.5666      0.145     -3.898      0.000      -0.851      -0.282\n",
       "ar.L5         -0.2613      0.115     -2.273      0.023      -0.487      -0.036\n",
       "ar.S.L12      -0.2147      0.103     -2.088      0.037      -0.416      -0.013\n",
       "sigma2       109.5221     21.727      5.041      0.000      66.937     152.107\n",
       "===================================================================================\n",
       "Ljung-Box (L1) (Q):                   0.16   Jarque-Bera (JB):                 1.86\n",
       "Prob(Q):                              0.69   Prob(JB):                         0.39\n",
       "Heteroskedasticity (H):               2.59   Skew:                             0.38\n",
       "Prob(H) (two-sided):                  0.03   Kurtosis:                         2.78\n",
       "===================================================================================\n",
       "\n",
       "Warnings:\n",
       "[1] Covariance matrix calculated using the outer product of gradients (complex-step).\n",
       "\"\"\""
      ]
     },
     "execution_count": 64,
     "metadata": {},
     "output_type": "execute_result"
    }
   ],
   "source": [
    "# Fit a SARIMAX(5,2,0)x(1, 1, 0, 12) on the training set\n",
    "from statsmodels.tsa.statespace.sarimax import SARIMAX\n",
    "model_sari=SARIMAX(train['Passengers'],order=(5,2,0),seasonal_order=(1,1,0,12))\n",
    "result=model_sari.fit()\n",
    "result.summary()"
   ]
  },
  {
   "cell_type": "code",
   "execution_count": 65,
   "id": "f835111e",
   "metadata": {
    "ExecuteTime": {
     "end_time": "2022-11-13T11:35:04.396661Z",
     "start_time": "2022-11-13T11:35:04.384188Z"
    }
   },
   "outputs": [],
   "source": [
    "# Predictions of ARIMA Model against the test set\n",
    "start = len(train)\n",
    "end = len(train) + len(test) - 1"
   ]
  },
  {
   "cell_type": "code",
   "execution_count": 66,
   "id": "732520d6",
   "metadata": {
    "ExecuteTime": {
     "end_time": "2022-11-13T11:35:07.663005Z",
     "start_time": "2022-11-13T11:35:07.622873Z"
    }
   },
   "outputs": [],
   "source": [
    "# prediction for one year aganist the testset\n",
    "pred=result.predict(start,end,typ='levels')"
   ]
  },
  {
   "cell_type": "code",
   "execution_count": 67,
   "id": "d7a443af",
   "metadata": {
    "ExecuteTime": {
     "end_time": "2022-11-13T11:35:10.105765Z",
     "start_time": "2022-11-13T11:35:09.864847Z"
    }
   },
   "outputs": [
    {
     "data": {
      "text/plain": [
       "<AxesSubplot:>"
      ]
     },
     "execution_count": 67,
     "metadata": {},
     "output_type": "execute_result"
    },
    {
     "data": {
      "image/png": "[encoded data removed]",
      "text/plain": [
       "<Figure size 432x288 with 1 Axes>"
      ]
     },
     "metadata": {
      "needs_background": "light"
     },
     "output_type": "display_data"
    }
   ],
   "source": [
    "# plot predictions and actual values\n",
    "pred.plot(legend=True)\n",
    "test['Passengers'].plot(legend=True)"
   ]
  },
  {
   "cell_type": "code",
   "execution_count": 68,
   "id": "a224a9db",
   "metadata": {
    "ExecuteTime": {
     "end_time": "2022-11-13T11:35:12.626706Z",
     "start_time": "2022-11-13T11:35:12.613885Z"
    }
   },
   "outputs": [],
   "source": [
    "#Evaluate the model using MSE ,RMSE and MAE\n",
    "# giving def for ERROR\n",
    "def MAE(pred,org):\n",
    "    err = np.abs((pred-org)/org)\n",
    "    return np.mean(err)"
   ]
  },
  {
   "cell_type": "code",
   "execution_count": 69,
   "id": "b4c30809",
   "metadata": {
    "ExecuteTime": {
     "end_time": "2022-11-13T11:35:14.660944Z",
     "start_time": "2022-11-13T11:35:14.636677Z"
    }
   },
   "outputs": [
    {
     "data": {
      "text/plain": [
       "12.962200626305338"
      ]
     },
     "execution_count": 69,
     "metadata": {},
     "output_type": "execute_result"
    }
   ],
   "source": [
    "# Calculate root mean squared error\n",
    "from statsmodels.tools.eval_measures import rmse\n",
    "rmse(test[\"Passengers\"], pred)"
   ]
  },
  {
   "cell_type": "code",
   "execution_count": 70,
   "id": "61684103",
   "metadata": {
    "ExecuteTime": {
     "end_time": "2022-11-13T11:35:16.798720Z",
     "start_time": "2022-11-13T11:35:16.773899Z"
    }
   },
   "outputs": [
    {
     "data": {
      "text/plain": [
       "0.028640628759898368"
      ]
     },
     "execution_count": 70,
     "metadata": {},
     "output_type": "execute_result"
    }
   ],
   "source": [
    "AR_MAE=MAE(test[\"Passengers\"], pred)\n",
    "AR_MAE"
   ]
  },
  {
   "cell_type": "code",
   "execution_count": 71,
   "id": "042419a2",
   "metadata": {
    "ExecuteTime": {
     "end_time": "2022-11-13T11:35:19.030747Z",
     "start_time": "2022-11-13T11:35:18.998524Z"
    }
   },
   "outputs": [
    {
     "data": {
      "text/plain": [
       "168.01864507659047"
      ]
     },
     "execution_count": 71,
     "metadata": {},
     "output_type": "execute_result"
    }
   ],
   "source": [
    "# Calculate mean squared error\n",
    "mean_squared_error(test[\"Passengers\"], pred)"
   ]
  },
  {
   "cell_type": "markdown",
   "id": "aff9a69b",
   "metadata": {},
   "source": [
    "# Forecasting using ARIMA model"
   ]
  },
  {
   "cell_type": "code",
   "execution_count": 72,
   "id": "cbd9df78",
   "metadata": {
    "ExecuteTime": {
     "end_time": "2022-11-13T11:35:21.925407Z",
     "start_time": "2022-11-13T11:35:21.886631Z"
    }
   },
   "outputs": [],
   "source": [
    "# Forecast for the next 4 years\n",
    "forecast = result.predict(start = len(airline), \n",
    "                          end = (len(airline)-1) + 4 * 12, \n",
    "                          typ = 'levels')"
   ]
  },
  {
   "cell_type": "code",
   "execution_count": 73,
   "id": "e17f280f",
   "metadata": {
    "ExecuteTime": {
     "end_time": "2022-11-13T11:35:24.384647Z",
     "start_time": "2022-11-13T11:35:24.367773Z"
    }
   },
   "outputs": [
    {
     "data": {
      "text/html": [
       "<div>\n",
       "<style scoped>\n",
       "    .dataframe tbody tr th:only-of-type {\n",
       "        vertical-align: middle;\n",
       "    }\n",
       "\n",
       "    .dataframe tbody tr th {\n",
       "        vertical-align: top;\n",
       "    }\n",
       "\n",
       "    .dataframe thead th {\n",
       "        text-align: right;\n",
       "    }\n",
       "</style>\n",
       "<table border=\"1\" class=\"dataframe\">\n",
       "  <thead>\n",
       "    <tr style=\"text-align: right;\">\n",
       "      <th></th>\n",
       "      <th>predicted_mean</th>\n",
       "    </tr>\n",
       "  </thead>\n",
       "  <tbody>\n",
       "    <tr>\n",
       "      <th>96</th>\n",
       "      <td>315.414025</td>\n",
       "    </tr>\n",
       "    <tr>\n",
       "      <th>97</th>\n",
       "      <td>303.549449</td>\n",
       "    </tr>\n",
       "    <tr>\n",
       "      <th>98</th>\n",
       "      <td>334.804465</td>\n",
       "    </tr>\n",
       "    <tr>\n",
       "      <th>99</th>\n",
       "      <td>332.080333</td>\n",
       "    </tr>\n",
       "    <tr>\n",
       "      <th>100</th>\n",
       "      <td>333.921553</td>\n",
       "    </tr>\n",
       "    <tr>\n",
       "      <th>101</th>\n",
       "      <td>377.339761</td>\n",
       "    </tr>\n",
       "    <tr>\n",
       "      <th>102</th>\n",
       "      <td>422.180295</td>\n",
       "    </tr>\n",
       "    <tr>\n",
       "      <th>103</th>\n",
       "      <td>404.401556</td>\n",
       "    </tr>\n",
       "    <tr>\n",
       "      <th>104</th>\n",
       "      <td>366.751957</td>\n",
       "    </tr>\n",
       "    <tr>\n",
       "      <th>105</th>\n",
       "      <td>328.796595</td>\n",
       "    </tr>\n",
       "    <tr>\n",
       "      <th>106</th>\n",
       "      <td>292.752168</td>\n",
       "    </tr>\n",
       "    <tr>\n",
       "      <th>107</th>\n",
       "      <td>330.037000</td>\n",
       "    </tr>\n",
       "    <tr>\n",
       "      <th>108</th>\n",
       "      <td>336.899287</td>\n",
       "    </tr>\n",
       "    <tr>\n",
       "      <th>109</th>\n",
       "      <td>324.303736</td>\n",
       "    </tr>\n",
       "    <tr>\n",
       "      <th>110</th>\n",
       "      <td>354.850267</td>\n",
       "    </tr>\n",
       "    <tr>\n",
       "      <th>111</th>\n",
       "      <td>351.154343</td>\n",
       "    </tr>\n",
       "    <tr>\n",
       "      <th>112</th>\n",
       "      <td>352.325648</td>\n",
       "    </tr>\n",
       "    <tr>\n",
       "      <th>113</th>\n",
       "      <td>394.964087</td>\n",
       "    </tr>\n",
       "    <tr>\n",
       "      <th>114</th>\n",
       "      <td>438.939138</td>\n",
       "    </tr>\n",
       "    <tr>\n",
       "      <th>115</th>\n",
       "      <td>420.500143</td>\n",
       "    </tr>\n",
       "    <tr>\n",
       "      <th>116</th>\n",
       "      <td>382.054301</td>\n",
       "    </tr>\n",
       "    <tr>\n",
       "      <th>117</th>\n",
       "      <td>343.423379</td>\n",
       "    </tr>\n",
       "    <tr>\n",
       "      <th>118</th>\n",
       "      <td>306.763597</td>\n",
       "    </tr>\n",
       "    <tr>\n",
       "      <th>119</th>\n",
       "      <td>343.177666</td>\n",
       "    </tr>\n",
       "    <tr>\n",
       "      <th>120</th>\n",
       "      <td>349.339573</td>\n",
       "    </tr>\n",
       "    <tr>\n",
       "      <th>121</th>\n",
       "      <td>336.006819</td>\n",
       "    </tr>\n",
       "    <tr>\n",
       "      <th>122</th>\n",
       "      <td>365.811445</td>\n",
       "    </tr>\n",
       "    <tr>\n",
       "      <th>123</th>\n",
       "      <td>361.426351</td>\n",
       "    </tr>\n",
       "    <tr>\n",
       "      <th>124</th>\n",
       "      <td>361.840631</td>\n",
       "    </tr>\n",
       "    <tr>\n",
       "      <th>125</th>\n",
       "      <td>403.746428</td>\n",
       "    </tr>\n",
       "    <tr>\n",
       "      <th>126</th>\n",
       "      <td>447.009650</td>\n",
       "    </tr>\n",
       "    <tr>\n",
       "      <th>127</th>\n",
       "      <td>427.816038</td>\n",
       "    </tr>\n",
       "    <tr>\n",
       "      <th>128</th>\n",
       "      <td>388.643847</td>\n",
       "    </tr>\n",
       "    <tr>\n",
       "      <th>129</th>\n",
       "      <td>349.259277</td>\n",
       "    </tr>\n",
       "    <tr>\n",
       "      <th>130</th>\n",
       "      <td>311.832529</td>\n",
       "    </tr>\n",
       "    <tr>\n",
       "      <th>131</th>\n",
       "      <td>347.535204</td>\n",
       "    </tr>\n",
       "    <tr>\n",
       "      <th>132</th>\n",
       "      <td>352.949871</td>\n",
       "    </tr>\n",
       "    <tr>\n",
       "      <th>133</th>\n",
       "      <td>338.877805</td>\n",
       "    </tr>\n",
       "    <tr>\n",
       "      <th>134</th>\n",
       "      <td>367.943618</td>\n",
       "    </tr>\n",
       "    <tr>\n",
       "      <th>135</th>\n",
       "      <td>362.808047</td>\n",
       "    </tr>\n",
       "    <tr>\n",
       "      <th>136</th>\n",
       "      <td>362.486517</td>\n",
       "    </tr>\n",
       "    <tr>\n",
       "      <th>137</th>\n",
       "      <td>403.651584</td>\n",
       "    </tr>\n",
       "    <tr>\n",
       "      <th>138</th>\n",
       "      <td>446.169746</td>\n",
       "    </tr>\n",
       "    <tr>\n",
       "      <th>139</th>\n",
       "      <td>426.240143</td>\n",
       "    </tr>\n",
       "    <tr>\n",
       "      <th>140</th>\n",
       "      <td>386.325715</td>\n",
       "    </tr>\n",
       "    <tr>\n",
       "      <th>141</th>\n",
       "      <td>346.204732</td>\n",
       "    </tr>\n",
       "    <tr>\n",
       "      <th>142</th>\n",
       "      <td>308.044521</td>\n",
       "    </tr>\n",
       "    <tr>\n",
       "      <th>143</th>\n",
       "      <td>343.001896</td>\n",
       "    </tr>\n",
       "  </tbody>\n",
       "</table>\n",
       "</div>"
      ],
      "text/plain": [
       "     predicted_mean\n",
       "96       315.414025\n",
       "97       303.549449\n",
       "98       334.804465\n",
       "99       332.080333\n",
       "100      333.921553\n",
       "101      377.339761\n",
       "102      422.180295\n",
       "103      404.401556\n",
       "104      366.751957\n",
       "105      328.796595\n",
       "106      292.752168\n",
       "107      330.037000\n",
       "108      336.899287\n",
       "109      324.303736\n",
       "110      354.850267\n",
       "111      351.154343\n",
       "112      352.325648\n",
       "113      394.964087\n",
       "114      438.939138\n",
       "115      420.500143\n",
       "116      382.054301\n",
       "117      343.423379\n",
       "118      306.763597\n",
       "119      343.177666\n",
       "120      349.339573\n",
       "121      336.006819\n",
       "122      365.811445\n",
       "123      361.426351\n",
       "124      361.840631\n",
       "125      403.746428\n",
       "126      447.009650\n",
       "127      427.816038\n",
       "128      388.643847\n",
       "129      349.259277\n",
       "130      311.832529\n",
       "131      347.535204\n",
       "132      352.949871\n",
       "133      338.877805\n",
       "134      367.943618\n",
       "135      362.808047\n",
       "136      362.486517\n",
       "137      403.651584\n",
       "138      446.169746\n",
       "139      426.240143\n",
       "140      386.325715\n",
       "141      346.204732\n",
       "142      308.044521\n",
       "143      343.001896"
      ]
     },
     "execution_count": 73,
     "metadata": {},
     "output_type": "execute_result"
    }
   ],
   "source": [
    "prediction=pd.DataFrame(forecast)\n",
    "prediction"
   ]
  },
  {
   "cell_type": "code",
   "execution_count": 74,
   "id": "8b0e4981",
   "metadata": {
    "ExecuteTime": {
     "end_time": "2022-11-13T11:36:18.343038Z",
     "start_time": "2022-11-13T11:36:18.118113Z"
    }
   },
   "outputs": [
    {
     "data": {
      "text/plain": [
       "<AxesSubplot:>"
      ]
     },
     "execution_count": 74,
     "metadata": {},
     "output_type": "execute_result"
    },
    {
     "data": {
      "image/png": "[encoded data removed]",
      "text/plain": [
       "<Figure size 864x360 with 1 Axes>"
      ]
     },
     "metadata": {
      "needs_background": "light"
     },
     "output_type": "display_data"
    }
   ],
   "source": [
    "# Plot the forecast values\n",
    "airline_1['Passengers'].plot(figsize = (12, 5), legend = True)\n",
    "forecast.plot(legend = True)"
   ]
  },
  {
   "cell_type": "code",
   "execution_count": null,
   "id": "3c38433e",
   "metadata": {},
   "outputs": [],
   "source": []
  }
 ],
 "metadata": {
  "kernelspec": {
   "display_name": "Python 3 (ipykernel)",
   "language": "python",
   "name": "python3"
  },
  "language_info": {
   "codemirror_mode": {
    "name": "ipython",
    "version": 3
   },
   "file_extension": ".py",
   "mimetype": "text/x-python",
   "name": "python",
   "nbconvert_exporter": "python",
   "pygments_lexer": "ipython3",
   "version": "3.9.12"
  }
 },
 "nbformat": 4,
 "nbformat_minor": 5
}
