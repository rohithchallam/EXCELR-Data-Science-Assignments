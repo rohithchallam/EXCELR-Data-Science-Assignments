{
 "cells": [
  {
   "cell_type": "code",
   "execution_count": 47,
   "id": "f5a82454",
   "metadata": {
    "ExecuteTime": {
     "end_time": "2022-11-09T15:15:13.100737Z",
     "start_time": "2022-11-09T15:15:13.068947Z"
    }
   },
   "outputs": [],
   "source": [
    "# import necessary libraries\n",
    "import pandas as pd\n",
    "import numpy as np\n",
    "import seaborn as sns\n",
    "import matplotlib.pyplot as plt \n",
    "from sklearn.preprocessing import LabelEncoder\n",
    "from sklearn.preprocessing import StandardScaler\n",
    "from sklearn.model_selection import train_test_split\n",
    "from sklearn.linear_model import LogisticRegression\n",
    "from sklearn.metrics import confusion_matrix,classification_report,accuracy_score\n",
    "from sklearn.metrics import roc_auc_score,roc_curve\n",
    "from numpy import argmax"
   ]
  },
  {
   "cell_type": "code",
   "execution_count": 5,
   "id": "20544e84",
   "metadata": {
    "ExecuteTime": {
     "end_time": "2022-11-09T15:02:57.153461Z",
     "start_time": "2022-11-09T15:02:56.910944Z"
    }
   },
   "outputs": [
    {
     "data": {
      "text/html": [
       "<div>\n",
       "<style scoped>\n",
       "    .dataframe tbody tr th:only-of-type {\n",
       "        vertical-align: middle;\n",
       "    }\n",
       "\n",
       "    .dataframe tbody tr th {\n",
       "        vertical-align: top;\n",
       "    }\n",
       "\n",
       "    .dataframe thead th {\n",
       "        text-align: right;\n",
       "    }\n",
       "</style>\n",
       "<table border=\"1\" class=\"dataframe\">\n",
       "  <thead>\n",
       "    <tr style=\"text-align: right;\">\n",
       "      <th></th>\n",
       "      <th>age</th>\n",
       "      <th>job</th>\n",
       "      <th>marital</th>\n",
       "      <th>education</th>\n",
       "      <th>default</th>\n",
       "      <th>balance</th>\n",
       "      <th>housing</th>\n",
       "      <th>loan</th>\n",
       "      <th>contact</th>\n",
       "      <th>day</th>\n",
       "      <th>month</th>\n",
       "      <th>duration</th>\n",
       "      <th>campaign</th>\n",
       "      <th>pdays</th>\n",
       "      <th>previous</th>\n",
       "      <th>poutcome</th>\n",
       "      <th>y</th>\n",
       "    </tr>\n",
       "  </thead>\n",
       "  <tbody>\n",
       "    <tr>\n",
       "      <th>0</th>\n",
       "      <td>58</td>\n",
       "      <td>management</td>\n",
       "      <td>married</td>\n",
       "      <td>tertiary</td>\n",
       "      <td>no</td>\n",
       "      <td>2143</td>\n",
       "      <td>yes</td>\n",
       "      <td>no</td>\n",
       "      <td>unknown</td>\n",
       "      <td>5</td>\n",
       "      <td>may</td>\n",
       "      <td>261</td>\n",
       "      <td>1</td>\n",
       "      <td>-1</td>\n",
       "      <td>0</td>\n",
       "      <td>unknown</td>\n",
       "      <td>no</td>\n",
       "    </tr>\n",
       "    <tr>\n",
       "      <th>1</th>\n",
       "      <td>44</td>\n",
       "      <td>technician</td>\n",
       "      <td>single</td>\n",
       "      <td>secondary</td>\n",
       "      <td>no</td>\n",
       "      <td>29</td>\n",
       "      <td>yes</td>\n",
       "      <td>no</td>\n",
       "      <td>unknown</td>\n",
       "      <td>5</td>\n",
       "      <td>may</td>\n",
       "      <td>151</td>\n",
       "      <td>1</td>\n",
       "      <td>-1</td>\n",
       "      <td>0</td>\n",
       "      <td>unknown</td>\n",
       "      <td>no</td>\n",
       "    </tr>\n",
       "    <tr>\n",
       "      <th>2</th>\n",
       "      <td>33</td>\n",
       "      <td>entrepreneur</td>\n",
       "      <td>married</td>\n",
       "      <td>secondary</td>\n",
       "      <td>no</td>\n",
       "      <td>2</td>\n",
       "      <td>yes</td>\n",
       "      <td>yes</td>\n",
       "      <td>unknown</td>\n",
       "      <td>5</td>\n",
       "      <td>may</td>\n",
       "      <td>76</td>\n",
       "      <td>1</td>\n",
       "      <td>-1</td>\n",
       "      <td>0</td>\n",
       "      <td>unknown</td>\n",
       "      <td>no</td>\n",
       "    </tr>\n",
       "    <tr>\n",
       "      <th>3</th>\n",
       "      <td>47</td>\n",
       "      <td>blue-collar</td>\n",
       "      <td>married</td>\n",
       "      <td>unknown</td>\n",
       "      <td>no</td>\n",
       "      <td>1506</td>\n",
       "      <td>yes</td>\n",
       "      <td>no</td>\n",
       "      <td>unknown</td>\n",
       "      <td>5</td>\n",
       "      <td>may</td>\n",
       "      <td>92</td>\n",
       "      <td>1</td>\n",
       "      <td>-1</td>\n",
       "      <td>0</td>\n",
       "      <td>unknown</td>\n",
       "      <td>no</td>\n",
       "    </tr>\n",
       "    <tr>\n",
       "      <th>4</th>\n",
       "      <td>33</td>\n",
       "      <td>unknown</td>\n",
       "      <td>single</td>\n",
       "      <td>unknown</td>\n",
       "      <td>no</td>\n",
       "      <td>1</td>\n",
       "      <td>no</td>\n",
       "      <td>no</td>\n",
       "      <td>unknown</td>\n",
       "      <td>5</td>\n",
       "      <td>may</td>\n",
       "      <td>198</td>\n",
       "      <td>1</td>\n",
       "      <td>-1</td>\n",
       "      <td>0</td>\n",
       "      <td>unknown</td>\n",
       "      <td>no</td>\n",
       "    </tr>\n",
       "    <tr>\n",
       "      <th>...</th>\n",
       "      <td>...</td>\n",
       "      <td>...</td>\n",
       "      <td>...</td>\n",
       "      <td>...</td>\n",
       "      <td>...</td>\n",
       "      <td>...</td>\n",
       "      <td>...</td>\n",
       "      <td>...</td>\n",
       "      <td>...</td>\n",
       "      <td>...</td>\n",
       "      <td>...</td>\n",
       "      <td>...</td>\n",
       "      <td>...</td>\n",
       "      <td>...</td>\n",
       "      <td>...</td>\n",
       "      <td>...</td>\n",
       "      <td>...</td>\n",
       "    </tr>\n",
       "    <tr>\n",
       "      <th>45206</th>\n",
       "      <td>51</td>\n",
       "      <td>technician</td>\n",
       "      <td>married</td>\n",
       "      <td>tertiary</td>\n",
       "      <td>no</td>\n",
       "      <td>825</td>\n",
       "      <td>no</td>\n",
       "      <td>no</td>\n",
       "      <td>cellular</td>\n",
       "      <td>17</td>\n",
       "      <td>nov</td>\n",
       "      <td>977</td>\n",
       "      <td>3</td>\n",
       "      <td>-1</td>\n",
       "      <td>0</td>\n",
       "      <td>unknown</td>\n",
       "      <td>yes</td>\n",
       "    </tr>\n",
       "    <tr>\n",
       "      <th>45207</th>\n",
       "      <td>71</td>\n",
       "      <td>retired</td>\n",
       "      <td>divorced</td>\n",
       "      <td>primary</td>\n",
       "      <td>no</td>\n",
       "      <td>1729</td>\n",
       "      <td>no</td>\n",
       "      <td>no</td>\n",
       "      <td>cellular</td>\n",
       "      <td>17</td>\n",
       "      <td>nov</td>\n",
       "      <td>456</td>\n",
       "      <td>2</td>\n",
       "      <td>-1</td>\n",
       "      <td>0</td>\n",
       "      <td>unknown</td>\n",
       "      <td>yes</td>\n",
       "    </tr>\n",
       "    <tr>\n",
       "      <th>45208</th>\n",
       "      <td>72</td>\n",
       "      <td>retired</td>\n",
       "      <td>married</td>\n",
       "      <td>secondary</td>\n",
       "      <td>no</td>\n",
       "      <td>5715</td>\n",
       "      <td>no</td>\n",
       "      <td>no</td>\n",
       "      <td>cellular</td>\n",
       "      <td>17</td>\n",
       "      <td>nov</td>\n",
       "      <td>1127</td>\n",
       "      <td>5</td>\n",
       "      <td>184</td>\n",
       "      <td>3</td>\n",
       "      <td>success</td>\n",
       "      <td>yes</td>\n",
       "    </tr>\n",
       "    <tr>\n",
       "      <th>45209</th>\n",
       "      <td>57</td>\n",
       "      <td>blue-collar</td>\n",
       "      <td>married</td>\n",
       "      <td>secondary</td>\n",
       "      <td>no</td>\n",
       "      <td>668</td>\n",
       "      <td>no</td>\n",
       "      <td>no</td>\n",
       "      <td>telephone</td>\n",
       "      <td>17</td>\n",
       "      <td>nov</td>\n",
       "      <td>508</td>\n",
       "      <td>4</td>\n",
       "      <td>-1</td>\n",
       "      <td>0</td>\n",
       "      <td>unknown</td>\n",
       "      <td>no</td>\n",
       "    </tr>\n",
       "    <tr>\n",
       "      <th>45210</th>\n",
       "      <td>37</td>\n",
       "      <td>entrepreneur</td>\n",
       "      <td>married</td>\n",
       "      <td>secondary</td>\n",
       "      <td>no</td>\n",
       "      <td>2971</td>\n",
       "      <td>no</td>\n",
       "      <td>no</td>\n",
       "      <td>cellular</td>\n",
       "      <td>17</td>\n",
       "      <td>nov</td>\n",
       "      <td>361</td>\n",
       "      <td>2</td>\n",
       "      <td>188</td>\n",
       "      <td>11</td>\n",
       "      <td>other</td>\n",
       "      <td>no</td>\n",
       "    </tr>\n",
       "  </tbody>\n",
       "</table>\n",
       "<p>45211 rows × 17 columns</p>\n",
       "</div>"
      ],
      "text/plain": [
       "       age           job   marital  education default  balance housing loan  \\\n",
       "0       58    management   married   tertiary      no     2143     yes   no   \n",
       "1       44    technician    single  secondary      no       29     yes   no   \n",
       "2       33  entrepreneur   married  secondary      no        2     yes  yes   \n",
       "3       47   blue-collar   married    unknown      no     1506     yes   no   \n",
       "4       33       unknown    single    unknown      no        1      no   no   \n",
       "...    ...           ...       ...        ...     ...      ...     ...  ...   \n",
       "45206   51    technician   married   tertiary      no      825      no   no   \n",
       "45207   71       retired  divorced    primary      no     1729      no   no   \n",
       "45208   72       retired   married  secondary      no     5715      no   no   \n",
       "45209   57   blue-collar   married  secondary      no      668      no   no   \n",
       "45210   37  entrepreneur   married  secondary      no     2971      no   no   \n",
       "\n",
       "         contact  day month  duration  campaign  pdays  previous poutcome    y  \n",
       "0        unknown    5   may       261         1     -1         0  unknown   no  \n",
       "1        unknown    5   may       151         1     -1         0  unknown   no  \n",
       "2        unknown    5   may        76         1     -1         0  unknown   no  \n",
       "3        unknown    5   may        92         1     -1         0  unknown   no  \n",
       "4        unknown    5   may       198         1     -1         0  unknown   no  \n",
       "...          ...  ...   ...       ...       ...    ...       ...      ...  ...  \n",
       "45206   cellular   17   nov       977         3     -1         0  unknown  yes  \n",
       "45207   cellular   17   nov       456         2     -1         0  unknown  yes  \n",
       "45208   cellular   17   nov      1127         5    184         3  success  yes  \n",
       "45209  telephone   17   nov       508         4     -1         0  unknown   no  \n",
       "45210   cellular   17   nov       361         2    188        11    other   no  \n",
       "\n",
       "[45211 rows x 17 columns]"
      ]
     },
     "execution_count": 5,
     "metadata": {},
     "output_type": "execute_result"
    }
   ],
   "source": [
    "bank = pd.read_csv('bank-full.csv',delimiter=';')\n",
    "bank"
   ]
  },
  {
   "cell_type": "code",
   "execution_count": 6,
   "id": "577a07f7",
   "metadata": {
    "ExecuteTime": {
     "end_time": "2022-11-09T15:02:57.261559Z",
     "start_time": "2022-11-09T15:02:57.153461Z"
    }
   },
   "outputs": [
    {
     "data": {
      "text/plain": [
       "age          0\n",
       "job          0\n",
       "marital      0\n",
       "education    0\n",
       "default      0\n",
       "balance      0\n",
       "housing      0\n",
       "loan         0\n",
       "contact      0\n",
       "day          0\n",
       "month        0\n",
       "duration     0\n",
       "campaign     0\n",
       "pdays        0\n",
       "previous     0\n",
       "poutcome     0\n",
       "y            0\n",
       "dtype: int64"
      ]
     },
     "execution_count": 6,
     "metadata": {},
     "output_type": "execute_result"
    }
   ],
   "source": [
    "bank.isnull().sum() "
   ]
  },
  {
   "cell_type": "code",
   "execution_count": 7,
   "id": "ca915b1b",
   "metadata": {
    "ExecuteTime": {
     "end_time": "2022-11-09T15:02:57.374644Z",
     "start_time": "2022-11-09T15:02:57.262650Z"
    }
   },
   "outputs": [
    {
     "name": "stdout",
     "output_type": "stream",
     "text": [
      "<class 'pandas.core.frame.DataFrame'>\n",
      "RangeIndex: 45211 entries, 0 to 45210\n",
      "Data columns (total 17 columns):\n",
      " #   Column     Non-Null Count  Dtype \n",
      "---  ------     --------------  ----- \n",
      " 0   age        45211 non-null  int64 \n",
      " 1   job        45211 non-null  object\n",
      " 2   marital    45211 non-null  object\n",
      " 3   education  45211 non-null  object\n",
      " 4   default    45211 non-null  object\n",
      " 5   balance    45211 non-null  int64 \n",
      " 6   housing    45211 non-null  object\n",
      " 7   loan       45211 non-null  object\n",
      " 8   contact    45211 non-null  object\n",
      " 9   day        45211 non-null  int64 \n",
      " 10  month      45211 non-null  object\n",
      " 11  duration   45211 non-null  int64 \n",
      " 12  campaign   45211 non-null  int64 \n",
      " 13  pdays      45211 non-null  int64 \n",
      " 14  previous   45211 non-null  int64 \n",
      " 15  poutcome   45211 non-null  object\n",
      " 16  y          45211 non-null  object\n",
      "dtypes: int64(7), object(10)\n",
      "memory usage: 5.9+ MB\n"
     ]
    }
   ],
   "source": [
    "bank.info()"
   ]
  },
  {
   "cell_type": "code",
   "execution_count": 8,
   "id": "8d9acecc",
   "metadata": {
    "ExecuteTime": {
     "end_time": "2022-11-09T15:02:57.390835Z",
     "start_time": "2022-11-09T15:02:57.374644Z"
    }
   },
   "outputs": [],
   "source": [
    "# some visualizations can add more according to the data and problem statement "
   ]
  },
  {
   "cell_type": "code",
   "execution_count": 9,
   "id": "147b4288",
   "metadata": {
    "ExecuteTime": {
     "end_time": "2022-11-09T15:02:57.673645Z",
     "start_time": "2022-11-09T15:02:57.390835Z"
    }
   },
   "outputs": [
    {
     "data": {
      "text/plain": [
       "<AxesSubplot:xlabel='y', ylabel='count'>"
      ]
     },
     "execution_count": 9,
     "metadata": {},
     "output_type": "execute_result"
    },
    {
     "data": {
      "image/png": "[encoded data removed]",
      "text/plain": [
       "<Figure size 432x288 with 1 Axes>"
      ]
     },
     "metadata": {
      "needs_background": "light"
     },
     "output_type": "display_data"
    }
   ],
   "source": [
    "sns.countplot(x=bank['y'])\n",
    "# majority of the clients has not opted for subscription of term deposit"
   ]
  },
  {
   "cell_type": "code",
   "execution_count": 10,
   "id": "f0652174",
   "metadata": {
    "ExecuteTime": {
     "end_time": "2022-11-09T15:02:58.055131Z",
     "start_time": "2022-11-09T15:02:57.673645Z"
    }
   },
   "outputs": [
    {
     "data": {
      "text/plain": [
       "Text(0, 0.5, 'Frequency of subscribtion')"
      ]
     },
     "execution_count": 10,
     "metadata": {},
     "output_type": "execute_result"
    },
    {
     "data": {
      "image/png": "[encoded data removed]",
      "text/plain": [
       "<Figure size 432x288 with 1 Axes>"
      ]
     },
     "metadata": {
      "needs_background": "light"
     },
     "output_type": "display_data"
    }
   ],
   "source": [
    "pd.crosstab(bank.job,bank.y).plot(kind='bar')\n",
    "plt.title('Subscribed Frequency for Job Title')\n",
    "plt.xlabel('Job')\n",
    "plt.ylabel('Frequency of subscribtion')\n"
   ]
  },
  {
   "cell_type": "code",
   "execution_count": 11,
   "id": "9e804946",
   "metadata": {
    "ExecuteTime": {
     "end_time": "2022-11-09T15:02:58.517111Z",
     "start_time": "2022-11-09T15:02:58.055131Z"
    }
   },
   "outputs": [
    {
     "data": {
      "text/plain": [
       "<AxesSubplot:>"
      ]
     },
     "execution_count": 11,
     "metadata": {},
     "output_type": "execute_result"
    },
    {
     "data": {
      "image/png": "[encoded data removed]",
      "text/plain": [
       "<Figure size 432x288 with 2 Axes>"
      ]
     },
     "metadata": {
      "needs_background": "light"
     },
     "output_type": "display_data"
    }
   ],
   "source": [
    "corr_matrix = bank.corr()\n",
    "sns.heatmap(corr_matrix,annot=True)"
   ]
  },
  {
   "cell_type": "code",
   "execution_count": 12,
   "id": "182cdebc",
   "metadata": {
    "ExecuteTime": {
     "end_time": "2022-11-09T15:02:58.532862Z",
     "start_time": "2022-11-09T15:02:58.517111Z"
    }
   },
   "outputs": [
    {
     "data": {
      "text/plain": [
       "Index(['age', 'job', 'marital', 'education', 'default', 'balance', 'housing',\n",
       "       'loan', 'contact', 'day', 'month', 'duration', 'campaign', 'pdays',\n",
       "       'previous', 'poutcome', 'y'],\n",
       "      dtype='object')"
      ]
     },
     "execution_count": 12,
     "metadata": {},
     "output_type": "execute_result"
    }
   ],
   "source": [
    "bank.keys()"
   ]
  },
  {
   "cell_type": "code",
   "execution_count": 13,
   "id": "f6f1103c",
   "metadata": {
    "ExecuteTime": {
     "end_time": "2022-11-09T15:02:58.549524Z",
     "start_time": "2022-11-09T15:02:58.532862Z"
    }
   },
   "outputs": [],
   "source": [
    "# trying to assign labels to all categorical data using label encoder "
   ]
  },
  {
   "cell_type": "code",
   "execution_count": 14,
   "id": "5bec9586",
   "metadata": {
    "ExecuteTime": {
     "end_time": "2022-11-09T15:02:58.565954Z",
     "start_time": "2022-11-09T15:02:58.549524Z"
    }
   },
   "outputs": [],
   "source": [
    "columns = [ 'job', 'marital', 'education', 'default','housing','loan', 'contact', 'month', 'campaign', 'poutcome', 'y']"
   ]
  },
  {
   "cell_type": "code",
   "execution_count": 15,
   "id": "f36022a1",
   "metadata": {
    "ExecuteTime": {
     "end_time": "2022-11-09T15:02:58.734139Z",
     "start_time": "2022-11-09T15:02:58.565954Z"
    }
   },
   "outputs": [],
   "source": [
    "for i in columns:\n",
    "    bank[i] = LabelEncoder().fit_transform(bank[i]) # here i am using for loop"
   ]
  },
  {
   "cell_type": "code",
   "execution_count": 16,
   "id": "ef3b0844",
   "metadata": {
    "ExecuteTime": {
     "end_time": "2022-11-09T15:02:58.795519Z",
     "start_time": "2022-11-09T15:02:58.737938Z"
    }
   },
   "outputs": [],
   "source": [
    "# let's standardize the data \n",
    "std_bank = StandardScaler().fit_transform(bank.iloc[:,:15])"
   ]
  },
  {
   "cell_type": "code",
   "execution_count": 17,
   "id": "1a20938e",
   "metadata": {
    "ExecuteTime": {
     "end_time": "2022-11-09T15:02:58.819945Z",
     "start_time": "2022-11-09T15:02:58.795519Z"
    }
   },
   "outputs": [],
   "source": [
    "# spltiiting into x and y \n",
    "x = std_bank\n",
    "y =bank[['y']]"
   ]
  },
  {
   "cell_type": "code",
   "execution_count": 18,
   "id": "2b3c6d63",
   "metadata": {
    "ExecuteTime": {
     "end_time": "2022-11-09T15:02:58.860344Z",
     "start_time": "2022-11-09T15:02:58.819945Z"
    }
   },
   "outputs": [],
   "source": [
    "# train test splitting \n",
    "x_train,x_test,y_train,y_test = train_test_split(x,y ,test_size=0.3,random_state=40)"
   ]
  },
  {
   "cell_type": "code",
   "execution_count": 19,
   "id": "f3acd509",
   "metadata": {
    "ExecuteTime": {
     "end_time": "2022-11-09T15:02:58.876424Z",
     "start_time": "2022-11-09T15:02:58.860344Z"
    }
   },
   "outputs": [],
   "source": [
    "# modelling"
   ]
  },
  {
   "cell_type": "code",
   "execution_count": 20,
   "id": "f734d7db",
   "metadata": {
    "ExecuteTime": {
     "end_time": "2022-11-09T15:02:58.989308Z",
     "start_time": "2022-11-09T15:02:58.876424Z"
    }
   },
   "outputs": [
    {
     "name": "stderr",
     "output_type": "stream",
     "text": [
      "C:\\Users\\Rohith Challam\\anaconda3\\lib\\site-packages\\sklearn\\utils\\validation.py:993: DataConversionWarning: A column-vector y was passed when a 1d array was expected. Please change the shape of y to (n_samples, ), for example using ravel().\n",
      "  y = column_or_1d(y, warn=True)\n"
     ]
    }
   ],
   "source": [
    "model =LogisticRegression().fit(x_train,y_train)"
   ]
  },
  {
   "cell_type": "code",
   "execution_count": 21,
   "id": "bf21d3c4",
   "metadata": {
    "ExecuteTime": {
     "end_time": "2022-11-09T15:02:59.005138Z",
     "start_time": "2022-11-09T15:02:58.989308Z"
    }
   },
   "outputs": [
    {
     "data": {
      "text/plain": [
       "array([-2.7059621])"
      ]
     },
     "execution_count": 21,
     "metadata": {},
     "output_type": "execute_result"
    }
   ],
   "source": [
    "model.intercept_"
   ]
  },
  {
   "cell_type": "code",
   "execution_count": 22,
   "id": "8bb85636",
   "metadata": {
    "ExecuteTime": {
     "end_time": "2022-11-09T15:02:59.021143Z",
     "start_time": "2022-11-09T15:02:59.005138Z"
    }
   },
   "outputs": [
    {
     "data": {
      "text/plain": [
       "array([[ 0.08488967,  0.01453355,  0.14339228,  0.14556697, -0.03688205,\n",
       "         0.05954257, -0.51844826, -0.28442491, -0.57186545, -0.05122645,\n",
       "         0.11336509,  1.0404153 , -0.36554147,  0.20238276,  0.15276121]])"
      ]
     },
     "execution_count": 22,
     "metadata": {},
     "output_type": "execute_result"
    }
   ],
   "source": [
    "model.coef_"
   ]
  },
  {
   "cell_type": "code",
   "execution_count": 23,
   "id": "01a7b5bc",
   "metadata": {
    "ExecuteTime": {
     "end_time": "2022-11-09T15:02:59.037561Z",
     "start_time": "2022-11-09T15:02:59.021143Z"
    }
   },
   "outputs": [],
   "source": [
    "y_pred_train = model.predict(x_train)"
   ]
  },
  {
   "cell_type": "code",
   "execution_count": null,
   "id": "0c795af6",
   "metadata": {
    "ExecuteTime": {
     "end_time": "2022-10-31T10:45:06.940619Z",
     "start_time": "2022-10-31T10:45:06.915887Z"
    }
   },
   "outputs": [],
   "source": []
  },
  {
   "cell_type": "code",
   "execution_count": 24,
   "id": "133281d1",
   "metadata": {
    "ExecuteTime": {
     "end_time": "2022-11-09T15:02:59.054034Z",
     "start_time": "2022-11-09T15:02:59.037561Z"
    }
   },
   "outputs": [],
   "source": [
    "# predictions for x_test"
   ]
  },
  {
   "cell_type": "code",
   "execution_count": 25,
   "id": "63b227cf",
   "metadata": {
    "ExecuteTime": {
     "end_time": "2022-11-09T15:02:59.070837Z",
     "start_time": "2022-11-09T15:02:59.054034Z"
    }
   },
   "outputs": [
    {
     "data": {
      "text/plain": [
       "array([0, 0, 0, ..., 0, 0, 0])"
      ]
     },
     "execution_count": 25,
     "metadata": {},
     "output_type": "execute_result"
    }
   ],
   "source": [
    "y_pred_test = model.predict(x_test)\n",
    "y_pred_test"
   ]
  },
  {
   "cell_type": "code",
   "execution_count": null,
   "id": "ad2b5f3e",
   "metadata": {
    "ExecuteTime": {
     "end_time": "2022-10-31T10:45:24.709341Z",
     "start_time": "2022-10-31T10:45:24.685094Z"
    }
   },
   "outputs": [],
   "source": []
  },
  {
   "cell_type": "code",
   "execution_count": 26,
   "id": "fc0430d2",
   "metadata": {
    "ExecuteTime": {
     "end_time": "2022-11-09T15:02:59.078997Z",
     "start_time": "2022-11-09T15:02:59.070837Z"
    }
   },
   "outputs": [],
   "source": [
    "# confusion matrix "
   ]
  },
  {
   "cell_type": "code",
   "execution_count": 27,
   "id": "89ce72bc",
   "metadata": {
    "ExecuteTime": {
     "end_time": "2022-11-09T15:02:59.256437Z",
     "start_time": "2022-11-09T15:02:59.078997Z"
    }
   },
   "outputs": [
    {
     "data": {
      "text/plain": [
       "<AxesSubplot:>"
      ]
     },
     "execution_count": 27,
     "metadata": {},
     "output_type": "execute_result"
    },
    {
     "data": {
      "image/png": "[encoded data removed]",
      "text/plain": [
       "<Figure size 432x288 with 2 Axes>"
      ]
     },
     "metadata": {
      "needs_background": "light"
     },
     "output_type": "display_data"
    }
   ],
   "source": [
    "confusion_matrix_train = confusion_matrix(y_pred_train,y_train)\n",
    "sns.heatmap(confusion_matrix_train ,annot=True)"
   ]
  },
  {
   "cell_type": "code",
   "execution_count": 28,
   "id": "55a1f9f2",
   "metadata": {
    "ExecuteTime": {
     "end_time": "2022-11-09T15:02:59.425202Z",
     "start_time": "2022-11-09T15:02:59.256437Z"
    }
   },
   "outputs": [
    {
     "data": {
      "text/plain": [
       "<AxesSubplot:>"
      ]
     },
     "execution_count": 28,
     "metadata": {},
     "output_type": "execute_result"
    },
    {
     "data": {
      "image/png": "[encoded data removed]",
      "text/plain": [
       "<Figure size 432x288 with 2 Axes>"
      ]
     },
     "metadata": {
      "needs_background": "light"
     },
     "output_type": "display_data"
    }
   ],
   "source": [
    "confusion_matrix_test = confusion_matrix(y_pred_test,y_test)\n",
    "sns.heatmap(confusion_matrix_test,annot=True)"
   ]
  },
  {
   "cell_type": "code",
   "execution_count": 29,
   "id": "a3c2ea99",
   "metadata": {
    "ExecuteTime": {
     "end_time": "2022-11-09T15:02:59.440841Z",
     "start_time": "2022-11-09T15:02:59.425202Z"
    }
   },
   "outputs": [],
   "source": [
    "# classification_reports"
   ]
  },
  {
   "cell_type": "code",
   "execution_count": 30,
   "id": "82449e3d",
   "metadata": {
    "ExecuteTime": {
     "end_time": "2022-11-09T15:02:59.521107Z",
     "start_time": "2022-11-09T15:02:59.440841Z"
    }
   },
   "outputs": [
    {
     "data": {
      "text/plain": [
       "'              precision    recall  f1-score   support\\n\\n           0       0.90      0.98      0.94     27957\\n           1       0.60      0.21      0.32      3690\\n\\n    accuracy                           0.89     31647\\n   macro avg       0.75      0.60      0.63     31647\\nweighted avg       0.87      0.89      0.87     31647\\n'"
      ]
     },
     "execution_count": 30,
     "metadata": {},
     "output_type": "execute_result"
    }
   ],
   "source": [
    "classification_report_train = classification_report(y_train,y_pred_train)\n",
    "classification_report_train"
   ]
  },
  {
   "cell_type": "code",
   "execution_count": 31,
   "id": "bd5029be",
   "metadata": {
    "ExecuteTime": {
     "end_time": "2022-11-09T15:02:59.585667Z",
     "start_time": "2022-11-09T15:02:59.521107Z"
    }
   },
   "outputs": [
    {
     "data": {
      "text/plain": [
       "'              precision    recall  f1-score   support\\n\\n           0       0.90      0.98      0.94     11965\\n           1       0.56      0.22      0.31      1599\\n\\n    accuracy                           0.89     13564\\n   macro avg       0.73      0.60      0.63     13564\\nweighted avg       0.86      0.89      0.86     13564\\n'"
      ]
     },
     "execution_count": 31,
     "metadata": {},
     "output_type": "execute_result"
    }
   ],
   "source": [
    "classification_report_test = classification_report(y_test,y_pred_test)\n",
    "classification_report_test"
   ]
  },
  {
   "cell_type": "code",
   "execution_count": 32,
   "id": "0b6891da",
   "metadata": {
    "ExecuteTime": {
     "end_time": "2022-11-09T15:02:59.609867Z",
     "start_time": "2022-11-09T15:02:59.585667Z"
    }
   },
   "outputs": [
    {
     "data": {
      "text/plain": [
       "89.15853003444244"
      ]
     },
     "execution_count": 32,
     "metadata": {},
     "output_type": "execute_result"
    }
   ],
   "source": [
    "# checking train_accuracy \n",
    "accuracy_train = accuracy_score(y_train,y_pred_train)*100\n",
    "accuracy_train"
   ]
  },
  {
   "cell_type": "code",
   "execution_count": 33,
   "id": "6ed23230",
   "metadata": {
    "ExecuteTime": {
     "end_time": "2022-11-09T15:02:59.626175Z",
     "start_time": "2022-11-09T15:02:59.612583Z"
    }
   },
   "outputs": [
    {
     "data": {
      "text/plain": [
       "88.78649365968741"
      ]
     },
     "execution_count": 33,
     "metadata": {},
     "output_type": "execute_result"
    }
   ],
   "source": [
    "# checking test_accuracy\n",
    "accuracy_test = accuracy_score(y_test,y_pred_test)*100\n",
    "accuracy_test\n",
    "# train and test accuracy are nearly same "
   ]
  },
  {
   "cell_type": "code",
   "execution_count": null,
   "id": "a68c082d",
   "metadata": {},
   "outputs": [],
   "source": [
    "# for ROC plotting "
   ]
  },
  {
   "cell_type": "code",
   "execution_count": 38,
   "id": "f500137f",
   "metadata": {
    "ExecuteTime": {
     "end_time": "2022-11-09T15:09:37.662778Z",
     "start_time": "2022-11-09T15:09:37.630852Z"
    }
   },
   "outputs": [
    {
     "data": {
      "text/plain": [
       "0.5977845768370764"
      ]
     },
     "execution_count": 38,
     "metadata": {},
     "output_type": "execute_result"
    }
   ],
   "source": [
    "auc_score_train=roc_auc_score(y_train,y_pred_train)\n",
    "auc_score_train"
   ]
  },
  {
   "cell_type": "code",
   "execution_count": 40,
   "id": "9b6d27dd",
   "metadata": {
    "ExecuteTime": {
     "end_time": "2022-11-09T15:10:18.321858Z",
     "start_time": "2022-11-09T15:10:18.295179Z"
    }
   },
   "outputs": [
    {
     "data": {
      "text/plain": [
       "0.5964514752351227"
      ]
     },
     "execution_count": 40,
     "metadata": {},
     "output_type": "execute_result"
    }
   ],
   "source": [
    "auc_score_test=roc_auc_score(y_test,y_pred_test)\n",
    "auc_score_test"
   ]
  },
  {
   "cell_type": "code",
   "execution_count": null,
   "id": "28813773",
   "metadata": {},
   "outputs": [],
   "source": [
    "# ROC curve  for train data "
   ]
  },
  {
   "cell_type": "code",
   "execution_count": 42,
   "id": "d8cd70a4",
   "metadata": {
    "ExecuteTime": {
     "end_time": "2022-11-09T15:10:50.684257Z",
     "start_time": "2022-11-09T15:10:50.488178Z"
    }
   },
   "outputs": [
    {
     "data": {
      "image/png": "[encoded data removed]",
      "text/plain": [
       "<Figure size 432x288 with 1 Axes>"
      ]
     },
     "metadata": {
      "needs_background": "light"
     },
     "output_type": "display_data"
    }
   ],
   "source": [
    "fpr, tpr, thresholds = roc_curve(y_train,model.predict_proba(x_train)[:,1]) \n",
    "plt.plot(fpr, tpr, label='Logistic Regression (area=%0.2f)'% auc_score_train)\n",
    "plt.plot([0, 1], [0, 1],'r--')\n",
    "plt.xlim([0.0, 1.0])\n",
    "plt.ylim([0.0, 1.05])\n",
    "plt.xlabel('False Positive Rate')\n",
    "plt.ylabel('True Positive Rate')\n",
    "plt.title('Receiver operating characteristic')\n",
    "plt.legend(loc=\"lower right\")\n",
    "plt.show()   "
   ]
  },
  {
   "cell_type": "code",
   "execution_count": null,
   "id": "ec8feff8",
   "metadata": {},
   "outputs": [],
   "source": [
    "# ROC curve for test data "
   ]
  },
  {
   "cell_type": "code",
   "execution_count": 44,
   "id": "d50cfaea",
   "metadata": {
    "ExecuteTime": {
     "end_time": "2022-11-09T15:13:48.154134Z",
     "start_time": "2022-11-09T15:13:47.966076Z"
    }
   },
   "outputs": [
    {
     "data": {
      "image/png": "[encoded data removed]",
      "text/plain": [
       "<Figure size 432x288 with 1 Axes>"
      ]
     },
     "metadata": {
      "needs_background": "light"
     },
     "output_type": "display_data"
    }
   ],
   "source": [
    "fpr, tpr, thresholds = roc_curve(y_test,model.predict_proba(x_test)[:,1]) \n",
    "plt.plot(fpr, tpr, label='Logistic Regression (area=%0.2f)'% auc_score_test)\n",
    "plt.plot([0, 1], [0, 1],'r--')\n",
    "plt.xlim([0.0, 1.0])\n",
    "plt.ylim([0.0, 1.05])\n",
    "plt.xlabel('False Positive Rate')\n",
    "plt.ylabel('True Positive Rate')\n",
    "plt.title('Receiver operating characteristic')\n",
    "plt.legend(loc=\"lower right\")\n",
    "plt.show()   "
   ]
  },
  {
   "cell_type": "code",
   "execution_count": 45,
   "id": "31c1d8f7",
   "metadata": {
    "ExecuteTime": {
     "end_time": "2022-11-09T15:14:32.783235Z",
     "start_time": "2022-11-09T15:14:32.768415Z"
    }
   },
   "outputs": [
    {
     "data": {
      "text/plain": [
       "array([0.00000000e+00, 8.35770999e-05, 8.35770999e-05, ...,\n",
       "       9.91224405e-01, 9.91224405e-01, 1.00000000e+00])"
      ]
     },
     "execution_count": 45,
     "metadata": {},
     "output_type": "execute_result"
    }
   ],
   "source": [
    "fpr"
   ]
  },
  {
   "cell_type": "code",
   "execution_count": 46,
   "id": "9aa1ceef",
   "metadata": {
    "ExecuteTime": {
     "end_time": "2022-11-09T15:14:39.800737Z",
     "start_time": "2022-11-09T15:14:39.779090Z"
    }
   },
   "outputs": [
    {
     "data": {
      "text/plain": [
       "array([0.00000000e+00, 0.00000000e+00, 6.25390869e-04, ...,\n",
       "       9.99374609e-01, 1.00000000e+00, 1.00000000e+00])"
      ]
     },
     "execution_count": 46,
     "metadata": {},
     "output_type": "execute_result"
    }
   ],
   "source": [
    "tpr"
   ]
  },
  {
   "cell_type": "code",
   "execution_count": 49,
   "id": "a3e801df",
   "metadata": {
    "ExecuteTime": {
     "end_time": "2022-11-09T15:16:28.215678Z",
     "start_time": "2022-11-09T15:16:28.192043Z"
    }
   },
   "outputs": [
    {
     "name": "stdout",
     "output_type": "stream",
     "text": [
      "Best Threshold=0.120000\n"
     ]
    }
   ],
   "source": [
    "k = tpr - fpr\n",
    "x = argmax(k)\n",
    "threshold = thresholds[x]\n",
    "print('Best Threshold=%f' % (threshold.round(2)))"
   ]
  },
  {
   "cell_type": "code",
   "execution_count": null,
   "id": "9ba557da",
   "metadata": {},
   "outputs": [],
   "source": []
  }
 ],
 "metadata": {
  "kernelspec": {
   "display_name": "Python 3 (ipykernel)",
   "language": "python",
   "name": "python3"
  },
  "language_info": {
   "codemirror_mode": {
    "name": "ipython",
    "version": 3
   },
   "file_extension": ".py",
   "mimetype": "text/x-python",
   "name": "python",
   "nbconvert_exporter": "python",
   "pygments_lexer": "ipython3",
   "version": "3.9.12"
  }
 },
 "nbformat": 4,
 "nbformat_minor": 5
}
