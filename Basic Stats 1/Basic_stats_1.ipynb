{
 "cells": [
  {
   "cell_type": "markdown",
   "id": "d4310faf",
   "metadata": {},
   "source": [
    "# Q7:"
   ]
  },
  {
   "cell_type": "code",
   "execution_count": 165,
   "id": "36c4612d",
   "metadata": {
    "ExecuteTime": {
     "end_time": "2022-11-14T07:26:14.283114Z",
     "start_time": "2022-11-14T07:26:14.259164Z"
    }
   },
   "outputs": [],
   "source": [
    "import pandas as pd   \n",
    "import numpy as np\n",
    "import math\n",
    "import statistics\n",
    "import matplotlib.pyplot as plt\n",
    "import seaborn as sns"
   ]
  },
  {
   "cell_type": "code",
   "execution_count": 166,
   "id": "1d6c00ad",
   "metadata": {
    "ExecuteTime": {
     "end_time": "2022-11-14T07:26:14.332605Z",
     "start_time": "2022-11-14T07:26:14.285990Z"
    }
   },
   "outputs": [
    {
     "data": {
      "text/html": [
       "<div>\n",
       "<style scoped>\n",
       "    .dataframe tbody tr th:only-of-type {\n",
       "        vertical-align: middle;\n",
       "    }\n",
       "\n",
       "    .dataframe tbody tr th {\n",
       "        vertical-align: top;\n",
       "    }\n",
       "\n",
       "    .dataframe thead th {\n",
       "        text-align: right;\n",
       "    }\n",
       "</style>\n",
       "<table border=\"1\" class=\"dataframe\">\n",
       "  <thead>\n",
       "    <tr style=\"text-align: right;\">\n",
       "      <th></th>\n",
       "      <th>Points</th>\n",
       "      <th>Score</th>\n",
       "      <th>Weigh</th>\n",
       "    </tr>\n",
       "  </thead>\n",
       "  <tbody>\n",
       "    <tr>\n",
       "      <th>0</th>\n",
       "      <td>3.90</td>\n",
       "      <td>2.620</td>\n",
       "      <td>16.46</td>\n",
       "    </tr>\n",
       "    <tr>\n",
       "      <th>1</th>\n",
       "      <td>3.90</td>\n",
       "      <td>2.875</td>\n",
       "      <td>17.02</td>\n",
       "    </tr>\n",
       "    <tr>\n",
       "      <th>2</th>\n",
       "      <td>3.85</td>\n",
       "      <td>2.320</td>\n",
       "      <td>18.61</td>\n",
       "    </tr>\n",
       "    <tr>\n",
       "      <th>3</th>\n",
       "      <td>3.08</td>\n",
       "      <td>3.215</td>\n",
       "      <td>19.44</td>\n",
       "    </tr>\n",
       "    <tr>\n",
       "      <th>4</th>\n",
       "      <td>3.15</td>\n",
       "      <td>3.440</td>\n",
       "      <td>17.02</td>\n",
       "    </tr>\n",
       "    <tr>\n",
       "      <th>5</th>\n",
       "      <td>2.76</td>\n",
       "      <td>3.460</td>\n",
       "      <td>20.22</td>\n",
       "    </tr>\n",
       "    <tr>\n",
       "      <th>6</th>\n",
       "      <td>3.21</td>\n",
       "      <td>3.570</td>\n",
       "      <td>15.84</td>\n",
       "    </tr>\n",
       "    <tr>\n",
       "      <th>7</th>\n",
       "      <td>3.69</td>\n",
       "      <td>3.190</td>\n",
       "      <td>20.00</td>\n",
       "    </tr>\n",
       "    <tr>\n",
       "      <th>8</th>\n",
       "      <td>3.92</td>\n",
       "      <td>3.150</td>\n",
       "      <td>22.90</td>\n",
       "    </tr>\n",
       "    <tr>\n",
       "      <th>9</th>\n",
       "      <td>3.92</td>\n",
       "      <td>3.440</td>\n",
       "      <td>18.30</td>\n",
       "    </tr>\n",
       "    <tr>\n",
       "      <th>10</th>\n",
       "      <td>3.92</td>\n",
       "      <td>3.440</td>\n",
       "      <td>18.90</td>\n",
       "    </tr>\n",
       "    <tr>\n",
       "      <th>11</th>\n",
       "      <td>3.07</td>\n",
       "      <td>4.070</td>\n",
       "      <td>17.40</td>\n",
       "    </tr>\n",
       "    <tr>\n",
       "      <th>12</th>\n",
       "      <td>3.07</td>\n",
       "      <td>3.730</td>\n",
       "      <td>17.60</td>\n",
       "    </tr>\n",
       "    <tr>\n",
       "      <th>13</th>\n",
       "      <td>3.07</td>\n",
       "      <td>3.780</td>\n",
       "      <td>18.00</td>\n",
       "    </tr>\n",
       "    <tr>\n",
       "      <th>14</th>\n",
       "      <td>2.93</td>\n",
       "      <td>5.250</td>\n",
       "      <td>17.98</td>\n",
       "    </tr>\n",
       "    <tr>\n",
       "      <th>15</th>\n",
       "      <td>3.00</td>\n",
       "      <td>5.424</td>\n",
       "      <td>17.82</td>\n",
       "    </tr>\n",
       "    <tr>\n",
       "      <th>16</th>\n",
       "      <td>3.23</td>\n",
       "      <td>5.345</td>\n",
       "      <td>17.42</td>\n",
       "    </tr>\n",
       "    <tr>\n",
       "      <th>17</th>\n",
       "      <td>4.08</td>\n",
       "      <td>2.200</td>\n",
       "      <td>19.47</td>\n",
       "    </tr>\n",
       "    <tr>\n",
       "      <th>18</th>\n",
       "      <td>4.93</td>\n",
       "      <td>1.615</td>\n",
       "      <td>18.52</td>\n",
       "    </tr>\n",
       "    <tr>\n",
       "      <th>19</th>\n",
       "      <td>4.22</td>\n",
       "      <td>1.835</td>\n",
       "      <td>19.90</td>\n",
       "    </tr>\n",
       "    <tr>\n",
       "      <th>20</th>\n",
       "      <td>3.70</td>\n",
       "      <td>2.465</td>\n",
       "      <td>20.01</td>\n",
       "    </tr>\n",
       "    <tr>\n",
       "      <th>21</th>\n",
       "      <td>2.76</td>\n",
       "      <td>3.520</td>\n",
       "      <td>16.87</td>\n",
       "    </tr>\n",
       "    <tr>\n",
       "      <th>22</th>\n",
       "      <td>3.15</td>\n",
       "      <td>3.435</td>\n",
       "      <td>17.30</td>\n",
       "    </tr>\n",
       "    <tr>\n",
       "      <th>23</th>\n",
       "      <td>3.73</td>\n",
       "      <td>3.840</td>\n",
       "      <td>15.41</td>\n",
       "    </tr>\n",
       "    <tr>\n",
       "      <th>24</th>\n",
       "      <td>3.08</td>\n",
       "      <td>3.845</td>\n",
       "      <td>17.05</td>\n",
       "    </tr>\n",
       "    <tr>\n",
       "      <th>25</th>\n",
       "      <td>4.08</td>\n",
       "      <td>1.935</td>\n",
       "      <td>18.90</td>\n",
       "    </tr>\n",
       "    <tr>\n",
       "      <th>26</th>\n",
       "      <td>4.43</td>\n",
       "      <td>2.140</td>\n",
       "      <td>16.70</td>\n",
       "    </tr>\n",
       "    <tr>\n",
       "      <th>27</th>\n",
       "      <td>3.77</td>\n",
       "      <td>1.513</td>\n",
       "      <td>16.90</td>\n",
       "    </tr>\n",
       "    <tr>\n",
       "      <th>28</th>\n",
       "      <td>4.22</td>\n",
       "      <td>3.170</td>\n",
       "      <td>14.50</td>\n",
       "    </tr>\n",
       "    <tr>\n",
       "      <th>29</th>\n",
       "      <td>3.62</td>\n",
       "      <td>2.770</td>\n",
       "      <td>15.50</td>\n",
       "    </tr>\n",
       "    <tr>\n",
       "      <th>30</th>\n",
       "      <td>3.54</td>\n",
       "      <td>3.570</td>\n",
       "      <td>14.60</td>\n",
       "    </tr>\n",
       "    <tr>\n",
       "      <th>31</th>\n",
       "      <td>4.11</td>\n",
       "      <td>2.780</td>\n",
       "      <td>18.60</td>\n",
       "    </tr>\n",
       "  </tbody>\n",
       "</table>\n",
       "</div>"
      ],
      "text/plain": [
       "    Points  Score  Weigh\n",
       "0     3.90  2.620  16.46\n",
       "1     3.90  2.875  17.02\n",
       "2     3.85  2.320  18.61\n",
       "3     3.08  3.215  19.44\n",
       "4     3.15  3.440  17.02\n",
       "5     2.76  3.460  20.22\n",
       "6     3.21  3.570  15.84\n",
       "7     3.69  3.190  20.00\n",
       "8     3.92  3.150  22.90\n",
       "9     3.92  3.440  18.30\n",
       "10    3.92  3.440  18.90\n",
       "11    3.07  4.070  17.40\n",
       "12    3.07  3.730  17.60\n",
       "13    3.07  3.780  18.00\n",
       "14    2.93  5.250  17.98\n",
       "15    3.00  5.424  17.82\n",
       "16    3.23  5.345  17.42\n",
       "17    4.08  2.200  19.47\n",
       "18    4.93  1.615  18.52\n",
       "19    4.22  1.835  19.90\n",
       "20    3.70  2.465  20.01\n",
       "21    2.76  3.520  16.87\n",
       "22    3.15  3.435  17.30\n",
       "23    3.73  3.840  15.41\n",
       "24    3.08  3.845  17.05\n",
       "25    4.08  1.935  18.90\n",
       "26    4.43  2.140  16.70\n",
       "27    3.77  1.513  16.90\n",
       "28    4.22  3.170  14.50\n",
       "29    3.62  2.770  15.50\n",
       "30    3.54  3.570  14.60\n",
       "31    4.11  2.780  18.60"
      ]
     },
     "execution_count": 166,
     "metadata": {},
     "output_type": "execute_result"
    }
   ],
   "source": [
    "Q7 = pd.read_csv('Q7.csv')\n",
    "Q7 = Q7.iloc[:,1:]\n",
    "Q7"
   ]
  },
  {
   "cell_type": "code",
   "execution_count": 167,
   "id": "484624de",
   "metadata": {
    "ExecuteTime": {
     "end_time": "2022-11-14T07:26:14.357007Z",
     "start_time": "2022-11-14T07:26:14.332605Z"
    }
   },
   "outputs": [
    {
     "data": {
      "text/plain": [
       "Points    0\n",
       "Score     0\n",
       "Weigh     0\n",
       "dtype: int64"
      ]
     },
     "execution_count": 167,
     "metadata": {},
     "output_type": "execute_result"
    }
   ],
   "source": [
    "Q7.isna().sum()"
   ]
  },
  {
   "cell_type": "code",
   "execution_count": 168,
   "id": "fc09edc0",
   "metadata": {
    "ExecuteTime": {
     "end_time": "2022-11-14T07:26:14.381297Z",
     "start_time": "2022-11-14T07:26:14.357007Z"
    }
   },
   "outputs": [
    {
     "name": "stdout",
     "output_type": "stream",
     "text": [
      "<class 'pandas.core.frame.DataFrame'>\n",
      "RangeIndex: 32 entries, 0 to 31\n",
      "Data columns (total 3 columns):\n",
      " #   Column  Non-Null Count  Dtype  \n",
      "---  ------  --------------  -----  \n",
      " 0   Points  32 non-null     float64\n",
      " 1   Score   32 non-null     float64\n",
      " 2   Weigh   32 non-null     float64\n",
      "dtypes: float64(3)\n",
      "memory usage: 896.0 bytes\n"
     ]
    }
   ],
   "source": [
    "Q7.info()"
   ]
  },
  {
   "cell_type": "code",
   "execution_count": 169,
   "id": "33ac4105",
   "metadata": {
    "ExecuteTime": {
     "end_time": "2022-11-14T07:26:14.414209Z",
     "start_time": "2022-11-14T07:26:14.381297Z"
    }
   },
   "outputs": [
    {
     "data": {
      "text/html": [
       "<div>\n",
       "<style scoped>\n",
       "    .dataframe tbody tr th:only-of-type {\n",
       "        vertical-align: middle;\n",
       "    }\n",
       "\n",
       "    .dataframe tbody tr th {\n",
       "        vertical-align: top;\n",
       "    }\n",
       "\n",
       "    .dataframe thead th {\n",
       "        text-align: right;\n",
       "    }\n",
       "</style>\n",
       "<table border=\"1\" class=\"dataframe\">\n",
       "  <thead>\n",
       "    <tr style=\"text-align: right;\">\n",
       "      <th></th>\n",
       "      <th>count</th>\n",
       "      <th>mean</th>\n",
       "      <th>std</th>\n",
       "      <th>min</th>\n",
       "      <th>25%</th>\n",
       "      <th>50%</th>\n",
       "      <th>75%</th>\n",
       "      <th>max</th>\n",
       "    </tr>\n",
       "  </thead>\n",
       "  <tbody>\n",
       "    <tr>\n",
       "      <th>Points</th>\n",
       "      <td>32.0</td>\n",
       "      <td>3.596563</td>\n",
       "      <td>0.534679</td>\n",
       "      <td>2.760</td>\n",
       "      <td>3.08000</td>\n",
       "      <td>3.695</td>\n",
       "      <td>3.92</td>\n",
       "      <td>4.930</td>\n",
       "    </tr>\n",
       "    <tr>\n",
       "      <th>Score</th>\n",
       "      <td>32.0</td>\n",
       "      <td>3.217250</td>\n",
       "      <td>0.978457</td>\n",
       "      <td>1.513</td>\n",
       "      <td>2.58125</td>\n",
       "      <td>3.325</td>\n",
       "      <td>3.61</td>\n",
       "      <td>5.424</td>\n",
       "    </tr>\n",
       "    <tr>\n",
       "      <th>Weigh</th>\n",
       "      <td>32.0</td>\n",
       "      <td>17.848750</td>\n",
       "      <td>1.786943</td>\n",
       "      <td>14.500</td>\n",
       "      <td>16.89250</td>\n",
       "      <td>17.710</td>\n",
       "      <td>18.90</td>\n",
       "      <td>22.900</td>\n",
       "    </tr>\n",
       "  </tbody>\n",
       "</table>\n",
       "</div>"
      ],
      "text/plain": [
       "        count       mean       std     min       25%     50%    75%     max\n",
       "Points   32.0   3.596563  0.534679   2.760   3.08000   3.695   3.92   4.930\n",
       "Score    32.0   3.217250  0.978457   1.513   2.58125   3.325   3.61   5.424\n",
       "Weigh    32.0  17.848750  1.786943  14.500  16.89250  17.710  18.90  22.900"
      ]
     },
     "execution_count": 169,
     "metadata": {},
     "output_type": "execute_result"
    }
   ],
   "source": [
    "Q7.describe().T"
   ]
  },
  {
   "cell_type": "code",
   "execution_count": 170,
   "id": "41a09496",
   "metadata": {
    "ExecuteTime": {
     "end_time": "2022-11-14T07:26:14.430340Z",
     "start_time": "2022-11-14T07:26:14.414209Z"
    }
   },
   "outputs": [],
   "source": [
    "# using describe we got mean median(50%) of the points score and weigh "
   ]
  },
  {
   "cell_type": "markdown",
   "id": "065c6d9e",
   "metadata": {},
   "source": [
    "# mode "
   ]
  },
  {
   "cell_type": "code",
   "execution_count": 171,
   "id": "d188d5fb",
   "metadata": {
    "ExecuteTime": {
     "end_time": "2022-11-14T07:26:14.446612Z",
     "start_time": "2022-11-14T07:26:14.430340Z"
    }
   },
   "outputs": [
    {
     "data": {
      "text/plain": [
       "3.92"
      ]
     },
     "execution_count": 171,
     "metadata": {},
     "output_type": "execute_result"
    }
   ],
   "source": [
    "mode_points = statistics.mode(Q7['Points'])\n",
    "mode_points"
   ]
  },
  {
   "cell_type": "code",
   "execution_count": 172,
   "id": "31b7be17",
   "metadata": {
    "ExecuteTime": {
     "end_time": "2022-11-14T07:26:14.471476Z",
     "start_time": "2022-11-14T07:26:14.446612Z"
    }
   },
   "outputs": [
    {
     "data": {
      "text/plain": [
       "3.44"
      ]
     },
     "execution_count": 172,
     "metadata": {},
     "output_type": "execute_result"
    }
   ],
   "source": [
    "mode_score = statistics.mode(Q7['Score'])\n",
    "mode_score"
   ]
  },
  {
   "cell_type": "code",
   "execution_count": 173,
   "id": "9a9187d8",
   "metadata": {
    "ExecuteTime": {
     "end_time": "2022-11-14T07:26:14.487737Z",
     "start_time": "2022-11-14T07:26:14.471476Z"
    }
   },
   "outputs": [
    {
     "data": {
      "text/plain": [
       "17.02"
      ]
     },
     "execution_count": 173,
     "metadata": {},
     "output_type": "execute_result"
    }
   ],
   "source": [
    "mode_weigh = statistics.mode(Q7['Weigh'])\n",
    "mode_weigh"
   ]
  },
  {
   "cell_type": "markdown",
   "id": "9fba38c7",
   "metadata": {
    "ExecuteTime": {
     "end_time": "2022-11-14T05:11:13.693751Z",
     "start_time": "2022-11-14T05:11:13.677503Z"
    }
   },
   "source": [
    "# Variance "
   ]
  },
  {
   "cell_type": "code",
   "execution_count": 174,
   "id": "0c034dd1",
   "metadata": {
    "ExecuteTime": {
     "end_time": "2022-11-14T07:26:14.504115Z",
     "start_time": "2022-11-14T07:26:14.487737Z"
    }
   },
   "outputs": [
    {
     "data": {
      "text/plain": [
       "0.2858813508064516"
      ]
     },
     "execution_count": 174,
     "metadata": {},
     "output_type": "execute_result"
    }
   ],
   "source": [
    "variance_points = statistics.variance(Q7['Points'])\n",
    "variance_points"
   ]
  },
  {
   "cell_type": "code",
   "execution_count": 175,
   "id": "136694a7",
   "metadata": {
    "ExecuteTime": {
     "end_time": "2022-11-14T07:26:14.520729Z",
     "start_time": "2022-11-14T07:26:14.504115Z"
    }
   },
   "outputs": [
    {
     "data": {
      "text/plain": [
       "0.9573789677419355"
      ]
     },
     "execution_count": 175,
     "metadata": {},
     "output_type": "execute_result"
    }
   ],
   "source": [
    "variance_score = statistics.variance(Q7['Score'])\n",
    "variance_score"
   ]
  },
  {
   "cell_type": "code",
   "execution_count": 176,
   "id": "74addd30",
   "metadata": {
    "ExecuteTime": {
     "end_time": "2022-11-14T07:26:14.536954Z",
     "start_time": "2022-11-14T07:26:14.520729Z"
    }
   },
   "outputs": [
    {
     "data": {
      "text/plain": [
       "3.1931661290322575"
      ]
     },
     "execution_count": 176,
     "metadata": {},
     "output_type": "execute_result"
    }
   ],
   "source": [
    "variance_weigh = statistics.variance(Q7['Weigh'])\n",
    "variance_weigh"
   ]
  },
  {
   "cell_type": "markdown",
   "id": "3ce79636",
   "metadata": {},
   "source": [
    "# standard deviation"
   ]
  },
  {
   "cell_type": "code",
   "execution_count": 177,
   "id": "b2db027c",
   "metadata": {
    "ExecuteTime": {
     "end_time": "2022-11-14T07:26:14.561200Z",
     "start_time": "2022-11-14T07:26:14.536954Z"
    }
   },
   "outputs": [
    {
     "data": {
      "text/plain": [
       "0.5346787360709715"
      ]
     },
     "execution_count": 177,
     "metadata": {},
     "output_type": "execute_result"
    }
   ],
   "source": [
    "standard_deviation_points = statistics.stdev(Q7['Points'])\n",
    "standard_deviation_points"
   ]
  },
  {
   "cell_type": "code",
   "execution_count": 178,
   "id": "a9d19963",
   "metadata": {
    "ExecuteTime": {
     "end_time": "2022-11-14T07:26:14.577610Z",
     "start_time": "2022-11-14T07:26:14.561200Z"
    }
   },
   "outputs": [
    {
     "data": {
      "text/plain": [
       "0.9784574429896967"
      ]
     },
     "execution_count": 178,
     "metadata": {},
     "output_type": "execute_result"
    }
   ],
   "source": [
    "standard_deviation_score = statistics.stdev(Q7['Score'])\n",
    "standard_deviation_score"
   ]
  },
  {
   "cell_type": "code",
   "execution_count": 179,
   "id": "9579d4c2",
   "metadata": {
    "ExecuteTime": {
     "end_time": "2022-11-14T07:26:14.593696Z",
     "start_time": "2022-11-14T07:26:14.577610Z"
    }
   },
   "outputs": [
    {
     "data": {
      "text/plain": [
       "1.786943236096843"
      ]
     },
     "execution_count": 179,
     "metadata": {},
     "output_type": "execute_result"
    }
   ],
   "source": [
    "standard_deviation_weigh = statistics.stdev(Q7['Weigh'])\n",
    "standard_deviation_weigh"
   ]
  },
  {
   "cell_type": "markdown",
   "id": "b423ebdc",
   "metadata": {},
   "source": [
    "# Range "
   ]
  },
  {
   "cell_type": "code",
   "execution_count": 180,
   "id": "f04cb613",
   "metadata": {
    "ExecuteTime": {
     "end_time": "2022-11-14T07:26:14.618266Z",
     "start_time": "2022-11-14T07:26:14.593696Z"
    }
   },
   "outputs": [
    {
     "data": {
      "text/plain": [
       "2.17"
      ]
     },
     "execution_count": 180,
     "metadata": {},
     "output_type": "execute_result"
    }
   ],
   "source": [
    "max_val_points = max(Q7.Points)\n",
    "min_val_points = min(Q7.Points)\n",
    "range_points = max_val_points-min_val_points\n",
    "range_points"
   ]
  },
  {
   "cell_type": "code",
   "execution_count": 181,
   "id": "22c5d132",
   "metadata": {
    "ExecuteTime": {
     "end_time": "2022-11-14T07:26:14.634625Z",
     "start_time": "2022-11-14T07:26:14.618266Z"
    }
   },
   "outputs": [
    {
     "data": {
      "text/plain": [
       "3.9110000000000005"
      ]
     },
     "execution_count": 181,
     "metadata": {},
     "output_type": "execute_result"
    }
   ],
   "source": [
    "max_val_score = max(Q7.Score)\n",
    "min_val_score = min(Q7.Score)\n",
    "range_points = max_val_score-min_val_score\n",
    "range_points"
   ]
  },
  {
   "cell_type": "code",
   "execution_count": 182,
   "id": "8fd11aa4",
   "metadata": {
    "ExecuteTime": {
     "end_time": "2022-11-14T07:26:14.659101Z",
     "start_time": "2022-11-14T07:26:14.634625Z"
    }
   },
   "outputs": [
    {
     "data": {
      "text/plain": [
       "8.399999999999999"
      ]
     },
     "execution_count": 182,
     "metadata": {},
     "output_type": "execute_result"
    }
   ],
   "source": [
    "max_val_weigh = max(Q7.Weigh)\n",
    "min_val_weigh = min(Q7.Weigh)\n",
    "range_weigh = max_val_weigh-min_val_weigh\n",
    "range_weigh"
   ]
  },
  {
   "cell_type": "code",
   "execution_count": 183,
   "id": "d0dd7bc9",
   "metadata": {
    "ExecuteTime": {
     "end_time": "2022-11-14T07:26:14.869612Z",
     "start_time": "2022-11-14T07:26:14.659101Z"
    }
   },
   "outputs": [
    {
     "data": {
      "image/png": "[encoded data removed]",
      "text/plain": [
       "<Figure size 432x288 with 1 Axes>"
      ]
     },
     "metadata": {
      "needs_background": "light"
     },
     "output_type": "display_data"
    }
   ],
   "source": [
    "# histogram of points \n",
    "sns.histplot(Q7['Points'])\n",
    "plt.show()"
   ]
  },
  {
   "cell_type": "code",
   "execution_count": 184,
   "id": "280c5e43",
   "metadata": {
    "ExecuteTime": {
     "end_time": "2022-11-14T07:26:15.064685Z",
     "start_time": "2022-11-14T07:26:14.869612Z"
    }
   },
   "outputs": [
    {
     "data": {
      "image/png": "[encoded data removed]",
      "text/plain": [
       "<Figure size 432x288 with 1 Axes>"
      ]
     },
     "metadata": {
      "needs_background": "light"
     },
     "output_type": "display_data"
    }
   ],
   "source": [
    "# histogram of score \n",
    "sns.histplot(Q7['Score'])\n",
    "plt.show()"
   ]
  },
  {
   "cell_type": "code",
   "execution_count": 185,
   "id": "e97aec96",
   "metadata": {
    "ExecuteTime": {
     "end_time": "2022-11-14T07:26:15.317255Z",
     "start_time": "2022-11-14T07:26:15.068790Z"
    }
   },
   "outputs": [
    {
     "data": {
      "image/png": "[encoded data removed]",
      "text/plain": [
       "<Figure size 432x288 with 1 Axes>"
      ]
     },
     "metadata": {
      "needs_background": "light"
     },
     "output_type": "display_data"
    }
   ],
   "source": [
    "# histogram of weigh\n",
    "sns.histplot(Q7['Weigh'])\n",
    "plt.show()"
   ]
  },
  {
   "cell_type": "markdown",
   "id": "e1d3878b",
   "metadata": {},
   "source": [
    "# Q9_a"
   ]
  },
  {
   "cell_type": "code",
   "execution_count": 186,
   "id": "55ce4bf7",
   "metadata": {
    "ExecuteTime": {
     "end_time": "2022-11-14T07:26:15.358498Z",
     "start_time": "2022-11-14T07:26:15.317255Z"
    }
   },
   "outputs": [
    {
     "data": {
      "text/html": [
       "<div>\n",
       "<style scoped>\n",
       "    .dataframe tbody tr th:only-of-type {\n",
       "        vertical-align: middle;\n",
       "    }\n",
       "\n",
       "    .dataframe tbody tr th {\n",
       "        vertical-align: top;\n",
       "    }\n",
       "\n",
       "    .dataframe thead th {\n",
       "        text-align: right;\n",
       "    }\n",
       "</style>\n",
       "<table border=\"1\" class=\"dataframe\">\n",
       "  <thead>\n",
       "    <tr style=\"text-align: right;\">\n",
       "      <th></th>\n",
       "      <th>speed</th>\n",
       "      <th>dist</th>\n",
       "    </tr>\n",
       "  </thead>\n",
       "  <tbody>\n",
       "    <tr>\n",
       "      <th>0</th>\n",
       "      <td>4</td>\n",
       "      <td>2</td>\n",
       "    </tr>\n",
       "    <tr>\n",
       "      <th>1</th>\n",
       "      <td>4</td>\n",
       "      <td>10</td>\n",
       "    </tr>\n",
       "    <tr>\n",
       "      <th>2</th>\n",
       "      <td>7</td>\n",
       "      <td>4</td>\n",
       "    </tr>\n",
       "    <tr>\n",
       "      <th>3</th>\n",
       "      <td>7</td>\n",
       "      <td>22</td>\n",
       "    </tr>\n",
       "    <tr>\n",
       "      <th>4</th>\n",
       "      <td>8</td>\n",
       "      <td>16</td>\n",
       "    </tr>\n",
       "    <tr>\n",
       "      <th>5</th>\n",
       "      <td>9</td>\n",
       "      <td>10</td>\n",
       "    </tr>\n",
       "    <tr>\n",
       "      <th>6</th>\n",
       "      <td>10</td>\n",
       "      <td>18</td>\n",
       "    </tr>\n",
       "    <tr>\n",
       "      <th>7</th>\n",
       "      <td>10</td>\n",
       "      <td>26</td>\n",
       "    </tr>\n",
       "    <tr>\n",
       "      <th>8</th>\n",
       "      <td>10</td>\n",
       "      <td>34</td>\n",
       "    </tr>\n",
       "    <tr>\n",
       "      <th>9</th>\n",
       "      <td>11</td>\n",
       "      <td>17</td>\n",
       "    </tr>\n",
       "    <tr>\n",
       "      <th>10</th>\n",
       "      <td>11</td>\n",
       "      <td>28</td>\n",
       "    </tr>\n",
       "    <tr>\n",
       "      <th>11</th>\n",
       "      <td>12</td>\n",
       "      <td>14</td>\n",
       "    </tr>\n",
       "    <tr>\n",
       "      <th>12</th>\n",
       "      <td>12</td>\n",
       "      <td>20</td>\n",
       "    </tr>\n",
       "    <tr>\n",
       "      <th>13</th>\n",
       "      <td>12</td>\n",
       "      <td>24</td>\n",
       "    </tr>\n",
       "    <tr>\n",
       "      <th>14</th>\n",
       "      <td>12</td>\n",
       "      <td>28</td>\n",
       "    </tr>\n",
       "    <tr>\n",
       "      <th>15</th>\n",
       "      <td>13</td>\n",
       "      <td>26</td>\n",
       "    </tr>\n",
       "    <tr>\n",
       "      <th>16</th>\n",
       "      <td>13</td>\n",
       "      <td>34</td>\n",
       "    </tr>\n",
       "    <tr>\n",
       "      <th>17</th>\n",
       "      <td>13</td>\n",
       "      <td>34</td>\n",
       "    </tr>\n",
       "    <tr>\n",
       "      <th>18</th>\n",
       "      <td>13</td>\n",
       "      <td>46</td>\n",
       "    </tr>\n",
       "    <tr>\n",
       "      <th>19</th>\n",
       "      <td>14</td>\n",
       "      <td>26</td>\n",
       "    </tr>\n",
       "    <tr>\n",
       "      <th>20</th>\n",
       "      <td>14</td>\n",
       "      <td>36</td>\n",
       "    </tr>\n",
       "    <tr>\n",
       "      <th>21</th>\n",
       "      <td>14</td>\n",
       "      <td>60</td>\n",
       "    </tr>\n",
       "    <tr>\n",
       "      <th>22</th>\n",
       "      <td>14</td>\n",
       "      <td>80</td>\n",
       "    </tr>\n",
       "    <tr>\n",
       "      <th>23</th>\n",
       "      <td>15</td>\n",
       "      <td>20</td>\n",
       "    </tr>\n",
       "    <tr>\n",
       "      <th>24</th>\n",
       "      <td>15</td>\n",
       "      <td>26</td>\n",
       "    </tr>\n",
       "    <tr>\n",
       "      <th>25</th>\n",
       "      <td>15</td>\n",
       "      <td>54</td>\n",
       "    </tr>\n",
       "    <tr>\n",
       "      <th>26</th>\n",
       "      <td>16</td>\n",
       "      <td>32</td>\n",
       "    </tr>\n",
       "    <tr>\n",
       "      <th>27</th>\n",
       "      <td>16</td>\n",
       "      <td>40</td>\n",
       "    </tr>\n",
       "    <tr>\n",
       "      <th>28</th>\n",
       "      <td>17</td>\n",
       "      <td>32</td>\n",
       "    </tr>\n",
       "    <tr>\n",
       "      <th>29</th>\n",
       "      <td>17</td>\n",
       "      <td>40</td>\n",
       "    </tr>\n",
       "    <tr>\n",
       "      <th>30</th>\n",
       "      <td>17</td>\n",
       "      <td>50</td>\n",
       "    </tr>\n",
       "    <tr>\n",
       "      <th>31</th>\n",
       "      <td>18</td>\n",
       "      <td>42</td>\n",
       "    </tr>\n",
       "    <tr>\n",
       "      <th>32</th>\n",
       "      <td>18</td>\n",
       "      <td>56</td>\n",
       "    </tr>\n",
       "    <tr>\n",
       "      <th>33</th>\n",
       "      <td>18</td>\n",
       "      <td>76</td>\n",
       "    </tr>\n",
       "    <tr>\n",
       "      <th>34</th>\n",
       "      <td>18</td>\n",
       "      <td>84</td>\n",
       "    </tr>\n",
       "    <tr>\n",
       "      <th>35</th>\n",
       "      <td>19</td>\n",
       "      <td>36</td>\n",
       "    </tr>\n",
       "    <tr>\n",
       "      <th>36</th>\n",
       "      <td>19</td>\n",
       "      <td>46</td>\n",
       "    </tr>\n",
       "    <tr>\n",
       "      <th>37</th>\n",
       "      <td>19</td>\n",
       "      <td>68</td>\n",
       "    </tr>\n",
       "    <tr>\n",
       "      <th>38</th>\n",
       "      <td>20</td>\n",
       "      <td>32</td>\n",
       "    </tr>\n",
       "    <tr>\n",
       "      <th>39</th>\n",
       "      <td>20</td>\n",
       "      <td>48</td>\n",
       "    </tr>\n",
       "    <tr>\n",
       "      <th>40</th>\n",
       "      <td>20</td>\n",
       "      <td>52</td>\n",
       "    </tr>\n",
       "    <tr>\n",
       "      <th>41</th>\n",
       "      <td>20</td>\n",
       "      <td>56</td>\n",
       "    </tr>\n",
       "    <tr>\n",
       "      <th>42</th>\n",
       "      <td>20</td>\n",
       "      <td>64</td>\n",
       "    </tr>\n",
       "    <tr>\n",
       "      <th>43</th>\n",
       "      <td>22</td>\n",
       "      <td>66</td>\n",
       "    </tr>\n",
       "    <tr>\n",
       "      <th>44</th>\n",
       "      <td>23</td>\n",
       "      <td>54</td>\n",
       "    </tr>\n",
       "    <tr>\n",
       "      <th>45</th>\n",
       "      <td>24</td>\n",
       "      <td>70</td>\n",
       "    </tr>\n",
       "    <tr>\n",
       "      <th>46</th>\n",
       "      <td>24</td>\n",
       "      <td>92</td>\n",
       "    </tr>\n",
       "    <tr>\n",
       "      <th>47</th>\n",
       "      <td>24</td>\n",
       "      <td>93</td>\n",
       "    </tr>\n",
       "    <tr>\n",
       "      <th>48</th>\n",
       "      <td>24</td>\n",
       "      <td>120</td>\n",
       "    </tr>\n",
       "    <tr>\n",
       "      <th>49</th>\n",
       "      <td>25</td>\n",
       "      <td>85</td>\n",
       "    </tr>\n",
       "  </tbody>\n",
       "</table>\n",
       "</div>"
      ],
      "text/plain": [
       "    speed  dist\n",
       "0       4     2\n",
       "1       4    10\n",
       "2       7     4\n",
       "3       7    22\n",
       "4       8    16\n",
       "5       9    10\n",
       "6      10    18\n",
       "7      10    26\n",
       "8      10    34\n",
       "9      11    17\n",
       "10     11    28\n",
       "11     12    14\n",
       "12     12    20\n",
       "13     12    24\n",
       "14     12    28\n",
       "15     13    26\n",
       "16     13    34\n",
       "17     13    34\n",
       "18     13    46\n",
       "19     14    26\n",
       "20     14    36\n",
       "21     14    60\n",
       "22     14    80\n",
       "23     15    20\n",
       "24     15    26\n",
       "25     15    54\n",
       "26     16    32\n",
       "27     16    40\n",
       "28     17    32\n",
       "29     17    40\n",
       "30     17    50\n",
       "31     18    42\n",
       "32     18    56\n",
       "33     18    76\n",
       "34     18    84\n",
       "35     19    36\n",
       "36     19    46\n",
       "37     19    68\n",
       "38     20    32\n",
       "39     20    48\n",
       "40     20    52\n",
       "41     20    56\n",
       "42     20    64\n",
       "43     22    66\n",
       "44     23    54\n",
       "45     24    70\n",
       "46     24    92\n",
       "47     24    93\n",
       "48     24   120\n",
       "49     25    85"
      ]
     },
     "execution_count": 186,
     "metadata": {},
     "output_type": "execute_result"
    }
   ],
   "source": [
    "Q9_a = pd.read_csv('Q9_a.csv')\n",
    "Q9_a = Q9_a.iloc[:,1:]\n",
    "Q9_a"
   ]
  },
  {
   "cell_type": "code",
   "execution_count": 187,
   "id": "3ab7a71f",
   "metadata": {
    "ExecuteTime": {
     "end_time": "2022-11-14T07:26:15.382853Z",
     "start_time": "2022-11-14T07:26:15.358498Z"
    }
   },
   "outputs": [
    {
     "data": {
      "text/plain": [
       "speed   -0.117510\n",
       "dist     0.806895\n",
       "dtype: float64"
      ]
     },
     "execution_count": 187,
     "metadata": {},
     "output_type": "execute_result"
    }
   ],
   "source": [
    "skewness = Q9_a.skew()\n",
    "skewness"
   ]
  },
  {
   "cell_type": "code",
   "execution_count": 188,
   "id": "ca8789b5",
   "metadata": {
    "ExecuteTime": {
     "end_time": "2022-11-14T07:26:15.399585Z",
     "start_time": "2022-11-14T07:26:15.382853Z"
    }
   },
   "outputs": [
    {
     "data": {
      "text/plain": [
       "speed   -0.508994\n",
       "dist     0.405053\n",
       "dtype: float64"
      ]
     },
     "execution_count": 188,
     "metadata": {},
     "output_type": "execute_result"
    }
   ],
   "source": [
    "kurtosis = Q9_a.kurtosis()\n",
    "kurtosis"
   ]
  },
  {
   "cell_type": "code",
   "execution_count": 189,
   "id": "96ace59d",
   "metadata": {
    "ExecuteTime": {
     "end_time": "2022-11-14T07:26:15.594286Z",
     "start_time": "2022-11-14T07:26:15.399585Z"
    }
   },
   "outputs": [
    {
     "data": {
      "image/png": "[encoded data removed]",
      "text/plain": [
       "<Figure size 432x288 with 1 Axes>"
      ]
     },
     "metadata": {
      "needs_background": "light"
     },
     "output_type": "display_data"
    }
   ],
   "source": [
    "# histogram of speed \n",
    "sns.histplot(Q9_a['speed'])\n",
    "plt.show()"
   ]
  },
  {
   "cell_type": "code",
   "execution_count": 190,
   "id": "2f277905",
   "metadata": {
    "ExecuteTime": {
     "end_time": "2022-11-14T07:26:15.778190Z",
     "start_time": "2022-11-14T07:26:15.594286Z"
    }
   },
   "outputs": [
    {
     "data": {
      "image/png": "[encoded data removed]",
      "text/plain": [
       "<Figure size 432x288 with 1 Axes>"
      ]
     },
     "metadata": {
      "needs_background": "light"
     },
     "output_type": "display_data"
    }
   ],
   "source": [
    "# histogram of dist \n",
    "sns.histplot(Q9_a['dist'])\n",
    "plt.show()"
   ]
  },
  {
   "cell_type": "markdown",
   "id": "171f9bc7",
   "metadata": {},
   "source": [
    "# Q9_b"
   ]
  },
  {
   "cell_type": "code",
   "execution_count": 191,
   "id": "cfd9ca90",
   "metadata": {
    "ExecuteTime": {
     "end_time": "2022-11-14T07:26:15.819429Z",
     "start_time": "2022-11-14T07:26:15.778190Z"
    }
   },
   "outputs": [
    {
     "data": {
      "text/html": [
       "<div>\n",
       "<style scoped>\n",
       "    .dataframe tbody tr th:only-of-type {\n",
       "        vertical-align: middle;\n",
       "    }\n",
       "\n",
       "    .dataframe tbody tr th {\n",
       "        vertical-align: top;\n",
       "    }\n",
       "\n",
       "    .dataframe thead th {\n",
       "        text-align: right;\n",
       "    }\n",
       "</style>\n",
       "<table border=\"1\" class=\"dataframe\">\n",
       "  <thead>\n",
       "    <tr style=\"text-align: right;\">\n",
       "      <th></th>\n",
       "      <th>SP</th>\n",
       "      <th>WT</th>\n",
       "    </tr>\n",
       "  </thead>\n",
       "  <tbody>\n",
       "    <tr>\n",
       "      <th>0</th>\n",
       "      <td>104.185353</td>\n",
       "      <td>28.762059</td>\n",
       "    </tr>\n",
       "    <tr>\n",
       "      <th>1</th>\n",
       "      <td>105.461264</td>\n",
       "      <td>30.466833</td>\n",
       "    </tr>\n",
       "    <tr>\n",
       "      <th>2</th>\n",
       "      <td>105.461264</td>\n",
       "      <td>30.193597</td>\n",
       "    </tr>\n",
       "    <tr>\n",
       "      <th>3</th>\n",
       "      <td>113.461264</td>\n",
       "      <td>30.632114</td>\n",
       "    </tr>\n",
       "    <tr>\n",
       "      <th>4</th>\n",
       "      <td>104.461264</td>\n",
       "      <td>29.889149</td>\n",
       "    </tr>\n",
       "    <tr>\n",
       "      <th>...</th>\n",
       "      <td>...</td>\n",
       "      <td>...</td>\n",
       "    </tr>\n",
       "    <tr>\n",
       "      <th>76</th>\n",
       "      <td>169.598513</td>\n",
       "      <td>16.132947</td>\n",
       "    </tr>\n",
       "    <tr>\n",
       "      <th>77</th>\n",
       "      <td>150.576579</td>\n",
       "      <td>37.923113</td>\n",
       "    </tr>\n",
       "    <tr>\n",
       "      <th>78</th>\n",
       "      <td>151.598513</td>\n",
       "      <td>15.769625</td>\n",
       "    </tr>\n",
       "    <tr>\n",
       "      <th>79</th>\n",
       "      <td>167.944460</td>\n",
       "      <td>39.423099</td>\n",
       "    </tr>\n",
       "    <tr>\n",
       "      <th>80</th>\n",
       "      <td>139.840817</td>\n",
       "      <td>34.948615</td>\n",
       "    </tr>\n",
       "  </tbody>\n",
       "</table>\n",
       "<p>81 rows × 2 columns</p>\n",
       "</div>"
      ],
      "text/plain": [
       "            SP         WT\n",
       "0   104.185353  28.762059\n",
       "1   105.461264  30.466833\n",
       "2   105.461264  30.193597\n",
       "3   113.461264  30.632114\n",
       "4   104.461264  29.889149\n",
       "..         ...        ...\n",
       "76  169.598513  16.132947\n",
       "77  150.576579  37.923113\n",
       "78  151.598513  15.769625\n",
       "79  167.944460  39.423099\n",
       "80  139.840817  34.948615\n",
       "\n",
       "[81 rows x 2 columns]"
      ]
     },
     "execution_count": 191,
     "metadata": {},
     "output_type": "execute_result"
    }
   ],
   "source": [
    "Q9_b = pd.read_csv('Q9_b.csv')\n",
    "Q9_b = Q9_b.iloc[:,1:]\n",
    "Q9_b"
   ]
  },
  {
   "cell_type": "code",
   "execution_count": 192,
   "id": "f5b92195",
   "metadata": {
    "ExecuteTime": {
     "end_time": "2022-11-14T07:26:15.844235Z",
     "start_time": "2022-11-14T07:26:15.827297Z"
    }
   },
   "outputs": [
    {
     "data": {
      "text/plain": [
       "SP    1.611450\n",
       "WT   -0.614753\n",
       "dtype: float64"
      ]
     },
     "execution_count": 192,
     "metadata": {},
     "output_type": "execute_result"
    }
   ],
   "source": [
    "# skewness\n",
    "skewness_Q9_b = Q9_b.skew()\n",
    "skewness_Q9_b"
   ]
  },
  {
   "cell_type": "code",
   "execution_count": 193,
   "id": "86a67da0",
   "metadata": {
    "ExecuteTime": {
     "end_time": "2022-11-14T07:26:15.860839Z",
     "start_time": "2022-11-14T07:26:15.844235Z"
    }
   },
   "outputs": [
    {
     "data": {
      "text/plain": [
       "SP    2.977329\n",
       "WT    0.950291\n",
       "dtype: float64"
      ]
     },
     "execution_count": 193,
     "metadata": {},
     "output_type": "execute_result"
    }
   ],
   "source": [
    "# kurtosis\n",
    "kurtosis_Q9_b = Q9_b.kurtosis()\n",
    "kurtosis_Q9_b"
   ]
  },
  {
   "cell_type": "code",
   "execution_count": 194,
   "id": "ff01e06c",
   "metadata": {
    "ExecuteTime": {
     "end_time": "2022-11-14T07:26:16.078956Z",
     "start_time": "2022-11-14T07:26:15.860839Z"
    }
   },
   "outputs": [
    {
     "data": {
      "image/png": "[encoded data removed]",
      "text/plain": [
       "<Figure size 432x288 with 1 Axes>"
      ]
     },
     "metadata": {
      "needs_background": "light"
     },
     "output_type": "display_data"
    }
   ],
   "source": [
    "# histogram of dist \n",
    "sns.histplot(Q9_b['SP'])\n",
    "plt.show()"
   ]
  },
  {
   "cell_type": "code",
   "execution_count": 195,
   "id": "2449cca8",
   "metadata": {
    "ExecuteTime": {
     "end_time": "2022-11-14T07:26:16.277825Z",
     "start_time": "2022-11-14T07:26:16.078956Z"
    }
   },
   "outputs": [
    {
     "data": {
      "image/png": "[encoded data removed]",
      "text/plain": [
       "<Figure size 432x288 with 1 Axes>"
      ]
     },
     "metadata": {
      "needs_background": "light"
     },
     "output_type": "display_data"
    }
   ],
   "source": [
    "# histogram of dist \n",
    "sns.histplot(Q9_b['WT'])\n",
    "plt.show()"
   ]
  },
  {
   "cell_type": "markdown",
   "id": "c32c9c59",
   "metadata": {},
   "source": [
    "# Q 11"
   ]
  },
  {
   "cell_type": "code",
   "execution_count": 196,
   "id": "b98791a1",
   "metadata": {
    "ExecuteTime": {
     "end_time": "2022-11-14T07:26:16.293909Z",
     "start_time": "2022-11-14T07:26:16.277825Z"
    }
   },
   "outputs": [],
   "source": [
    "from scipy import stats\n",
    "import scipy\n",
    "from scipy.stats import norm"
   ]
  },
  {
   "cell_type": "code",
   "execution_count": 197,
   "id": "8043d673",
   "metadata": {
    "ExecuteTime": {
     "end_time": "2022-11-14T07:26:16.302670Z",
     "start_time": "2022-11-14T07:26:16.293909Z"
    }
   },
   "outputs": [],
   "source": [
    "mean = 200\n",
    "n= 2000\n",
    "std = 30 "
   ]
  },
  {
   "cell_type": "code",
   "execution_count": 198,
   "id": "ad639ab5",
   "metadata": {
    "ExecuteTime": {
     "end_time": "2022-11-14T07:26:16.318750Z",
     "start_time": "2022-11-14T07:26:16.302670Z"
    }
   },
   "outputs": [
    {
     "data": {
      "text/plain": [
       "0.6708203932499369"
      ]
     },
     "execution_count": 198,
     "metadata": {},
     "output_type": "execute_result"
    }
   ],
   "source": [
    "SE = np.mean(std/np.sqrt(n))\n",
    "SE"
   ]
  },
  {
   "cell_type": "code",
   "execution_count": 199,
   "id": "78f6c925",
   "metadata": {
    "ExecuteTime": {
     "end_time": "2022-11-14T07:26:16.343952Z",
     "start_time": "2022-11-14T07:26:16.318750Z"
    }
   },
   "outputs": [
    {
     "data": {
      "text/plain": [
       "201.0429738341421"
      ]
     },
     "execution_count": 199,
     "metadata": {},
     "output_type": "execute_result"
    }
   ],
   "source": [
    "# calculating  94% confidence interval\n",
    "scipy.stats.norm.ppf(0.94,mean,SE)"
   ]
  },
  {
   "cell_type": "code",
   "execution_count": 200,
   "id": "facdc23d",
   "metadata": {
    "ExecuteTime": {
     "end_time": "2022-11-14T07:26:16.360264Z",
     "start_time": "2022-11-14T07:26:16.343952Z"
    }
   },
   "outputs": [
    {
     "data": {
      "text/plain": [
       "201.37769665186667"
      ]
     },
     "execution_count": 200,
     "metadata": {},
     "output_type": "execute_result"
    }
   ],
   "source": [
    "# calculating 98%  confidence interval\n",
    "scipy.stats.norm.ppf(0.98 ,mean,SE)"
   ]
  },
  {
   "cell_type": "code",
   "execution_count": 201,
   "id": "f2160cf1",
   "metadata": {
    "ExecuteTime": {
     "end_time": "2022-11-14T07:26:16.376716Z",
     "start_time": "2022-11-14T07:26:16.360264Z"
    }
   },
   "outputs": [
    {
     "data": {
      "text/plain": [
       "201.17439591877456"
      ]
     },
     "execution_count": 201,
     "metadata": {},
     "output_type": "execute_result"
    }
   ],
   "source": [
    "# calculating 96%  confidence interval\n",
    "scipy.stats.norm.ppf(0.96,mean ,SE)"
   ]
  },
  {
   "cell_type": "markdown",
   "id": "7c9102a2",
   "metadata": {},
   "source": [
    "# Q12"
   ]
  },
  {
   "cell_type": "code",
   "execution_count": 202,
   "id": "879c897e",
   "metadata": {
    "ExecuteTime": {
     "end_time": "2022-11-14T07:26:16.392965Z",
     "start_time": "2022-11-14T07:26:16.376716Z"
    }
   },
   "outputs": [
    {
     "data": {
      "text/html": [
       "<div>\n",
       "<style scoped>\n",
       "    .dataframe tbody tr th:only-of-type {\n",
       "        vertical-align: middle;\n",
       "    }\n",
       "\n",
       "    .dataframe tbody tr th {\n",
       "        vertical-align: top;\n",
       "    }\n",
       "\n",
       "    .dataframe thead th {\n",
       "        text-align: right;\n",
       "    }\n",
       "</style>\n",
       "<table border=\"1\" class=\"dataframe\">\n",
       "  <thead>\n",
       "    <tr style=\"text-align: right;\">\n",
       "      <th></th>\n",
       "      <th>0</th>\n",
       "    </tr>\n",
       "  </thead>\n",
       "  <tbody>\n",
       "    <tr>\n",
       "      <th>0</th>\n",
       "      <td>34</td>\n",
       "    </tr>\n",
       "    <tr>\n",
       "      <th>1</th>\n",
       "      <td>36</td>\n",
       "    </tr>\n",
       "    <tr>\n",
       "      <th>2</th>\n",
       "      <td>38</td>\n",
       "    </tr>\n",
       "    <tr>\n",
       "      <th>3</th>\n",
       "      <td>39</td>\n",
       "    </tr>\n",
       "    <tr>\n",
       "      <th>4</th>\n",
       "      <td>40</td>\n",
       "    </tr>\n",
       "    <tr>\n",
       "      <th>5</th>\n",
       "      <td>41</td>\n",
       "    </tr>\n",
       "    <tr>\n",
       "      <th>6</th>\n",
       "      <td>42</td>\n",
       "    </tr>\n",
       "    <tr>\n",
       "      <th>7</th>\n",
       "      <td>45</td>\n",
       "    </tr>\n",
       "    <tr>\n",
       "      <th>8</th>\n",
       "      <td>49</td>\n",
       "    </tr>\n",
       "    <tr>\n",
       "      <th>9</th>\n",
       "      <td>56</td>\n",
       "    </tr>\n",
       "  </tbody>\n",
       "</table>\n",
       "</div>"
      ],
      "text/plain": [
       "    0\n",
       "0  34\n",
       "1  36\n",
       "2  38\n",
       "3  39\n",
       "4  40\n",
       "5  41\n",
       "6  42\n",
       "7  45\n",
       "8  49\n",
       "9  56"
      ]
     },
     "execution_count": 202,
     "metadata": {},
     "output_type": "execute_result"
    }
   ],
   "source": [
    "Q12 = pd.DataFrame({34,36,36,38,38,39,39,40,40,41,41,41,41,42,42,45,49,56})\n",
    "Q12"
   ]
  },
  {
   "cell_type": "code",
   "execution_count": 203,
   "id": "d3c9c8d5",
   "metadata": {
    "ExecuteTime": {
     "end_time": "2022-11-14T07:26:16.409474Z",
     "start_time": "2022-11-14T07:26:16.392965Z"
    }
   },
   "outputs": [
    {
     "data": {
      "text/plain": [
       "0    42.0\n",
       "dtype: float64"
      ]
     },
     "execution_count": 203,
     "metadata": {},
     "output_type": "execute_result"
    }
   ],
   "source": [
    "# mean \n",
    "mean_Q12 = Q12.mean()\n",
    "mean_Q12"
   ]
  },
  {
   "cell_type": "code",
   "execution_count": 204,
   "id": "b17b3628",
   "metadata": {
    "ExecuteTime": {
     "end_time": "2022-11-14T07:26:16.425708Z",
     "start_time": "2022-11-14T07:26:16.409474Z"
    }
   },
   "outputs": [
    {
     "data": {
      "text/plain": [
       "0    40.5\n",
       "dtype: float64"
      ]
     },
     "execution_count": 204,
     "metadata": {},
     "output_type": "execute_result"
    }
   ],
   "source": [
    "# median \n",
    "Q12_median = Q12.median()\n",
    "Q12_median"
   ]
  },
  {
   "cell_type": "code",
   "execution_count": 205,
   "id": "72d38d80",
   "metadata": {
    "ExecuteTime": {
     "end_time": "2022-11-14T07:26:16.442043Z",
     "start_time": "2022-11-14T07:26:16.425708Z"
    }
   },
   "outputs": [
    {
     "data": {
      "text/plain": [
       "0    42.666667\n",
       "dtype: float64"
      ]
     },
     "execution_count": 205,
     "metadata": {},
     "output_type": "execute_result"
    }
   ],
   "source": [
    "# variance \n",
    "Q12_var = Q12.var()\n",
    "Q12_var"
   ]
  },
  {
   "cell_type": "code",
   "execution_count": 206,
   "id": "c4e4dc7b",
   "metadata": {
    "ExecuteTime": {
     "end_time": "2022-11-14T07:26:16.458615Z",
     "start_time": "2022-11-14T07:26:16.442043Z"
    }
   },
   "outputs": [
    {
     "data": {
      "text/plain": [
       "0    6.531973\n",
       "dtype: float64"
      ]
     },
     "execution_count": 206,
     "metadata": {},
     "output_type": "execute_result"
    }
   ],
   "source": [
    "# standard deviation\n",
    "Q12_std = np.sqrt(Q12_var)\n",
    "Q12_std"
   ]
  },
  {
   "cell_type": "code",
   "execution_count": 207,
   "id": "ac5da890",
   "metadata": {
    "ExecuteTime": {
     "end_time": "2022-11-14T07:26:16.474839Z",
     "start_time": "2022-11-14T07:26:16.458615Z"
    }
   },
   "outputs": [
    {
     "data": {
      "text/plain": [
       "0    1.139228\n",
       "dtype: float64"
      ]
     },
     "execution_count": 207,
     "metadata": {},
     "output_type": "execute_result"
    }
   ],
   "source": [
    "Q12.skew()"
   ]
  },
  {
   "cell_type": "code",
   "execution_count": 208,
   "id": "1abc7ac8",
   "metadata": {
    "ExecuteTime": {
     "end_time": "2022-11-14T07:26:16.491028Z",
     "start_time": "2022-11-14T07:26:16.474839Z"
    }
   },
   "outputs": [
    {
     "data": {
      "text/plain": [
       "0    1.252886\n",
       "dtype: float64"
      ]
     },
     "execution_count": 208,
     "metadata": {},
     "output_type": "execute_result"
    }
   ],
   "source": [
    "Q12.kurtosis()"
   ]
  },
  {
   "cell_type": "code",
   "execution_count": 209,
   "id": "c5124fe2",
   "metadata": {
    "ExecuteTime": {
     "end_time": "2022-11-14T07:26:16.661263Z",
     "start_time": "2022-11-14T07:26:16.491028Z"
    }
   },
   "outputs": [
    {
     "data": {
      "text/plain": [
       "<AxesSubplot:ylabel='Count'>"
      ]
     },
     "execution_count": 209,
     "metadata": {},
     "output_type": "execute_result"
    },
    {
     "data": {
      "image/png": "[encoded data removed]",
      "text/plain": [
       "<Figure size 432x288 with 1 Axes>"
      ]
     },
     "metadata": {
      "needs_background": "light"
     },
     "output_type": "display_data"
    }
   ],
   "source": [
    "sns.histplot(Q12)"
   ]
  },
  {
   "cell_type": "markdown",
   "id": "9c57d91a",
   "metadata": {},
   "source": [
    "# Q20"
   ]
  },
  {
   "cell_type": "code",
   "execution_count": 210,
   "id": "3c8b43fc",
   "metadata": {
    "ExecuteTime": {
     "end_time": "2022-11-14T07:26:16.677202Z",
     "start_time": "2022-11-14T07:26:16.661263Z"
    }
   },
   "outputs": [
    {
     "data": {
      "text/html": [
       "<div>\n",
       "<style scoped>\n",
       "    .dataframe tbody tr th:only-of-type {\n",
       "        vertical-align: middle;\n",
       "    }\n",
       "\n",
       "    .dataframe tbody tr th {\n",
       "        vertical-align: top;\n",
       "    }\n",
       "\n",
       "    .dataframe thead th {\n",
       "        text-align: right;\n",
       "    }\n",
       "</style>\n",
       "<table border=\"1\" class=\"dataframe\">\n",
       "  <thead>\n",
       "    <tr style=\"text-align: right;\">\n",
       "      <th></th>\n",
       "      <th>HP</th>\n",
       "      <th>MPG</th>\n",
       "      <th>VOL</th>\n",
       "      <th>SP</th>\n",
       "      <th>WT</th>\n",
       "    </tr>\n",
       "  </thead>\n",
       "  <tbody>\n",
       "    <tr>\n",
       "      <th>0</th>\n",
       "      <td>49</td>\n",
       "      <td>53.700681</td>\n",
       "      <td>89</td>\n",
       "      <td>104.185353</td>\n",
       "      <td>28.762059</td>\n",
       "    </tr>\n",
       "    <tr>\n",
       "      <th>1</th>\n",
       "      <td>55</td>\n",
       "      <td>50.013401</td>\n",
       "      <td>92</td>\n",
       "      <td>105.461264</td>\n",
       "      <td>30.466833</td>\n",
       "    </tr>\n",
       "    <tr>\n",
       "      <th>2</th>\n",
       "      <td>55</td>\n",
       "      <td>50.013401</td>\n",
       "      <td>92</td>\n",
       "      <td>105.461264</td>\n",
       "      <td>30.193597</td>\n",
       "    </tr>\n",
       "    <tr>\n",
       "      <th>3</th>\n",
       "      <td>70</td>\n",
       "      <td>45.696322</td>\n",
       "      <td>92</td>\n",
       "      <td>113.461264</td>\n",
       "      <td>30.632114</td>\n",
       "    </tr>\n",
       "    <tr>\n",
       "      <th>4</th>\n",
       "      <td>53</td>\n",
       "      <td>50.504232</td>\n",
       "      <td>92</td>\n",
       "      <td>104.461264</td>\n",
       "      <td>29.889149</td>\n",
       "    </tr>\n",
       "  </tbody>\n",
       "</table>\n",
       "</div>"
      ],
      "text/plain": [
       "   HP        MPG  VOL          SP         WT\n",
       "0  49  53.700681   89  104.185353  28.762059\n",
       "1  55  50.013401   92  105.461264  30.466833\n",
       "2  55  50.013401   92  105.461264  30.193597\n",
       "3  70  45.696322   92  113.461264  30.632114\n",
       "4  53  50.504232   92  104.461264  29.889149"
      ]
     },
     "execution_count": 210,
     "metadata": {},
     "output_type": "execute_result"
    }
   ],
   "source": [
    "Q20 = pd.read_csv('Cars.csv')\n",
    "Q20.head()"
   ]
  },
  {
   "cell_type": "code",
   "execution_count": 218,
   "id": "e8a3d07e",
   "metadata": {
    "ExecuteTime": {
     "end_time": "2022-11-14T07:29:18.035913Z",
     "start_time": "2022-11-14T07:29:18.023269Z"
    }
   },
   "outputs": [
    {
     "data": {
      "text/plain": [
       "34.422075728024666"
      ]
     },
     "execution_count": 218,
     "metadata": {},
     "output_type": "execute_result"
    }
   ],
   "source": [
    "# mean\n",
    "mean_mpg = Q20['MPG'].mean()\n",
    "mean_mpg"
   ]
  },
  {
   "cell_type": "code",
   "execution_count": 220,
   "id": "87d33fa0",
   "metadata": {
    "ExecuteTime": {
     "end_time": "2022-11-14T07:32:07.005193Z",
     "start_time": "2022-11-14T07:32:06.988784Z"
    }
   },
   "outputs": [
    {
     "data": {
      "text/plain": [
       "9.131444731795982"
      ]
     },
     "execution_count": 220,
     "metadata": {},
     "output_type": "execute_result"
    }
   ],
   "source": [
    "# standard deviation \n",
    "std_mpg = Q20['MPG'].std()\n",
    "std_mpg"
   ]
  },
  {
   "cell_type": "code",
   "execution_count": 221,
   "id": "983a7235",
   "metadata": {
    "ExecuteTime": {
     "end_time": "2022-11-14T07:32:10.563244Z",
     "start_time": "2022-11-14T07:32:10.533374Z"
    }
   },
   "outputs": [
    {
     "data": {
      "text/plain": [
       "0.6524060748417295"
      ]
     },
     "execution_count": 221,
     "metadata": {},
     "output_type": "execute_result"
    }
   ],
   "source": [
    "# P(MPG>38)\n",
    "stats.norm.cdf(38,mean_mpg,std_mpg)"
   ]
  },
  {
   "cell_type": "code",
   "execution_count": 222,
   "id": "858ec9d8",
   "metadata": {
    "ExecuteTime": {
     "end_time": "2022-11-14T07:32:13.524220Z",
     "start_time": "2022-11-14T07:32:13.508819Z"
    }
   },
   "outputs": [
    {
     "data": {
      "text/plain": [
       "0.7293498762151616"
      ]
     },
     "execution_count": 222,
     "metadata": {},
     "output_type": "execute_result"
    }
   ],
   "source": [
    "# P(MPG<40)\n",
    "stats.norm.cdf(40,mean_mpg,std_mpg)"
   ]
  },
  {
   "cell_type": "code",
   "execution_count": 223,
   "id": "6ada018d",
   "metadata": {
    "ExecuteTime": {
     "end_time": "2022-11-14T07:32:17.043302Z",
     "start_time": "2022-11-14T07:32:17.014894Z"
    }
   },
   "outputs": [
    {
     "data": {
      "text/plain": [
       "0.8988689169682046"
      ]
     },
     "execution_count": 223,
     "metadata": {},
     "output_type": "execute_result"
    }
   ],
   "source": [
    "# P (20<MPG<50)\n",
    "(stats.norm.cdf(50,mean_mpg,std_mpg)- stats.norm.cdf(20,mean_mpg,std_mpg))"
   ]
  },
  {
   "cell_type": "markdown",
   "id": "76141454",
   "metadata": {
    "ExecuteTime": {
     "end_time": "2022-11-14T07:35:37.590416Z",
     "start_time": "2022-11-14T07:35:37.580981Z"
    }
   },
   "source": [
    "# Q21 a "
   ]
  },
  {
   "cell_type": "code",
   "execution_count": 225,
   "id": "9c03b30a",
   "metadata": {
    "ExecuteTime": {
     "end_time": "2022-11-14T07:35:46.968430Z",
     "start_time": "2022-11-14T07:35:46.943040Z"
    }
   },
   "outputs": [
    {
     "data": {
      "text/plain": [
       "34.422075728024666"
      ]
     },
     "execution_count": 225,
     "metadata": {},
     "output_type": "execute_result"
    }
   ],
   "source": [
    "mean_mpg"
   ]
  },
  {
   "cell_type": "code",
   "execution_count": 227,
   "id": "8ae85c91",
   "metadata": {
    "ExecuteTime": {
     "end_time": "2022-11-14T07:36:30.716496Z",
     "start_time": "2022-11-14T07:36:30.694769Z"
    }
   },
   "outputs": [
    {
     "data": {
      "text/plain": [
       "35.15272697"
      ]
     },
     "execution_count": 227,
     "metadata": {},
     "output_type": "execute_result"
    }
   ],
   "source": [
    "median_mpg = Q20['MPG'].median()\n",
    "median_mpg"
   ]
  },
  {
   "cell_type": "code",
   "execution_count": 229,
   "id": "6686bab6",
   "metadata": {
    "ExecuteTime": {
     "end_time": "2022-11-14T07:38:28.990144Z",
     "start_time": "2022-11-14T07:38:28.958278Z"
    }
   },
   "outputs": [
    {
     "data": {
      "text/plain": [
       "-0.17794674747025727"
      ]
     },
     "execution_count": 229,
     "metadata": {},
     "output_type": "execute_result"
    }
   ],
   "source": [
    "Q20['MPG'].skew()\n",
    "# very less skewness"
   ]
  },
  {
   "cell_type": "code",
   "execution_count": 231,
   "id": "f57c7db6",
   "metadata": {
    "ExecuteTime": {
     "end_time": "2022-11-14T07:57:50.268805Z",
     "start_time": "2022-11-14T07:57:50.095091Z"
    }
   },
   "outputs": [
    {
     "data": {
      "text/plain": [
       "<AxesSubplot:xlabel='MPG', ylabel='Count'>"
      ]
     },
     "execution_count": 231,
     "metadata": {},
     "output_type": "execute_result"
    },
    {
     "data": {
      "image/png": "[encoded data removed]",
      "text/plain": [
       "<Figure size 432x288 with 1 Axes>"
      ]
     },
     "metadata": {
      "needs_background": "light"
     },
     "output_type": "display_data"
    }
   ],
   "source": [
    "sns.histplot(Q20['MPG'])"
   ]
  },
  {
   "cell_type": "markdown",
   "id": "2b601985",
   "metadata": {},
   "source": [
    "# Q21 b"
   ]
  },
  {
   "cell_type": "code",
   "execution_count": 233,
   "id": "42792b6a",
   "metadata": {
    "ExecuteTime": {
     "end_time": "2022-11-14T08:04:38.918679Z",
     "start_time": "2022-11-14T08:04:38.885501Z"
    }
   },
   "outputs": [
    {
     "data": {
      "text/html": [
       "<div>\n",
       "<style scoped>\n",
       "    .dataframe tbody tr th:only-of-type {\n",
       "        vertical-align: middle;\n",
       "    }\n",
       "\n",
       "    .dataframe tbody tr th {\n",
       "        vertical-align: top;\n",
       "    }\n",
       "\n",
       "    .dataframe thead th {\n",
       "        text-align: right;\n",
       "    }\n",
       "</style>\n",
       "<table border=\"1\" class=\"dataframe\">\n",
       "  <thead>\n",
       "    <tr style=\"text-align: right;\">\n",
       "      <th></th>\n",
       "      <th>Waist</th>\n",
       "      <th>AT</th>\n",
       "    </tr>\n",
       "  </thead>\n",
       "  <tbody>\n",
       "    <tr>\n",
       "      <th>0</th>\n",
       "      <td>74.75</td>\n",
       "      <td>25.72</td>\n",
       "    </tr>\n",
       "    <tr>\n",
       "      <th>1</th>\n",
       "      <td>72.60</td>\n",
       "      <td>25.89</td>\n",
       "    </tr>\n",
       "    <tr>\n",
       "      <th>2</th>\n",
       "      <td>81.80</td>\n",
       "      <td>42.60</td>\n",
       "    </tr>\n",
       "    <tr>\n",
       "      <th>3</th>\n",
       "      <td>83.95</td>\n",
       "      <td>42.80</td>\n",
       "    </tr>\n",
       "    <tr>\n",
       "      <th>4</th>\n",
       "      <td>74.65</td>\n",
       "      <td>29.84</td>\n",
       "    </tr>\n",
       "  </tbody>\n",
       "</table>\n",
       "</div>"
      ],
      "text/plain": [
       "   Waist     AT\n",
       "0  74.75  25.72\n",
       "1  72.60  25.89\n",
       "2  81.80  42.60\n",
       "3  83.95  42.80\n",
       "4  74.65  29.84"
      ]
     },
     "execution_count": 233,
     "metadata": {},
     "output_type": "execute_result"
    }
   ],
   "source": [
    "Q21_b = pd.read_csv('wc-at.csv')\n",
    "Q21_b.head()"
   ]
  },
  {
   "cell_type": "code",
   "execution_count": 235,
   "id": "3f45a165",
   "metadata": {
    "ExecuteTime": {
     "end_time": "2022-11-14T08:06:13.966638Z",
     "start_time": "2022-11-14T08:06:13.950169Z"
    }
   },
   "outputs": [
    {
     "data": {
      "text/plain": [
       "91.90183486238533"
      ]
     },
     "execution_count": 235,
     "metadata": {},
     "output_type": "execute_result"
    }
   ],
   "source": [
    "mean_waist = Q21_b['Waist'].mean()\n",
    "mean_waist"
   ]
  },
  {
   "cell_type": "code",
   "execution_count": 238,
   "id": "d62122ae",
   "metadata": {
    "ExecuteTime": {
     "end_time": "2022-11-14T08:07:38.499019Z",
     "start_time": "2022-11-14T08:07:38.474530Z"
    }
   },
   "outputs": [
    {
     "data": {
      "text/plain": [
       "90.8"
      ]
     },
     "execution_count": 238,
     "metadata": {},
     "output_type": "execute_result"
    }
   ],
   "source": [
    "median_waist = Q21_b['Waist'].median()\n",
    "median_waist"
   ]
  },
  {
   "cell_type": "code",
   "execution_count": 237,
   "id": "fbca357e",
   "metadata": {
    "ExecuteTime": {
     "end_time": "2022-11-14T08:06:45.850340Z",
     "start_time": "2022-11-14T08:06:45.829085Z"
    }
   },
   "outputs": [
    {
     "data": {
      "text/plain": [
       "101.89403669724771"
      ]
     },
     "execution_count": 237,
     "metadata": {},
     "output_type": "execute_result"
    }
   ],
   "source": [
    "mean_AT = Q21_b['AT'].mean()\n",
    "mean_AT"
   ]
  },
  {
   "cell_type": "code",
   "execution_count": 239,
   "id": "b9b13492",
   "metadata": {
    "ExecuteTime": {
     "end_time": "2022-11-14T08:08:32.831039Z",
     "start_time": "2022-11-14T08:08:32.823473Z"
    }
   },
   "outputs": [
    {
     "data": {
      "text/plain": [
       "96.54"
      ]
     },
     "execution_count": 239,
     "metadata": {},
     "output_type": "execute_result"
    }
   ],
   "source": [
    "median_AT = Q21_b['AT'].median()\n",
    "median_AT"
   ]
  },
  {
   "cell_type": "code",
   "execution_count": 240,
   "id": "7db373c3",
   "metadata": {
    "ExecuteTime": {
     "end_time": "2022-11-14T08:09:17.586257Z",
     "start_time": "2022-11-14T08:09:17.570256Z"
    }
   },
   "outputs": [
    {
     "data": {
      "text/plain": [
       "0.1340560824786468"
      ]
     },
     "execution_count": 240,
     "metadata": {},
     "output_type": "execute_result"
    }
   ],
   "source": [
    "# skewness\n",
    "Q21_b['Waist'].skew()"
   ]
  },
  {
   "cell_type": "code",
   "execution_count": 244,
   "id": "28c9aa12",
   "metadata": {
    "ExecuteTime": {
     "end_time": "2022-11-14T08:10:25.958935Z",
     "start_time": "2022-11-14T08:10:25.886276Z"
    }
   },
   "outputs": [
    {
     "data": {
      "text/plain": [
       "0.584869324127853"
      ]
     },
     "execution_count": 244,
     "metadata": {},
     "output_type": "execute_result"
    }
   ],
   "source": [
    "Q21_b['AT'].skew()"
   ]
  },
  {
   "cell_type": "code",
   "execution_count": 242,
   "id": "27633ea1",
   "metadata": {
    "ExecuteTime": {
     "end_time": "2022-11-14T08:09:50.957965Z",
     "start_time": "2022-11-14T08:09:50.763245Z"
    }
   },
   "outputs": [
    {
     "data": {
      "text/plain": [
       "<AxesSubplot:xlabel='Waist', ylabel='Count'>"
      ]
     },
     "execution_count": 242,
     "metadata": {},
     "output_type": "execute_result"
    },
    {
     "data": {
      "image/png": "[encoded data removed]",
      "text/plain": [
       "<Figure size 432x288 with 1 Axes>"
      ]
     },
     "metadata": {
      "needs_background": "light"
     },
     "output_type": "display_data"
    }
   ],
   "source": [
    "sns.histplot(Q21_b['Waist'])"
   ]
  },
  {
   "cell_type": "code",
   "execution_count": 243,
   "id": "988a3d1b",
   "metadata": {
    "ExecuteTime": {
     "end_time": "2022-11-14T08:10:11.372272Z",
     "start_time": "2022-11-14T08:10:11.157869Z"
    }
   },
   "outputs": [
    {
     "data": {
      "text/plain": [
       "<AxesSubplot:xlabel='AT', ylabel='Count'>"
      ]
     },
     "execution_count": 243,
     "metadata": {},
     "output_type": "execute_result"
    },
    {
     "data": {
      "image/png": "[encoded data removed]",
      "text/plain": [
       "<Figure size 432x288 with 1 Axes>"
      ]
     },
     "metadata": {
      "needs_background": "light"
     },
     "output_type": "display_data"
    }
   ],
   "source": [
    "sns.histplot(Q21_b['AT'])"
   ]
  },
  {
   "cell_type": "markdown",
   "id": "e237d4a5",
   "metadata": {},
   "source": [
    "# Q22"
   ]
  },
  {
   "cell_type": "code",
   "execution_count": 246,
   "id": "c1a8857c",
   "metadata": {
    "ExecuteTime": {
     "end_time": "2022-11-14T08:14:17.292625Z",
     "start_time": "2022-11-14T08:14:17.268398Z"
    }
   },
   "outputs": [
    {
     "data": {
      "text/plain": [
       "1.2815515655446004"
      ]
     },
     "execution_count": 246,
     "metadata": {},
     "output_type": "execute_result"
    }
   ],
   "source": [
    "# Z scores of  90% confidence interval \n",
    "z_90 = stats.norm.ppf(0.90)\n",
    "z_90"
   ]
  },
  {
   "cell_type": "code",
   "execution_count": 247,
   "id": "9c69dfec",
   "metadata": {
    "ExecuteTime": {
     "end_time": "2022-11-14T08:14:23.102397Z",
     "start_time": "2022-11-14T08:14:23.076093Z"
    }
   },
   "outputs": [
    {
     "data": {
      "text/plain": [
       "1.5547735945968535"
      ]
     },
     "execution_count": 247,
     "metadata": {},
     "output_type": "execute_result"
    }
   ],
   "source": [
    "# Z scores of  94% confidence interval \n",
    "z_94 = stats.norm.ppf(0.94)\n",
    "z_94"
   ]
  },
  {
   "cell_type": "code",
   "execution_count": 248,
   "id": "a2901432",
   "metadata": {
    "ExecuteTime": {
     "end_time": "2022-11-14T08:14:29.390622Z",
     "start_time": "2022-11-14T08:14:29.374704Z"
    }
   },
   "outputs": [
    {
     "data": {
      "text/plain": [
       "0.2533471031357997"
      ]
     },
     "execution_count": 248,
     "metadata": {},
     "output_type": "execute_result"
    }
   ],
   "source": [
    "# Z scores of  60% confidence interval \n",
    "z_60 = stats.norm.ppf(0.60)\n",
    "z_60"
   ]
  },
  {
   "cell_type": "markdown",
   "id": "36481ce1",
   "metadata": {},
   "source": [
    "# Q23"
   ]
  },
  {
   "cell_type": "code",
   "execution_count": 249,
   "id": "2d00636f",
   "metadata": {
    "ExecuteTime": {
     "end_time": "2022-11-14T08:21:34.216177Z",
     "start_time": "2022-11-14T08:21:34.191909Z"
    }
   },
   "outputs": [
    {
     "data": {
      "text/plain": [
       "24"
      ]
     },
     "execution_count": 249,
     "metadata": {},
     "output_type": "execute_result"
    }
   ],
   "source": [
    "n= 25\n",
    "df = (n-1)\n",
    "df"
   ]
  },
  {
   "cell_type": "code",
   "execution_count": 254,
   "id": "b542a1cf",
   "metadata": {
    "ExecuteTime": {
     "end_time": "2022-11-14T08:24:03.103827Z",
     "start_time": "2022-11-14T08:24:03.079452Z"
    }
   },
   "outputs": [
    {
     "data": {
      "text/plain": [
       "1.7108820799094275"
      ]
     },
     "execution_count": 254,
     "metadata": {},
     "output_type": "execute_result"
    }
   ],
   "source": [
    "# t scores of  95% confidence interval \n",
    "t_95 = stats.t.ppf(0.95,df)\n",
    "t_95"
   ]
  },
  {
   "cell_type": "code",
   "execution_count": 253,
   "id": "f43b3ee3",
   "metadata": {
    "ExecuteTime": {
     "end_time": "2022-11-14T08:24:01.232077Z",
     "start_time": "2022-11-14T08:24:01.207154Z"
    }
   },
   "outputs": [
    {
     "data": {
      "text/plain": [
       "1.8280511719596342"
      ]
     },
     "execution_count": 253,
     "metadata": {},
     "output_type": "execute_result"
    }
   ],
   "source": [
    "# t scores of  96% confidence interval \n",
    "t_96= stats.t.ppf(0.96,df)\n",
    "t_96"
   ]
  },
  {
   "cell_type": "code",
   "execution_count": 252,
   "id": "4b1bf953",
   "metadata": {
    "ExecuteTime": {
     "end_time": "2022-11-14T08:23:58.637970Z",
     "start_time": "2022-11-14T08:23:58.605665Z"
    }
   },
   "outputs": [
    {
     "data": {
      "text/plain": [
       "2.4921594731575762"
      ]
     },
     "execution_count": 252,
     "metadata": {},
     "output_type": "execute_result"
    }
   ],
   "source": [
    "# t scores of  99% confidence interval \n",
    "t_99 = stats.t.ppf(0.99,df)\n",
    "t_99"
   ]
  },
  {
   "cell_type": "markdown",
   "id": "7b2e8df1",
   "metadata": {},
   "source": [
    "# Q24"
   ]
  },
  {
   "cell_type": "code",
   "execution_count": 258,
   "id": "35aae8b1",
   "metadata": {
    "ExecuteTime": {
     "end_time": "2022-11-14T08:33:29.301060Z",
     "start_time": "2022-11-14T08:33:29.284481Z"
    }
   },
   "outputs": [],
   "source": [
    "x = 260\n",
    "mean_bulb = 270\n",
    "std =90"
   ]
  },
  {
   "cell_type": "code",
   "execution_count": 260,
   "id": "de9c2f0a",
   "metadata": {
    "ExecuteTime": {
     "end_time": "2022-11-14T08:34:25.812538Z",
     "start_time": "2022-11-14T08:34:25.803158Z"
    }
   },
   "outputs": [
    {
     "data": {
      "text/plain": [
       "21.213203435596427"
      ]
     },
     "execution_count": 260,
     "metadata": {},
     "output_type": "execute_result"
    }
   ],
   "source": [
    "SE = (std)/np.sqrt(n)\n",
    "SE"
   ]
  },
  {
   "cell_type": "code",
   "execution_count": 255,
   "id": "0c84b021",
   "metadata": {
    "ExecuteTime": {
     "end_time": "2022-11-14T08:29:05.859125Z",
     "start_time": "2022-11-14T08:29:05.834766Z"
    }
   },
   "outputs": [
    {
     "data": {
      "text/plain": [
       "17"
      ]
     },
     "execution_count": 255,
     "metadata": {},
     "output_type": "execute_result"
    }
   ],
   "source": [
    "n = 18\n",
    "df = (n-1)\n",
    "df"
   ]
  },
  {
   "cell_type": "code",
   "execution_count": null,
   "id": "04bd6269",
   "metadata": {},
   "outputs": [],
   "source": []
  },
  {
   "cell_type": "code",
   "execution_count": 271,
   "id": "1795612b",
   "metadata": {
    "ExecuteTime": {
     "end_time": "2022-11-14T08:57:05.765551Z",
     "start_time": "2022-11-14T08:57:05.753578Z"
    }
   },
   "outputs": [
    {
     "data": {
      "text/plain": [
       "-0.4714045207910317"
      ]
     },
     "execution_count": 271,
     "metadata": {},
     "output_type": "execute_result"
    }
   ],
   "source": [
    "# t score\n",
    "t = (x-mean_bulb)/SE\n",
    "t"
   ]
  },
  {
   "cell_type": "code",
   "execution_count": 274,
   "id": "453eba5b",
   "metadata": {
    "ExecuteTime": {
     "end_time": "2022-11-14T09:00:53.420350Z",
     "start_time": "2022-11-14T09:00:53.388660Z"
    }
   },
   "outputs": [
    {
     "data": {
      "text/plain": [
       "0.32167253567098364"
      ]
     },
     "execution_count": 274,
     "metadata": {},
     "output_type": "execute_result"
    }
   ],
   "source": [
    "# probability of t score \n",
    "stats.t.sf(abs(t),df)"
   ]
  }
 ],
 "metadata": {
  "kernelspec": {
   "display_name": "Python 3 (ipykernel)",
   "language": "python",
   "name": "python3"
  },
  "language_info": {
   "codemirror_mode": {
    "name": "ipython",
    "version": 3
   },
   "file_extension": ".py",
   "mimetype": "text/x-python",
   "name": "python",
   "nbconvert_exporter": "python",
   "pygments_lexer": "ipython3",
   "version": "3.9.12"
  }
 },
 "nbformat": 4,
 "nbformat_minor": 5
}
